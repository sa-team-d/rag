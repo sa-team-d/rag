{
 "cells": [
  {
   "cell_type": "code",
   "execution_count": 18,
   "metadata": {},
   "outputs": [],
   "source": [
    "import os\n",
    "import json\n",
    "from pathlib import Path\n",
    "from llama_index.llms.ollama import Ollama\n",
    "from llama_index.core import VectorStoreIndex\n",
    "from llama_index.core.embeddings import resolve_embed_model\n",
    "from llama_index.readers.json import JSONReader\n",
    "from llama_index.core.node_parser import JSONNodeParser\n",
    "from llama_index.readers.file import FlatReader"
   ]
  },
  {
   "cell_type": "code",
   "execution_count": 19,
   "metadata": {},
   "outputs": [],
   "source": [
    "from sqlalchemy import make_url\n",
    "from llama_index.vector_stores.postgres import PGVectorStore\n",
    "\n",
    "db_name = \"vector_db\"\n",
    "host = \"localhost\"\n",
    "password = \"password\"\n",
    "port = \"5432\"\n",
    "user = \"lavo\" #<-------------------------------------------- change this to your username !!!\n",
    "\n",
    "vector_store = PGVectorStore.from_params(\n",
    "    database=db_name,\n",
    "    host=host,\n",
    "    password=password,\n",
    "    port=port,\n",
    "    user=user,\n",
    "    table_name=\"json_data\",\n",
    "    embed_dim=1024,  # openai embedding dimension\n",
    ")"
   ]
  },
  {
   "cell_type": "code",
   "execution_count": 20,
   "metadata": {},
   "outputs": [],
   "source": [
    "# parser = JSONNodeParser()     # if we want to split the documents into nodes\n",
    "llm = Ollama(model=\"llama3.2\", request_timeout=180.0) "
   ]
  },
  {
   "cell_type": "markdown",
   "metadata": {},
   "source": [
    "# retrieving from existing db (if we already have the embeddings)"
   ]
  },
  {
   "cell_type": "code",
   "execution_count": 21,
   "metadata": {},
   "outputs": [],
   "source": [
    "vector_store = PGVectorStore.from_params(\n",
    "    database=db_name,\n",
    "    host=host,\n",
    "    password=password,\n",
    "    port=port,\n",
    "    user=user,\n",
    "    table_name=\"json_data\",\n",
    "    embed_dim=1024,  # openai embedding dimension\n",
    ")"
   ]
  },
  {
   "cell_type": "code",
   "execution_count": 22,
   "metadata": {},
   "outputs": [],
   "source": [
    "from llama_index.core.schema import NodeWithScore\n",
    "from llama_index.core import QueryBundle\n",
    "from llama_index.core.retrievers import BaseRetriever\n",
    "from typing import Any, List\n",
    "\n",
    "\n",
    "class VectorDBRetriever(BaseRetriever):\n",
    "    \"\"\"Retriever over a postgres vector store.\"\"\"\n",
    "\n",
    "    def __init__(\n",
    "        self,\n",
    "        vector_store: PGVectorStore,\n",
    "        embed_model: Any,\n",
    "        query_mode: str = \"default\",\n",
    "        similarity_top_k: int = 2,\n",
    "    ) -> None:\n",
    "        \"\"\"Init params.\"\"\"\n",
    "        self._vector_store = vector_store\n",
    "        self._embed_model = embed_model\n",
    "        self._query_mode = query_mode\n",
    "        self._similarity_top_k = similarity_top_k\n",
    "        super().__init__()\n",
    "\n",
    "    def _retrieve(self, query_bundle: QueryBundle) -> List[NodeWithScore]:\n",
    "        \"\"\"Retrieve.\"\"\"\n",
    "        query_embedding = embed_model.get_query_embedding(\n",
    "            query_bundle.query_str\n",
    "        )\n",
    "        vector_store_query = VectorStoreQuery(\n",
    "            query_embedding=query_embedding,\n",
    "            similarity_top_k=self._similarity_top_k,\n",
    "            mode=self._query_mode,\n",
    "        )\n",
    "        query_result = vector_store.query(vector_store_query)\n",
    "\n",
    "        nodes_with_scores = []\n",
    "        for index, node in enumerate(query_result.nodes):\n",
    "            score: Optional[float] = None\n",
    "            if query_result.similarities is not None:\n",
    "                score = query_result.similarities[index]\n",
    "            nodes_with_scores.append(NodeWithScore(node=node, score=score))\n",
    "\n",
    "        return nodes_with_scores"
   ]
  },
  {
   "cell_type": "code",
   "execution_count": 23,
   "metadata": {},
   "outputs": [],
   "source": [
    "embed_model = resolve_embed_model(\"local:BAAI/bge-m3\")"
   ]
  },
  {
   "cell_type": "code",
   "execution_count": 24,
   "metadata": {},
   "outputs": [],
   "source": [
    "retriever = VectorDBRetriever(\n",
    "    vector_store, embed_model, query_mode=\"default\", similarity_top_k=14\n",
    ")"
   ]
  },
  {
   "cell_type": "markdown",
   "metadata": {},
   "source": [
    "# VectorStoreQuery is defined using this query embedding"
   ]
  },
  {
   "cell_type": "code",
   "execution_count": 25,
   "metadata": {},
   "outputs": [],
   "source": [
    "query_str = \"General Summarized Overview Large Capacity Cutting Machine 2?\"\n",
    "\n",
    "query_embedding = embed_model.get_query_embedding(query_str)"
   ]
  },
  {
   "cell_type": "code",
   "execution_count": 26,
   "metadata": {},
   "outputs": [],
   "source": [
    "# construct vector store query\n",
    "from llama_index.core.vector_stores import VectorStoreQuery\n",
    "\n",
    "query_mode = \"default\"\n",
    "# query_mode = \"sparse\"\n",
    "# query_mode = \"hybrid\"\n",
    "\n",
    "vector_store_query = VectorStoreQuery(\n",
    "    query_embedding=query_embedding, similarity_top_k=2, mode=query_mode\n",
    ")"
   ]
  },
  {
   "cell_type": "code",
   "execution_count": 27,
   "metadata": {},
   "outputs": [],
   "source": [
    "from llama_index.core.query_engine import RetrieverQueryEngine\n",
    "\n",
    "query_engine = RetrieverQueryEngine.from_args(retriever, llm=llm)"
   ]
  },
  {
   "cell_type": "code",
   "execution_count": 28,
   "metadata": {},
   "outputs": [],
   "source": [
    "query_str = \"Hello\""
   ]
  },
  {
   "cell_type": "markdown",
   "metadata": {},
   "source": [
    "## to run this i need a VectorStoreQuery.. we need to explain what is it"
   ]
  },
  {
   "cell_type": "code",
   "execution_count": 29,
   "metadata": {},
   "outputs": [],
   "source": [
    "response = query_engine.query(query_str)"
   ]
  },
  {
   "cell_type": "code",
   "execution_count": 30,
   "metadata": {},
   "outputs": [
    {
     "name": "stdout",
     "output_type": "stream",
     "text": [
      "It seems like you're greeting. How can I assist you today?\n"
     ]
    }
   ],
   "source": [
    "print(response)"
   ]
  },
  {
   "cell_type": "markdown",
   "metadata": {},
   "source": [
    "# API test"
   ]
  },
  {
   "cell_type": "code",
   "execution_count": null,
   "metadata": {},
   "outputs": [
    {
     "name": "stdout",
     "output_type": "stream",
     "text": [
      "<Response [403]>\n",
      "{'detail': 'Not authenticated'}\n"
     ]
    }
   ],
   "source": [
    "import requests"
   ]
  },
  {
   "cell_type": "code",
   "execution_count": 35,
   "metadata": {},
   "outputs": [
    {
     "name": "stdout",
     "output_type": "stream",
     "text": [
      "<Response [403]>\n",
      "{'detail': 'Not authenticated'}\n"
     ]
    }
   ],
   "source": [
    "url_user = 'https://api-656930476914.europe-west1.run.app/api/v1.0/user/'\n",
    "\n",
    "# Make the GET request\n",
    "response = requests.get(url_user)\n",
    "\n",
    "data = response.json()\n",
    "print(response)\n",
    "print(data)"
   ]
  },
  {
   "cell_type": "code",
   "execution_count": null,
   "metadata": {},
   "outputs": [],
   "source": [
    "from requests.auth import HTTPBasicAuth\n",
    "# bho non va ma se li metto manualmente nell'url funziona.\n",
    "user = \"ffm@example.com\"\n",
    "password = \"passwordffm\"\n",
    "#response = requests.get(url, auth=HTTPBasicAuth(user, password))\n"
   ]
  },
  {
   "cell_type": "code",
   "execution_count": 55,
   "metadata": {},
   "outputs": [
    {
     "name": "stdout",
     "output_type": "stream",
     "text": [
      "<Response [200]>\n"
     ]
    }
   ],
   "source": [
    "url_login = 'https://api-656930476914.europe-west1.run.app/api/v1.0/user/login?email=ffm%40example.com&password=passwordffm'\n",
    "\n",
    "# Make the POST request\n",
    "response = requests.post(url_login)\n",
    "\n",
    "data = response.json()\n",
    "print(response)\n"
   ]
  },
  {
   "cell_type": "code",
   "execution_count": 56,
   "metadata": {},
   "outputs": [],
   "source": [
    "token = data['id_token']"
   ]
  },
  {
   "cell_type": "code",
   "execution_count": 58,
   "metadata": {},
   "outputs": [
    {
     "name": "stdout",
     "output_type": "stream",
     "text": [
      "<Response [200]>\n",
      "[{'_id': '673a6ad2d9e0b151b88cbed0', 'name': 'working_time', 'type': 'placeholder', 'description': 'placeholder', 'unite_of_measure': 'placeholder'}, {'_id': '673a6ad2d9e0b151b88cbed1', 'name': 'idle_time', 'type': 'placeholder', 'description': 'placeholder', 'unite_of_measure': 'placeholder'}, {'_id': '673a6ad3d9e0b151b88cbed2', 'name': 'offline_time', 'type': 'placeholder', 'description': 'placeholder', 'unite_of_measure': 'placeholder'}, {'_id': '673a6ad3d9e0b151b88cbed3', 'name': 'consumption', 'type': 'placeholder', 'description': 'placeholder', 'unite_of_measure': 'placeholder'}, {'_id': '673a6ad4d9e0b151b88cbed4', 'name': 'power', 'type': 'placeholder', 'description': 'placeholder', 'unite_of_measure': 'placeholder'}, {'_id': '673a6ad4d9e0b151b88cbed5', 'name': 'consumption_working', 'type': 'placeholder', 'description': 'placeholder', 'unite_of_measure': 'placeholder'}, {'_id': '673a6ad4d9e0b151b88cbed6', 'name': 'consumption_idle', 'type': 'placeholder', 'description': 'placeholder', 'unite_of_measure': 'placeholder'}, {'_id': '673a6ad5d9e0b151b88cbed7', 'name': 'cost', 'type': 'placeholder', 'description': 'placeholder', 'unite_of_measure': 'placeholder'}, {'_id': '673a6ad5d9e0b151b88cbed8', 'name': 'cost_working', 'type': 'placeholder', 'description': 'placeholder', 'unite_of_measure': 'placeholder'}, {'_id': '673a6ad5d9e0b151b88cbed9', 'name': 'cost_idle', 'type': 'placeholder', 'description': 'placeholder', 'unite_of_measure': 'placeholder'}, {'_id': '673a6ad6d9e0b151b88cbeda', 'name': 'cycles', 'type': 'placeholder', 'description': 'placeholder', 'unite_of_measure': 'placeholder'}, {'_id': '673a6ad7d9e0b151b88cbedb', 'name': 'good_cycles', 'type': 'placeholder', 'description': 'placeholder', 'unite_of_measure': 'placeholder'}, {'_id': '673a6ad8d9e0b151b88cbedc', 'name': 'bad_cycles', 'type': 'placeholder', 'description': 'placeholder', 'unite_of_measure': 'placeholder'}, {'_id': '673a6ad8d9e0b151b88cbedd', 'name': 'average_cycle_time', 'type': 'placeholder', 'description': 'placeholder', 'unite_of_measure': 'placeholder'}, {'_id': '673bbe22e43b19fac8d26d94', 'name': 'working_ratio', 'type': 'placeholder', 'description': 'placeholder', 'unite_of_measure': 'placeholder'}, {'_id': '673c80f2d688f1ba31c15ca6', 'name': 'energy_efficiency', 'type': 'placeholder', 'description': 'placeholder', 'unite_of_measure': 'placeholder'}]\n"
     ]
    }
   ],
   "source": [
    "url = 'https://api-656930476914.europe-west1.run.app/api/v1.0/kpi/'\n",
    "\n",
    "headers = {\n",
    "    'Authorization': f'Bearer {token}'\n",
    "}\n",
    "\n",
    "# Make the GET request\n",
    "response = requests.get(url, headers=headers)\n",
    "\n",
    "data = response.json()\n",
    "print(response)\n",
    "print(data)"
   ]
  },
  {
   "cell_type": "code",
   "execution_count": 59,
   "metadata": {},
   "outputs": [
    {
     "data": {
      "text/plain": [
       "[{'_id': '673a6ad2d9e0b151b88cbed0',\n",
       "  'name': 'working_time',\n",
       "  'type': 'placeholder',\n",
       "  'description': 'placeholder',\n",
       "  'unite_of_measure': 'placeholder'},\n",
       " {'_id': '673a6ad2d9e0b151b88cbed1',\n",
       "  'name': 'idle_time',\n",
       "  'type': 'placeholder',\n",
       "  'description': 'placeholder',\n",
       "  'unite_of_measure': 'placeholder'},\n",
       " {'_id': '673a6ad3d9e0b151b88cbed2',\n",
       "  'name': 'offline_time',\n",
       "  'type': 'placeholder',\n",
       "  'description': 'placeholder',\n",
       "  'unite_of_measure': 'placeholder'},\n",
       " {'_id': '673a6ad3d9e0b151b88cbed3',\n",
       "  'name': 'consumption',\n",
       "  'type': 'placeholder',\n",
       "  'description': 'placeholder',\n",
       "  'unite_of_measure': 'placeholder'},\n",
       " {'_id': '673a6ad4d9e0b151b88cbed4',\n",
       "  'name': 'power',\n",
       "  'type': 'placeholder',\n",
       "  'description': 'placeholder',\n",
       "  'unite_of_measure': 'placeholder'},\n",
       " {'_id': '673a6ad4d9e0b151b88cbed5',\n",
       "  'name': 'consumption_working',\n",
       "  'type': 'placeholder',\n",
       "  'description': 'placeholder',\n",
       "  'unite_of_measure': 'placeholder'},\n",
       " {'_id': '673a6ad4d9e0b151b88cbed6',\n",
       "  'name': 'consumption_idle',\n",
       "  'type': 'placeholder',\n",
       "  'description': 'placeholder',\n",
       "  'unite_of_measure': 'placeholder'},\n",
       " {'_id': '673a6ad5d9e0b151b88cbed7',\n",
       "  'name': 'cost',\n",
       "  'type': 'placeholder',\n",
       "  'description': 'placeholder',\n",
       "  'unite_of_measure': 'placeholder'},\n",
       " {'_id': '673a6ad5d9e0b151b88cbed8',\n",
       "  'name': 'cost_working',\n",
       "  'type': 'placeholder',\n",
       "  'description': 'placeholder',\n",
       "  'unite_of_measure': 'placeholder'},\n",
       " {'_id': '673a6ad5d9e0b151b88cbed9',\n",
       "  'name': 'cost_idle',\n",
       "  'type': 'placeholder',\n",
       "  'description': 'placeholder',\n",
       "  'unite_of_measure': 'placeholder'},\n",
       " {'_id': '673a6ad6d9e0b151b88cbeda',\n",
       "  'name': 'cycles',\n",
       "  'type': 'placeholder',\n",
       "  'description': 'placeholder',\n",
       "  'unite_of_measure': 'placeholder'},\n",
       " {'_id': '673a6ad7d9e0b151b88cbedb',\n",
       "  'name': 'good_cycles',\n",
       "  'type': 'placeholder',\n",
       "  'description': 'placeholder',\n",
       "  'unite_of_measure': 'placeholder'},\n",
       " {'_id': '673a6ad8d9e0b151b88cbedc',\n",
       "  'name': 'bad_cycles',\n",
       "  'type': 'placeholder',\n",
       "  'description': 'placeholder',\n",
       "  'unite_of_measure': 'placeholder'},\n",
       " {'_id': '673a6ad8d9e0b151b88cbedd',\n",
       "  'name': 'average_cycle_time',\n",
       "  'type': 'placeholder',\n",
       "  'description': 'placeholder',\n",
       "  'unite_of_measure': 'placeholder'},\n",
       " {'_id': '673bbe22e43b19fac8d26d94',\n",
       "  'name': 'working_ratio',\n",
       "  'type': 'placeholder',\n",
       "  'description': 'placeholder',\n",
       "  'unite_of_measure': 'placeholder'},\n",
       " {'_id': '673c80f2d688f1ba31c15ca6',\n",
       "  'name': 'energy_efficiency',\n",
       "  'type': 'placeholder',\n",
       "  'description': 'placeholder',\n",
       "  'unite_of_measure': 'placeholder'}]"
      ]
     },
     "execution_count": 59,
     "metadata": {},
     "output_type": "execute_result"
    }
   ],
   "source": [
    "data"
   ]
  }
 ],
 "metadata": {
  "kernelspec": {
   "display_name": ".venv",
   "language": "python",
   "name": "python3"
  },
  "language_info": {
   "codemirror_mode": {
    "name": "ipython",
    "version": 3
   },
   "file_extension": ".py",
   "mimetype": "text/x-python",
   "name": "python",
   "nbconvert_exporter": "python",
   "pygments_lexer": "ipython3",
   "version": "3.12.0"
  }
 },
 "nbformat": 4,
 "nbformat_minor": 2
}
