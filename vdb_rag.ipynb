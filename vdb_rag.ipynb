{
 "cells": [
  {
   "cell_type": "markdown",
   "id": "cb47fc14",
   "metadata": {},
   "source": [
    "## single file retrieving"
   ]
  },
  {
   "cell_type": "code",
   "execution_count": 13,
   "id": "3ea8ce12-667d-48f7-af16-505940eed61c",
   "metadata": {},
   "outputs": [],
   "source": [
    "def retrieve_data(query):\n",
    "    # right now this function doesn't use the query, but it could be used to filter the data later...\n",
    "    with open(DATA_PATH, 'r') as file:\n",
    "        file_content = file.read()\n",
    "    return file_content\n",
    "    \n",
    "# Step 3: Define the RAG pipeline with retrieval and generation\n",
    "def rag_pipeline(query):\n",
    "    # Retrieve relevant documents\n",
    "    # retrieved_docs = [retrieve_data(query)]\n",
    "    data = \"\"\n",
    "    data = retrieve_data(query)\n",
    "    # Build the prompt with the retrieved documents\n",
    "    prompt = PROMPT + data + query\n",
    "    # print(prompt)\n",
    "    # Generate the response with Ollama  \n",
    "    response = llm.complete(prompt)\n",
    "    return response  # Extracting the generated answer text"
   ]
  },
  {
   "cell_type": "code",
   "execution_count": null,
   "id": "63a1c691-e98b-44f2-898f-d682a9503cb1",
   "metadata": {},
   "outputs": [],
   "source": [
    "# Test the RAG pipeline\n",
    "# query = \"Give me insight about the main KPIs?\"\n",
    "\n",
    "query = \"Hello\"\n",
    "\n",
    "answer = rag_pipeline(query)\n",
    "print(answer)"
   ]
  },
  {
   "cell_type": "code",
   "execution_count": null,
   "id": "837378df-c795-4b38-8bf9-ea827db5ceee",
   "metadata": {},
   "outputs": [],
   "source": [
    "query = \"Which is your favourite machine?\"\n",
    "\n",
    "answer = rag_pipeline(query)\n",
    "print(answer)"
   ]
  },
  {
   "cell_type": "markdown",
   "id": "f4d997a6",
   "metadata": {},
   "source": [
    "## multi-file delivery"
   ]
  },
  {
   "cell_type": "code",
   "execution_count": 1,
   "id": "d6dd09bd",
   "metadata": {},
   "outputs": [],
   "source": [
    "def retrieve_data(query):\n",
    "    # Aggregate data from all JSON files in the specified directory\n",
    "    data_content = \"\"\n",
    "    for filename in os.listdir(DATA_DIR):\n",
    "        if filename.endswith(\".json\"):\n",
    "            file_path = os.path.join(DATA_DIR, filename)\n",
    "            with open(file_path, 'r') as file:\n",
    "                file_content = file.read()\n",
    "                data_content += file_content + \"\\n\"  # Append content from each file\n",
    "    return data_content\n",
    "\n",
    "# Define the RAG pipeline with retrieval and generation\n",
    "def rag_pipeline(query):\n",
    "    # Retrieve relevant documents from all JSON files\n",
    "    data = retrieve_data(query)\n",
    "    \n",
    "    # Build the prompt with the retrieved documents\n",
    "    prompt = PROMPT + data + query\n",
    "    # Generate the response with Ollama\n",
    "    response = llm.complete(prompt)\n",
    "    return response  # Extracting the generated answer text"
   ]
  },
  {
   "cell_type": "code",
   "execution_count": 2,
   "id": "cd994718",
   "metadata": {},
   "outputs": [
    {
     "ename": "NameError",
     "evalue": "name 'os' is not defined",
     "output_type": "error",
     "traceback": [
      "\u001b[1;31m---------------------------------------------------------------------------\u001b[0m",
      "\u001b[1;31mNameError\u001b[0m                                 Traceback (most recent call last)",
      "Cell \u001b[1;32mIn[2], line 6\u001b[0m\n\u001b[0;32m      1\u001b[0m \u001b[38;5;66;03m# Test the RAG pipeline\u001b[39;00m\n\u001b[0;32m      2\u001b[0m \u001b[38;5;66;03m# query = \"Give me insight about the main KPIs?\"\u001b[39;00m\n\u001b[0;32m      4\u001b[0m query \u001b[38;5;241m=\u001b[39m \u001b[38;5;124m\"\u001b[39m\u001b[38;5;124mHello, i have  a working_time on Large cutting machine 1 of 334, is it good?\u001b[39m\u001b[38;5;124m\"\u001b[39m\n\u001b[1;32m----> 6\u001b[0m answer \u001b[38;5;241m=\u001b[39m \u001b[43mrag_pipeline\u001b[49m\u001b[43m(\u001b[49m\u001b[43mquery\u001b[49m\u001b[43m)\u001b[49m\n\u001b[0;32m      7\u001b[0m \u001b[38;5;28mprint\u001b[39m(answer)\n",
      "Cell \u001b[1;32mIn[1], line 15\u001b[0m, in \u001b[0;36mrag_pipeline\u001b[1;34m(query)\u001b[0m\n\u001b[0;32m     13\u001b[0m \u001b[38;5;28;01mdef\u001b[39;00m \u001b[38;5;21mrag_pipeline\u001b[39m(query):\n\u001b[0;32m     14\u001b[0m     \u001b[38;5;66;03m# Retrieve relevant documents from all JSON files\u001b[39;00m\n\u001b[1;32m---> 15\u001b[0m     data \u001b[38;5;241m=\u001b[39m \u001b[43mretrieve_data\u001b[49m\u001b[43m(\u001b[49m\u001b[43mquery\u001b[49m\u001b[43m)\u001b[49m\n\u001b[0;32m     17\u001b[0m     \u001b[38;5;66;03m# Build the prompt with the retrieved documents\u001b[39;00m\n\u001b[0;32m     18\u001b[0m     prompt \u001b[38;5;241m=\u001b[39m PROMPT \u001b[38;5;241m+\u001b[39m data \u001b[38;5;241m+\u001b[39m query\n",
      "Cell \u001b[1;32mIn[1], line 4\u001b[0m, in \u001b[0;36mretrieve_data\u001b[1;34m(query)\u001b[0m\n\u001b[0;32m      1\u001b[0m \u001b[38;5;28;01mdef\u001b[39;00m \u001b[38;5;21mretrieve_data\u001b[39m(query):\n\u001b[0;32m      2\u001b[0m     \u001b[38;5;66;03m# Aggregate data from all JSON files in the specified directory\u001b[39;00m\n\u001b[0;32m      3\u001b[0m     data_content \u001b[38;5;241m=\u001b[39m \u001b[38;5;124m\"\u001b[39m\u001b[38;5;124m\"\u001b[39m\n\u001b[1;32m----> 4\u001b[0m     \u001b[38;5;28;01mfor\u001b[39;00m filename \u001b[38;5;129;01min\u001b[39;00m \u001b[43mos\u001b[49m\u001b[38;5;241m.\u001b[39mlistdir(DATA_DIR):\n\u001b[0;32m      5\u001b[0m         \u001b[38;5;28;01mif\u001b[39;00m filename\u001b[38;5;241m.\u001b[39mendswith(\u001b[38;5;124m\"\u001b[39m\u001b[38;5;124m.json\u001b[39m\u001b[38;5;124m\"\u001b[39m):\n\u001b[0;32m      6\u001b[0m             file_path \u001b[38;5;241m=\u001b[39m os\u001b[38;5;241m.\u001b[39mpath\u001b[38;5;241m.\u001b[39mjoin(DATA_DIR, filename)\n",
      "\u001b[1;31mNameError\u001b[0m: name 'os' is not defined"
     ]
    }
   ],
   "source": [
    "# Test the RAG pipeline\n",
    "# query = \"Give me insight about the main KPIs?\"\n",
    "\n",
    "query = \"Hello, i have  a working_time on Large cutting machine 1 of 334, is it good?\"\n",
    "\n",
    "answer = rag_pipeline(query)\n",
    "print(answer)"
   ]
  },
  {
   "cell_type": "markdown",
   "id": "c3734324",
   "metadata": {},
   "source": [
    "# notebooking the script.............\n"
   ]
  },
  {
   "cell_type": "code",
   "execution_count": 1,
   "id": "1ce9dcde",
   "metadata": {},
   "outputs": [],
   "source": [
    "import os\n",
    "from pathlib import Path\n",
    "from llama_index.llms.ollama import Ollama\n",
    "from llama_index.core import VectorStoreIndex\n",
    "from llama_index.core.embeddings import resolve_embed_model\n",
    "from llama_index.readers.json import JSONReader\n",
    "from llama_index.core.node_parser import JSONNodeParser\n",
    "from llama_index.readers.file import FlatReader"
   ]
  },
  {
   "cell_type": "code",
   "execution_count": 2,
   "id": "04175eb0",
   "metadata": {},
   "outputs": [],
   "source": [
    "# DATA_PATH = \"./data/tmp/\"\n",
    "\n",
    "DATA_PATH = \"./data/\"\n",
    "\n",
    "PROMPT = \"\"\"\n",
    "Data Structure Overview\n",
    "\n",
    "Machines\n",
    "The dataset includes data from 16 distinct machines used in various manufacturing processes. Machines are categorized as follows:\n",
    "\n",
    "Metal Cutting Machines\n",
    "Large Capacity Cutting Machine 1\n",
    "Large Capacity Cutting Machine 2\n",
    "Medium Capacity Cutting Machine 1\n",
    "Medium Capacity Cutting Machine 2\n",
    "Medium Capacity Cutting Machine 3\n",
    "Low Capacity Cutting Machine 1\n",
    "\n",
    "Laser Welding Machines\n",
    "Laser Welding Machine 1\n",
    "Laser Welding Machine 2\n",
    "\n",
    "Assembly Machines\n",
    "Assembly Machine 1\n",
    "Assembly Machine 2\n",
    "Assembly Machine 3\n",
    "\n",
    "Testing Machines\n",
    "Testing Machine 1\n",
    "Testing Machine 2\n",
    "Testing Machine 3\n",
    "\n",
    "Other Machines\n",
    "Riveting Machine\n",
    "Laser Cutter\n",
    "\n",
    "Key Performance Indicators (KPIs)\n",
    "The data captures 12 KPIs, classified by their focus area:\n",
    "\n",
    "Time-Related KPIs\n",
    "working_time: seconds of active machine operation\n",
    "idle_time: seconds when machine is idle\n",
    "offline_time: seconds when machine is offline\n",
    "\n",
    "Energy and Cost-Related KPIs\n",
    "consumption: total energy consumption (kWh)\n",
    "power: energy power rating (kW)\n",
    "cost: energy cost (euro per kWh)\n",
    "consumption_working: energy consumed during active operation (kWh)\n",
    "consumption_idle: energy consumed while idle (kWh)\n",
    "\n",
    "Production-Related KPIs\n",
    "cycles: total production cycles\n",
    "good_cycles: number of successful cycles\n",
    "bad_cycles: number of defective cycles\n",
    "average_cycle_time: average time per cycle (seconds)\n",
    "\"\"\"\n",
    "# setting up reader, parser, and llm\n",
    "reader = JSONReader()\n",
    "# parser = JSONNodeParser()     # if we want to split the documents into nodes\n",
    "llm = Ollama(model=\"mistral\", request_timeout=60.0)"
   ]
  },
  {
   "cell_type": "code",
   "execution_count": 3,
   "id": "870b8eb8",
   "metadata": {},
   "outputs": [],
   "source": [
    "\n",
    "# creating the documents out of the json files\n",
    "documents = []\n",
    "for filename in os.listdir(DATA_PATH):\n",
    "    if filename.endswith(\".json\"):\n",
    "        file_path = os.path.join(DATA_PATH, filename)\n",
    "        #documents.extend(FlatReader().load_data(Path(file_path)))     # if we want to load the data to then split it into nodes\n",
    "        documents.extend(reader.load_data(input_file=file_path))\n",
    "\n",
    "# nodes = parser.get_nodes_from_documents(documents)            # if we want to split documents into nodes\n"
   ]
  },
  {
   "cell_type": "code",
   "execution_count": 4,
   "id": "69977c84",
   "metadata": {},
   "outputs": [],
   "source": [
    "parser = JSONNodeParser()\n",
    "\n",
    "nodes = parser.get_nodes_from_documents(documents)"
   ]
  },
  {
   "cell_type": "code",
   "execution_count": 5,
   "id": "b6b3d6bb",
   "metadata": {},
   "outputs": [
    {
     "data": {
      "text/plain": [
       "[Document(id_='1ffa374f-f044-496e-bcc8-5a9851cc47f7', embedding=None, metadata={}, excluded_embed_metadata_keys=[], excluded_llm_metadata_keys=[], relationships={}, text='\"kpi\": {\\n\"consumption\": {\\n\"average\": [\\n\"machine\": \"Assembly Machine 1\",\\n\"month\": \"2024-03\",\\n\"value\": 0.0\\n\"machine\": \"Assembly Machine 2\",\\n\"month\": \"2024-03\",\\n\"value\": 0.0\\n\"machine\": \"Assembly Machine 3\",\\n\"month\": \"2024-03\",\\n\"value\": 0.0\\n\"machine\": \"Large Capacity Cutting Machine 1\",\\n\"month\": \"2024-03\",\\n\"value\": 0.0013015137854767644\\n\"machine\": \"Large Capacity Cutting Machine 2\",\\n\"month\": \"2024-03\",\\n\"value\": 0.0009502908983908073\\n\"min\": [\\n\"machine\": \"Assembly Machine 1\",\\n\"month\": \"2024-03\",\\n\"value\": 0.0\\n\"machine\": \"Assembly Machine 2\",\\n\"month\": \"2024-03\",\\n\"value\": 0.0\\n\"machine\": \"Assembly Machine 3\",\\n\"month\": \"2024-03\",\\n\"value\": 0.0\\n\"machine\": \"Large Capacity Cutting Machine 1\",\\n\"month\": \"2024-03\",\\n\"value\": 0.0\\n\"machine\": \"Large Capacity Cutting Machine 2\",\\n\"month\": \"2024-03\",\\n\"value\": 0.0\\n\"max\": [\\n\"machine\": \"Assembly Machine 1\",\\n\"month\": \"2024-03\",\\n\"value\": 0.0\\n\"machine\": \"Assembly Machine 2\",\\n\"month\": \"2024-03\",\\n\"value\": 0.0\\n\"machine\": \"Assembly Machine 3\",\\n\"month\": \"2024-03\",\\n\"value\": 0.0\\n\"machine\": \"Large Capacity Cutting Machine 1\",\\n\"month\": \"2024-03\",\\n\"value\": 0.09477750094431775\\n\"machine\": \"Large Capacity Cutting Machine 2\",\\n\"month\": \"2024-03\",\\n\"value\": 0.15497427194254568\\n\"consumption_idle\": {\\n\"average\": [\\n\"machine\": \"Assembly Machine 1\",\\n\"month\": \"2024-03\",\\n\"value\": 0.0\\n\"machine\": \"Assembly Machine 2\",\\n\"month\": \"2024-03\",\\n\"value\": 0.0\\n\"machine\": \"Assembly Machine 3\",\\n\"month\": \"2024-03\",\\n\"value\": 0.0\\n\"machine\": \"Large Capacity Cutting Machine 1\",\\n\"month\": \"2024-03\",\\n\"value\": 0.0004203452003983412\\n\"machine\": \"Large Capacity Cutting Machine 2\",\\n\"month\": \"2024-03\",\\n\"value\": 0.0006513621264504764\\n\"min\": [\\n\"machine\": \"Assembly Machine 1\",\\n\"month\": \"2024-03\",\\n\"value\": 0.0\\n\"machine\": \"Assembly Machine 2\",\\n\"month\": \"2024-03\",\\n\"value\": 0.0\\n\"machine\": \"Assembly Machine 3\",\\n\"month\": \"2024-03\",\\n\"value\": 0.0\\n\"machine\": \"Large Capacity Cutting Machine 1\",\\n\"month\": \"2024-03\",\\n\"value\": 0.0\\n\"machine\": \"Large Capacity Cutting Machine 2\",\\n\"month\": \"2024-03\",\\n\"value\": 0.0\\n\"max\": [\\n\"machine\": \"Assembly Machine 1\",\\n\"month\": \"2024-03\",\\n\"value\": 0.0\\n\"machine\": \"Assembly Machine 2\",\\n\"month\": \"2024-03\",\\n\"value\": 0.0\\n\"machine\": \"Assembly Machine 3\",\\n\"month\": \"2024-03\",\\n\"value\": 0.0\\n\"machine\": \"Large Capacity Cutting Machine 1\",\\n\"month\": \"2024-03\",\\n\"value\": 0.0024920118485895794\\n\"machine\": \"Large Capacity Cutting Machine 2\",\\n\"month\": \"2024-03\",\\n\"value\": 0.03249318468435469\\n\"consumption_working\": {\\n\"average\": [\\n\"machine\": \"Assembly Machine 1\",\\n\"month\": \"2024-03\",\\n\"value\": 0.0\\n\"machine\": \"Assembly Machine 2\",\\n\"month\": \"2024-03\",\\n\"value\": 0.0\\n\"machine\": \"Assembly Machine 3\",\\n\"month\": \"2024-03\",\\n\"value\": 0.0\\n\"machine\": \"Large Capacity Cutting Machine 1\",\\n\"month\": \"2024-03\",\\n\"value\": 0.0021111835419563543\\n\"machine\": \"Large Capacity Cutting Machine 2\",\\n\"month\": \"2024-03\",\\n\"value\": 0.00152712326133702\\n\"min\": [\\n\"machine\": \"Assembly Machine 1\",\\n\"month\": \"2024-03\",\\n\"value\": 0.0\\n\"machine\": \"Assembly Machine 2\",\\n\"month\": \"2024-03\",\\n\"value\": 0.0\\n\"machine\": \"Assembly Machine 3\",\\n\"month\": \"2024-03\",\\n\"value\": 0.0\\n\"machine\": \"Large Capacity Cutting Machine 1\",\\n\"month\": \"2024-03\",\\n\"value\": 0.0\\n\"machine\": \"Large Capacity Cutting Machine 2\",\\n\"month\": \"2024-03\",\\n\"value\": 0.0\\n\"max\": [\\n\"machine\": \"Assembly Machine 1\",\\n\"month\": \"2024-03\",\\n\"value\": 0.0\\n\"machine\": \"Assembly Machine 2\",\\n\"month\": \"2024-03\",\\n\"value\": 0.0\\n\"machine\": \"Assembly Machine 3\",\\n\"month\": \"2024-03\",\\n\"value\": 0.0\\n\"machine\": \"Large Capacity Cutting Machine 1\",\\n\"month\": \"2024-03\",\\n\"value\": 0.017477024244629727\\n\"machine\": \"Large Capacity Cutting Machine 2\",\\n\"month\": \"2024-03\",\\n\"value\": 0.03329324345041983\\n\"cost\": {\\n\"average\": [\\n\"machine\": \"Assembly Machine 1\",\\n\"month\": \"2024-03\",\\n\"value\": 0.0\\n\"machine\": \"Assembly Machine 2\",\\n\"month\": \"2024-03\",\\n\"value\": 0.0\\n\"machine\": \"Assembly Machine 3\",\\n\"month\": \"2024-03\",\\n\"value\": 0.0\\n\"machine\": \"Large Capacity Cutting Machine 1\",\\n\"month\": \"2024-03\",\\n\"value\": 0.0007648453461734984\\n\"machine\": \"Large Capacity Cutting Machine 2\",\\n\"month\": \"2024-03\",\\n\"value\": 0.000789856282015753\\n\"min\": [\\n\"machine\": \"Assembly Machine 1\",\\n\"month\": \"2024-03\",\\n\"value\": 0.0\\n\"machine\": \"Assembly Machine 2\",\\n\"month\": \"2024-03\",\\n\"value\": 0.0\\n\"machine\": \"Assembly Machine 3\",\\n\"month\": \"2024-03\",\\n\"value\": 0.0\\n\"machine\": \"Large Capacity Cutting Machine 1\",\\n\"month\": \"2024-03\",\\n\"value\": 0.0\\n\"machine\": \"Large Capacity Cutting Machine 2\",\\n\"month\": \"2024-03\",\\n\"value\": 0.0\\n\"max\": [\\n\"machine\": \"Assembly Machine 1\",\\n\"month\": \"2024-03\",\\n\"value\": 0.0\\n\"machine\": \"Assembly Machine 2\",\\n\"month\": \"2024-03\",\\n\"value\": 0.0\\n\"machine\": \"Assembly Machine 3\",\\n\"month\": \"2024-03\",\\n\"value\": 0.0\\n\"machine\": \"Large Capacity Cutting Machine 1\",\\n\"month\": \"2024-03\",\\n\"value\": 0.0\\n\"machine\": \"Large Capacity Cutting Machine 2\",\\n\"month\": \"2024-03\",\\n\"value\": 0.0\\n\"power\": {\\n\"average\": [\\n\"machine\": \"Assembly Machine 1\",\\n\"month\": \"2024-03\",\\n\"value\": 0.0\\n\"machine\": \"Assembly Machine 2\",\\n\"month\": \"2024-03\",\\n\"value\": 0.0\\n\"machine\": \"Assembly Machine 3\",\\n\"month\": \"2024-03\",\\n\"value\": 0.0\\n\"machine\": \"Large Capacity Cutting Machine 1\",\\n\"month\": \"2024-03\",\\n\"value\": 0.0028015846972911963\\n\"machine\": \"Large Capacity Cutting Machine 2\",\\n\"month\": \"2024-03\",\\n\"value\": 0.0025818193261147593\\n\"min\": [\\n\"machine\": \"Assembly Machine 1\",\\n\"month\": \"2024-03\",\\n\"value\": 0.0\\n\"machine\": \"Assembly Machine 2\",\\n\"month\": \"2024-03\",\\n\"value\": 0.0\\n\"machine\": \"Assembly Machine 3\",\\n\"month\": \"2024-03\",\\n\"value\": 0.0\\n\"machine\": \"Large Capacity Cutting Machine 1\",\\n\"month\": \"2024-03\",\\n\"value\": 0.0\\n\"machine\": \"Large Capacity Cutting Machine 2\",\\n\"month\": \"2024-03\",\\n\"value\": 0.0\\n\"max\": [\\n\"machine\": \"Assembly Machine 1\",\\n\"month\": \"2024-03\",\\n\"value\": 0.0\\n\"machine\": \"Assembly Machine 2\",\\n\"month\": \"2024-03\",\\n\"value\": 0.0\\n\"machine\": \"Assembly Machine 3\",\\n\"month\": \"2024-03\",\\n\"value\": 0.0\\n\"machine\": \"Large Capacity Cutting Machine 1\",\\n\"month\": \"2024-03\",\\n\"value\": 0.08007309150809613\\n\"machine\": \"Large Capacity Cutting Machine 2\",\\n\"month\": \"2024-03\",\\n\"value\": 0.07239881195819103', mimetype='text/plain', start_char_idx=None, end_char_idx=None, text_template='{metadata_str}\\n\\n{content}', metadata_template='{key}: {value}', metadata_seperator='\\n'),\n",
       " Document(id_='386cdb05-4179-474f-b189-47d1ae68955e', embedding=None, metadata={}, excluded_embed_metadata_keys=[], excluded_llm_metadata_keys=[], relationships={}, text='\"kpi\": {\\n\"average_cycle_time\": {\\n\"average\": [\\n\"machine\": \"Assembly Machine 1\",\\n\"month\": \"2024-03\",\\n\"value\": 0.0\\n\"machine\": \"Assembly Machine 2\",\\n\"month\": \"2024-03\",\\n\"value\": 0.0\\n\"machine\": \"Assembly Machine 3\",\\n\"month\": \"2024-03\",\\n\"value\": 0.0\\n\"machine\": \"Large Capacity Cutting Machine 1\",\\n\"month\": \"2024-03\",\\n\"value\": 0.0\\n\"machine\": \"Large Capacity Cutting Machine 2\",\\n\"month\": \"2024-03\",\\n\"value\": 0.0\\n\"min\": [\\n\"machine\": \"Assembly Machine 1\",\\n\"month\": \"2024-03\",\\n\"value\": 0.0\\n\"machine\": \"Assembly Machine 2\",\\n\"month\": \"2024-03\",\\n\"value\": 0.0\\n\"machine\": \"Assembly Machine 3\",\\n\"month\": \"2024-03\",\\n\"value\": 0.0\\n\"machine\": \"Large Capacity Cutting Machine 1\",\\n\"month\": \"2024-03\",\\n\"value\": 0.0\\n\"machine\": \"Large Capacity Cutting Machine 2\",\\n\"month\": \"2024-03\",\\n\"value\": 0.0\\n\"max\": [\\n\"machine\": \"Assembly Machine 1\",\\n\"month\": \"2024-03\",\\n\"value\": 0.0\\n\"machine\": \"Assembly Machine 2\",\\n\"month\": \"2024-03\",\\n\"value\": 0.0\\n\"machine\": \"Assembly Machine 3\",\\n\"month\": \"2024-03\",\\n\"value\": 0.0\\n\"machine\": \"Large Capacity Cutting Machine 1\",\\n\"month\": \"2024-03\",\\n\"value\": 0.0\\n\"machine\": \"Large Capacity Cutting Machine 2\",\\n\"month\": \"2024-03\",\\n\"value\": 0.0\\n\"bad_cycles\": {\\n\"average\": [\\n\"machine\": \"Assembly Machine 1\",\\n\"month\": \"2024-03\",\\n\"value\": 0.0\\n\"machine\": \"Assembly Machine 2\",\\n\"month\": \"2024-03\",\\n\"value\": 0.0\\n\"machine\": \"Assembly Machine 3\",\\n\"month\": \"2024-03\",\\n\"value\": 0.0\\n\"machine\": \"Large Capacity Cutting Machine 1\",\\n\"month\": \"2024-03\",\\n\"value\": 0.0\\n\"machine\": \"Large Capacity Cutting Machine 2\",\\n\"month\": \"2024-03\",\\n\"value\": 0.0\\n\"min\": [\\n\"machine\": \"Assembly Machine 1\",\\n\"month\": \"2024-03\",\\n\"value\": 0.0\\n\"machine\": \"Assembly Machine 2\",\\n\"month\": \"2024-03\",\\n\"value\": 0.0\\n\"machine\": \"Assembly Machine 3\",\\n\"month\": \"2024-03\",\\n\"value\": 0.0\\n\"machine\": \"Large Capacity Cutting Machine 1\",\\n\"month\": \"2024-03\",\\n\"value\": 0.0\\n\"machine\": \"Large Capacity Cutting Machine 2\",\\n\"month\": \"2024-03\",\\n\"value\": 0.0\\n\"max\": [\\n\"machine\": \"Assembly Machine 1\",\\n\"month\": \"2024-03\",\\n\"value\": 0.0\\n\"machine\": \"Assembly Machine 2\",\\n\"month\": \"2024-03\",\\n\"value\": 0.0\\n\"machine\": \"Assembly Machine 3\",\\n\"month\": \"2024-03\",\\n\"value\": 0.0\\n\"machine\": \"Large Capacity Cutting Machine 1\",\\n\"month\": \"2024-03\",\\n\"value\": 0.0\\n\"machine\": \"Large Capacity Cutting Machine 2\",\\n\"month\": \"2024-03\",\\n\"value\": 0.0\\n\"cycles\": {\\n\"average\": [\\n\"machine\": \"Assembly Machine 1\",\\n\"month\": \"2024-03\",\\n\"value\": 0.0\\n\"machine\": \"Assembly Machine 2\",\\n\"month\": \"2024-03\",\\n\"value\": 0.0\\n\"machine\": \"Assembly Machine 3\",\\n\"month\": \"2024-03\",\\n\"value\": 0.0\\n\"machine\": \"Large Capacity Cutting Machine 1\",\\n\"month\": \"2024-03\",\\n\"value\": 0.6451612903225806\\n\"machine\": \"Large Capacity Cutting Machine 2\",\\n\"month\": \"2024-03\",\\n\"value\": 0.7419354838709677\\n\"min\": [\\n\"machine\": \"Assembly Machine 1\",\\n\"month\": \"2024-03\",\\n\"value\": 0.0\\n\"machine\": \"Assembly Machine 2\",\\n\"month\": \"2024-03\",\\n\"value\": 0.0\\n\"machine\": \"Assembly Machine 3\",\\n\"month\": \"2024-03\",\\n\"value\": 0.0\\n\"machine\": \"Large Capacity Cutting Machine 1\",\\n\"month\": \"2024-03\",\\n\"value\": 0.0\\n\"machine\": \"Large Capacity Cutting Machine 2\",\\n\"month\": \"2024-03\",\\n\"value\": 0.0\\n\"max\": [\\n\"machine\": \"Assembly Machine 1\",\\n\"month\": \"2024-03\",\\n\"value\": 0.0\\n\"machine\": \"Assembly Machine 2\",\\n\"month\": \"2024-03\",\\n\"value\": 0.0\\n\"machine\": \"Assembly Machine 3\",\\n\"month\": \"2024-03\",\\n\"value\": 0.0\\n\"machine\": \"Large Capacity Cutting Machine 1\",\\n\"month\": \"2024-03\",\\n\"value\": 28754.0\\n\"machine\": \"Large Capacity Cutting Machine 2\",\\n\"month\": \"2024-03\",\\n\"value\": 18860.0\\n\"good_cycles\": {\\n\"average\": [\\n\"machine\": \"Assembly Machine 1\",\\n\"month\": \"2024-03\",\\n\"value\": 0.0\\n\"machine\": \"Assembly Machine 2\",\\n\"month\": \"2024-03\",\\n\"value\": 0.0\\n\"machine\": \"Assembly Machine 3\",\\n\"month\": \"2024-03\",\\n\"value\": 0.0\\n\"machine\": \"Large Capacity Cutting Machine 1\",\\n\"month\": \"2024-03\",\\n\"value\": 1228.6129032258063\\n\"machine\": \"Large Capacity Cutting Machine 2\",\\n\"month\": \"2024-03\",\\n\"value\": 651.0967741935484\\n\"min\": [\\n\"machine\": \"Assembly Machine 1\",\\n\"month\": \"2024-03\",\\n\"value\": 0.0\\n\"machine\": \"Assembly Machine 2\",\\n\"month\": \"2024-03\",\\n\"value\": 0.0\\n\"machine\": \"Assembly Machine 3\",\\n\"month\": \"2024-03\",\\n\"value\": 0.0\\n\"machine\": \"Large Capacity Cutting Machine 1\",\\n\"month\": \"2024-03\",\\n\"value\": 0.0\\n\"machine\": \"Large Capacity Cutting Machine 2\",\\n\"month\": \"2024-03\",\\n\"value\": 0.0\\n\"max\": [\\n\"machine\": \"Assembly Machine 1\",\\n\"month\": \"2024-03\",\\n\"value\": 0.0\\n\"machine\": \"Assembly Machine 2\",\\n\"month\": \"2024-03\",\\n\"value\": 0.0\\n\"machine\": \"Assembly Machine 3\",\\n\"month\": \"2024-03\",\\n\"value\": 0.0\\n\"machine\": \"Large Capacity Cutting Machine 1\",\\n\"month\": \"2024-03\",\\n\"value\": 28754.0\\n\"machine\": \"Large Capacity Cutting Machine 2\",\\n\"month\": \"2024-03\",\\n\"value\": 18860.0', mimetype='text/plain', start_char_idx=None, end_char_idx=None, text_template='{metadata_str}\\n\\n{content}', metadata_template='{key}: {value}', metadata_seperator='\\n'),\n",
       " Document(id_='af1d0b1a-02e7-497a-8dbb-fb6e230660a0', embedding=None, metadata={}, excluded_embed_metadata_keys=[], excluded_llm_metadata_keys=[], relationships={}, text='\"kpi\": {\\n\"average_cycle_time\": {\\n\"average\": [\\n\"machine\": \"Assembly Machine 1\",\\n\"month\": \"2024-03\",\\n\"value\": 0.0\\n\"machine\": \"Assembly Machine 2\",\\n\"month\": \"2024-03\",\\n\"value\": 0.0\\n\"machine\": \"Assembly Machine 3\",\\n\"month\": \"2024-03\",\\n\"value\": 0.0\\n\"machine\": \"Large Capacity Cutting Machine 1\",\\n\"month\": \"2024-03\",\\n\"value\": 0.0\\n\"machine\": \"Large Capacity Cutting Machine 2\",\\n\"month\": \"2024-03\",\\n\"value\": 0.0\\n\"min\": [\\n\"machine\": \"Assembly Machine 1\",\\n\"month\": \"2024-03\",\\n\"value\": 0.0\\n\"machine\": \"Assembly Machine 2\",\\n\"month\": \"2024-03\",\\n\"value\": 0.0\\n\"machine\": \"Assembly Machine 3\",\\n\"month\": \"2024-03\",\\n\"value\": 0.0\\n\"machine\": \"Large Capacity Cutting Machine 1\",\\n\"month\": \"2024-03\",\\n\"value\": 0.0\\n\"machine\": \"Large Capacity Cutting Machine 2\",\\n\"month\": \"2024-03\",\\n\"value\": 0.0\\n\"max\": [\\n\"machine\": \"Assembly Machine 1\",\\n\"month\": \"2024-03\",\\n\"value\": 0.0\\n\"machine\": \"Assembly Machine 2\",\\n\"month\": \"2024-03\",\\n\"value\": 0.0\\n\"machine\": \"Assembly Machine 3\",\\n\"month\": \"2024-03\",\\n\"value\": 0.0\\n\"machine\": \"Large Capacity Cutting Machine 1\",\\n\"month\": \"2024-03\",\\n\"value\": 0.0\\n\"machine\": \"Large Capacity Cutting Machine 2\",\\n\"month\": \"2024-03\",\\n\"value\": 0.0\\n\"idle_time\": {\\n\"average\": [\\n\"machine\": \"Assembly Machine 1\",\\n\"month\": \"2024-03\",\\n\"value\": 0.0\\n\"machine\": \"Assembly Machine 2\",\\n\"month\": \"2024-03\",\\n\"value\": 0.0\\n\"machine\": \"Assembly Machine 3\",\\n\"month\": \"2024-03\",\\n\"value\": 0.0\\n\"machine\": \"Large Capacity Cutting Machine 1\",\\n\"month\": \"2024-03\",\\n\"value\": 0.0\\n\"machine\": \"Large Capacity Cutting Machine 2\",\\n\"month\": \"2024-03\",\\n\"value\": 0.0\\n\"min\": [\\n\"machine\": \"Assembly Machine 1\",\\n\"month\": \"2024-03\",\\n\"value\": 0.0\\n\"machine\": \"Assembly Machine 2\",\\n\"month\": \"2024-03\",\\n\"value\": 0.0\\n\"machine\": \"Assembly Machine 3\",\\n\"month\": \"2024-03\",\\n\"value\": 0.0\\n\"machine\": \"Large Capacity Cutting Machine 1\",\\n\"month\": \"2024-03\",\\n\"value\": 0.0\\n\"machine\": \"Large Capacity Cutting Machine 2\",\\n\"month\": \"2024-03\",\\n\"value\": 0.0\\n\"max\": [\\n\"machine\": \"Assembly Machine 1\",\\n\"month\": \"2024-03\",\\n\"value\": 0.0\\n\"machine\": \"Assembly Machine 2\",\\n\"month\": \"2024-03\",\\n\"value\": 0.0\\n\"machine\": \"Assembly Machine 3\",\\n\"month\": \"2024-03\",\\n\"value\": 0.0\\n\"machine\": \"Large Capacity Cutting Machine 1\",\\n\"month\": \"2024-03\",\\n\"value\": 0.0\\n\"machine\": \"Large Capacity Cutting Machine 2\",\\n\"month\": \"2024-03\",\\n\"value\": 0.0\\n\"offline_time\": {\\n\"average\": [\\n\"machine\": \"Assembly Machine 1\",\\n\"month\": \"2024-03\",\\n\"value\": 0.0\\n\"machine\": \"Assembly Machine 2\",\\n\"month\": \"2024-03\",\\n\"value\": 0.0\\n\"machine\": \"Assembly Machine 3\",\\n\"month\": \"2024-03\",\\n\"value\": 0.0\\n\"machine\": \"Large Capacity Cutting Machine 1\",\\n\"month\": \"2024-03\",\\n\"value\": 0.0\\n\"machine\": \"Large Capacity Cutting Machine 2\",\\n\"month\": \"2024-03\",\\n\"value\": 0.0\\n\"min\": [\\n\"machine\": \"Assembly Machine 1\",\\n\"month\": \"2024-03\",\\n\"value\": 0.0\\n\"machine\": \"Assembly Machine 2\",\\n\"month\": \"2024-03\",\\n\"value\": 0.0\\n\"machine\": \"Assembly Machine 3\",\\n\"month\": \"2024-03\",\\n\"value\": 0.0\\n\"machine\": \"Large Capacity Cutting Machine 1\",\\n\"month\": \"2024-03\",\\n\"value\": 0.0\\n\"machine\": \"Large Capacity Cutting Machine 2\",\\n\"month\": \"2024-03\",\\n\"value\": 0.0\\n\"max\": [\\n\"machine\": \"Assembly Machine 1\",\\n\"month\": \"2024-03\",\\n\"value\": 0.0\\n\"machine\": \"Assembly Machine 2\",\\n\"month\": \"2024-03\",\\n\"value\": 0.0\\n\"machine\": \"Assembly Machine 3\",\\n\"month\": \"2024-03\",\\n\"value\": 0.0\\n\"machine\": \"Large Capacity Cutting Machine 1\",\\n\"month\": \"2024-03\",\\n\"value\": 0.0\\n\"machine\": \"Large Capacity Cutting Machine 2\",\\n\"month\": \"2024-03\",\\n\"value\": 0.0\\n\"working_time\": {\\n\"average\": [\\n\"machine\": \"Assembly Machine 1\",\\n\"month\": \"2024-03\",\\n\"value\": 0.0\\n\"machine\": \"Assembly Machine 2\",\\n\"month\": \"2024-03\",\\n\"value\": 0.0\\n\"machine\": \"Assembly Machine 3\",\\n\"month\": \"2024-03\",\\n\"value\": 0.0\\n\"machine\": \"Large Capacity Cutting Machine 1\",\\n\"month\": \"2024-03\",\\n\"value\": 0.0\\n\"machine\": \"Large Capacity Cutting Machine 2\",\\n\"month\": \"2024-03\",\\n\"value\": 0.0\\n\"min\": [\\n\"machine\": \"Assembly Machine 1\",\\n\"month\": \"2024-03\",\\n\"value\": 0.0\\n\"machine\": \"Assembly Machine 2\",\\n\"month\": \"2024-03\",\\n\"value\": 0.0\\n\"machine\": \"Assembly Machine 3\",\\n\"month\": \"2024-03\",\\n\"value\": 0.0\\n\"machine\": \"Large Capacity Cutting Machine 1\",\\n\"month\": \"2024-03\",\\n\"value\": 0.0\\n\"machine\": \"Large Capacity Cutting Machine 2\",\\n\"month\": \"2024-03\",\\n\"value\": 0.0\\n\"max\": [\\n\"machine\": \"Assembly Machine 1\",\\n\"month\": \"2024-03\",\\n\"value\": 0.0\\n\"machine\": \"Assembly Machine 2\",\\n\"month\": \"2024-03\",\\n\"value\": 0.0\\n\"machine\": \"Assembly Machine 3\",\\n\"month\": \"2024-03\",\\n\"value\": 0.0\\n\"machine\": \"Large Capacity Cutting Machine 1\",\\n\"month\": \"2024-03\",\\n\"value\": 0.0\\n\"machine\": \"Large Capacity Cutting Machine 2\",\\n\"month\": \"2024-03\",\\n\"value\": 0.0', mimetype='text/plain', start_char_idx=None, end_char_idx=None, text_template='{metadata_str}\\n\\n{content}', metadata_template='{key}: {value}', metadata_seperator='\\n')]"
      ]
     },
     "execution_count": 5,
     "metadata": {},
     "output_type": "execute_result"
    }
   ],
   "source": [
    "documents"
   ]
  },
  {
   "cell_type": "code",
   "execution_count": 6,
   "id": "60a24d16-ecd9-4f45-8104-413ec8612db9",
   "metadata": {},
   "outputs": [
    {
     "data": {
      "text/plain": [
       "3"
      ]
     },
     "execution_count": 6,
     "metadata": {},
     "output_type": "execute_result"
    }
   ],
   "source": [
    "len(documents)"
   ]
  },
  {
   "cell_type": "code",
   "execution_count": 7,
   "id": "af39c308",
   "metadata": {},
   "outputs": [
    {
     "data": {
      "text/plain": [
       "[]"
      ]
     },
     "execution_count": 7,
     "metadata": {},
     "output_type": "execute_result"
    }
   ],
   "source": [
    "nodes"
   ]
  },
  {
   "cell_type": "code",
   "execution_count": 8,
   "id": "41c0ce65",
   "metadata": {},
   "outputs": [
    {
     "name": "stderr",
     "output_type": "stream",
     "text": [
      "D:\\Software\\envs\\RAG\\Lib\\site-packages\\tqdm\\auto.py:21: TqdmWarning: IProgress not found. Please update jupyter and ipywidgets. See https://ipywidgets.readthedocs.io/en/stable/user_install.html\n",
      "  from .autonotebook import tqdm as notebook_tqdm\n"
     ]
    }
   ],
   "source": [
    "embed_model = resolve_embed_model(\"local:BAAI/bge-m3\")"
   ]
  },
  {
   "cell_type": "code",
   "execution_count": 9,
   "id": "436ccbc1",
   "metadata": {},
   "outputs": [],
   "source": [
    "#embed_model = resolve_embed_model('local:sentence-transformers/all-MiniLM-L6-v2')"
   ]
  },
  {
   "cell_type": "code",
   "execution_count": 10,
   "id": "8ba095bd",
   "metadata": {},
   "outputs": [],
   "source": [
    "# embed_model = resolve_embed_model('local:sentence-transformers/all-mpnet-base-v2')"
   ]
  },
  {
   "cell_type": "code",
   "execution_count": 11,
   "id": "26c26038",
   "metadata": {},
   "outputs": [],
   "source": [
    "# if we work with nodes\n",
    "#vector_index = VectorStoreIndex.from_documents(nodes, embed_model=embed_model)"
   ]
  },
  {
   "cell_type": "code",
   "execution_count": 12,
   "id": "3695f0ef",
   "metadata": {},
   "outputs": [
    {
     "name": "stderr",
     "output_type": "stream",
     "text": [
      "Parsing nodes: 100%|████████████████████████████████████████████████████████████████████| 3/3 [00:00<00:00, 168.36it/s]\n",
      "Generating embeddings: 100%|█████████████████████████████████████████████████████████████| 7/7 [00:21<00:00,  3.01s/it]\n"
     ]
    }
   ],
   "source": [
    "# if we work with documents\n",
    "vector_index = VectorStoreIndex.from_documents(documents, embed_model=embed_model, show_progress=True)"
   ]
  },
  {
   "cell_type": "code",
   "execution_count": 13,
   "id": "d953c9c7",
   "metadata": {},
   "outputs": [],
   "source": [
    "query_engine = vector_index.as_query_engine(llm=llm, verbose=True, similarity_top_k=2)\n",
    "retriever = vector_index.as_retriever(verbose=True)\n"
   ]
  },
  {
   "cell_type": "code",
   "execution_count": 14,
   "id": "824809e8-dccf-48f1-87e6-da046ed04820",
   "metadata": {},
   "outputs": [
    {
     "name": "stdout",
     "output_type": "stream",
     "text": [
      " The average consumption for Testing Machine 1 is approximately 1.7630247e-06, while the average consumption for Riveting Machine is around 6.5934167e-05. It's important to note that these values are not directly comparable due to their different scales and units.\n"
     ]
    }
   ],
   "source": [
    "result = query_engine.query(\"What was the average  of Assembly Machines?\")\n",
    "print(result)"
   ]
  },
  {
   "cell_type": "code",
   "execution_count": 23,
   "id": "516703f5-8d1e-4c51-bc1b-051734aaac8c",
   "metadata": {},
   "outputs": [
    {
     "name": "stdout",
     "output_type": "stream",
     "text": [
      " The average consumption for \"Testing Machine 1\" is 1.7630247097690623e-06 and for \"Medium Capacity Cutting Machine 2\", it is 0.0023731402496540857.\n"
     ]
    }
   ],
   "source": [
    "result = query_engine.query(\"What was the average consumption of machines?\")\n",
    "print(result)"
   ]
  },
  {
   "cell_type": "code",
   "execution_count": 14,
   "id": "edaaa4d3-bd83-47b1-92ad-275a80ab1016",
   "metadata": {},
   "outputs": [
    {
     "name": "stdout",
     "output_type": "stream",
     "text": [
      " The consumption for each machine in March 2024 is as follows:\n",
      "\n",
      "1. Assembly Machine 1: 0.0\n",
      "2. Assembly Machine 2: 0.0\n",
      "3. Assembly Machine 3: 0.0\n",
      "4. Large Capacity Cutting Machine 1: 0.0021111835419563543\n",
      "5. Large Capacity Cutting Machine 2: 0.00152712326133702\n"
     ]
    }
   ],
   "source": [
    "result = query_engine.query(\"List the conspumption for each machine in March 2024?\")\n",
    "print(result)"
   ]
  },
  {
   "cell_type": "code",
   "execution_count": 17,
   "id": "9d774768-f272-435d-bd40-a4ad2aaf282b",
   "metadata": {},
   "outputs": [
    {
     "name": "stdout",
     "output_type": "stream",
     "text": [
      " In March 2024, the Large Capacity Cutting Machine 2 has an average number of cycles per month of approximately 742, with a range from 0 to 18,860. The average cycle time is 0 seconds, with a minimum and maximum not provided. The machine had no bad cycles during this period.\n",
      "\n",
      "The consumption for this machine averages at 0.0009503 kWh, with a range from 0 to 0.15497427 kWh. This includes an average idle consumption of 0.0006514 kWh and working consumption of 0.0015271 kWh.\n",
      "\n",
      "The cost for this machine is approximately 0.0007899 USD, with no recorded costs related to idle or working time.\n",
      "\n",
      "The number of good cycles in March was about 651, with a range from 0 to 18,860. The machine did not have any offline time or idle time during this period, and the working time is not provided. The power consumption averages at 0.0025818 kW, with a range from 0 to 0.0723988 kW.\n",
      "\n",
      "The Medium Capacity Cutting Machine 2 has similar KPIs for the same month but different values due to differences in the machine's capabilities and usage patterns.\n"
     ]
    }
   ],
   "source": [
    "result = query_engine.query(\"General Summarized Overview Large Capacity Cutting Machine 2?\")\n",
    "print(result)"
   ]
  },
  {
   "cell_type": "code",
   "execution_count": 20,
   "id": "7e1b6684-5002-4470-bd84-dd143163b713",
   "metadata": {},
   "outputs": [
    {
     "name": "stdout",
     "output_type": "stream",
     "text": [
      " The machine with higher idle time is \"Assembly Machine 1\". This can be inferred from the context data where the average idle time for \"Assembly Machine 1\" is 4175.258064516129 hours, while for \"Large Capacity Cutting Machine 1\", it is 0.0 hours.\n"
     ]
    }
   ],
   "source": [
    "result = query_engine.query(\"Which machine has higher idle time\")\n",
    "print(result)"
   ]
  },
  {
   "cell_type": "code",
   "execution_count": 13,
   "id": "9d553ce3-cf5f-48c2-9278-aa6655546964",
   "metadata": {},
   "outputs": [
    {
     "data": {
      "text/plain": [
       "[NodeWithScore(node=TextNode(id_='7a3f1ecb-1cb2-4aa0-9cf9-e1ace4e882a2', embedding=None, metadata={}, excluded_embed_metadata_keys=[], excluded_llm_metadata_keys=[], relationships={<NodeRelationship.SOURCE: '1'>: RelatedNodeInfo(node_id='6ee8dc74-411b-4b67-bba4-83d3ec586f9a', node_type=<ObjectType.DOCUMENT: '4'>, metadata={}, hash='34496ed108b9f8ca29ad1e0bf7cb60af6c22315f29d8d73ac50bdc3339d33446')}, text='\"data_structure_overview\": {\\n\"machines\": [\\n\"category\": \"Metal Cutting Machines\",\\n\"machines\": [\\n\"Large Capacity Cutting Machine 1\",\\n\"Large Capacity Cutting Machine 2\",\\n\"Medium Capacity Cutting Machine 1\",\\n\"Medium Capacity Cutting Machine 2\",\\n\"Medium Capacity Cutting Machine 3\",\\n\"Low Capacity Cutting Machine 1\"\\n\"category\": \"Laser Welding Machines\",\\n\"machines\": [\\n\"Laser Welding Machine 1\",\\n\"Laser Welding Machine 2\"\\n\"category\": \"Assembly Machines\",\\n\"machines\": [\\n\"Assembly Machine 1\",\\n\"Assembly Machine 2\",\\n\"Assembly Machine 3\"\\n\"category\": \"Testing Machines\",\\n\"machines\": [\\n\"Testing Machine 1\",\\n\"Testing Machine 2\",\\n\"Testing Machine 3\"\\n\"category\": \"Other Machines\",\\n\"machines\": [\\n\"Riveting Machine\",\\n\"Laser Cutter\"\\n\"key_performance_indicators\": [\\n\"category\": \"Time-Related KPIs\",\\n\"KPIs\": [\\n\"name\": \"working_time\",\\n\"description\": \"seconds of active machine operation\"\\n\"name\": \"idle_time\",\\n\"description\": \"seconds when machine is idle\"\\n\"name\": \"offline_time\",\\n\"description\": \"seconds when machine is offline\"\\n\"category\": \"Energy and Cost-Related KPIs\",\\n\"KPIs\": [\\n\"name\": \"consumption\",\\n\"description\": \"total energy consumption (kWh)\"\\n\"name\": \"power\",\\n\"description\": \"energy power rating (kW)\"\\n\"name\": \"cost\",\\n\"description\": \"energy cost (euro per kWh)\"\\n\"name\": \"consumption_working\",\\n\"description\": \"energy consumed during active operation (kWh)\"\\n\"name\": \"consumption_idle\",\\n\"description\": \"energy consumed while idle (kWh)\"\\n\"category\": \"Production-Related KPIs\",\\n\"KPIs\": [\\n\"name\": \"cycles\",\\n\"description\": \"total production cycles\"\\n\"name\": \"good_cycles\",\\n\"description\": \"number of successful cycles\"\\n\"name\": \"bad_cycles\",\\n\"description\": \"number of defective cycles\"\\n\"name\": \"average_cycle_time\",\\n\"description\": \"average time per cycle (seconds)\"\\n\"data_frame_structure\": {\\n\"columns\": 9,\\n\"timestamp_frequency\": \"daily\",\\n\"timestamp_notes\": \"Each KPI is recorded daily with multiple timestamps per machine.\",\\n\"aggregated_metrics\": [\\n\"sum\",\\n\"average\",\\n\"minimum\",\\n\"maximum\",\\n\"variance\"\\n\"notes\": \"Some KPIs may lack certain aggregate values (e.g., average_cycle_time does not have a sum).\"', mimetype='text/plain', start_char_idx=0, end_char_idx=2081, text_template='{metadata_str}\\n\\n{content}', metadata_template='{key}: {value}', metadata_seperator='\\n'), score=0.5820269555041319),\n",
       " NodeWithScore(node=TextNode(id_='8375ed32-83b4-4bea-ade0-c509ab042c78', embedding=None, metadata={}, excluded_embed_metadata_keys=[], excluded_llm_metadata_keys=[], relationships={<NodeRelationship.SOURCE: '1'>: RelatedNodeInfo(node_id='d488be88-1d20-4bdb-851c-ba2ece270d03', node_type=<ObjectType.DOCUMENT: '4'>, metadata={}, hash='7cca473702b6c7298732db89034300782d5a23daf9f8fb26daf9b1debe927e5d')}, text='\"machine_id\": \"Assembly Machine 2\",\\n\"month\": \"2024-03\",\\n\"KPIs\": {\\n\"average_cycle_time\": {\\n\"average\": 0.0,\\n\"min\": 0.0,\\n\"max\": 0.0\\n\"bad_cycles\": {\\n\"average\": 0.0,\\n\"min\": 0.0,\\n\"max\": 0.0\\n\"consumption\": {\\n\"average\": 0.0,\\n\"min\": 0.0,\\n\"max\": 0.0\\n\"consumption_idle\": {\\n\"average\": 0.0,\\n\"min\": 0.0,\\n\"max\": 0.0\\n\"consumption_working\": {\\n\"average\": 0.0,\\n\"min\": 0.0,\\n\"max\": 0.0\\n\"cost\": {\\n\"average\": 0.0,\\n\"min\": 0.0,\\n\"max\": 0.0\\n\"cost_idle\": {\\n\"average\": 0.0,\\n\"min\": 0.0,\\n\"max\": 0.0\\n\"cost_working\": {\\n\"average\": 0.0,\\n\"min\": 0.0,\\n\"max\": 0.0\\n\"cycles\": {\\n\"average\": 0.0,\\n\"min\": 0.0,\\n\"max\": 0.0\\n\"good_cycles\": {\\n\"average\": 0.0,\\n\"min\": 0.0,\\n\"max\": 0.0\\n\"idle_time\": {\\n\"average\": 0.0,\\n\"min\": 0.0,\\n\"max\": 0.0\\n\"offline_time\": {\\n\"average\": 0.0,\\n\"min\": 0.0,\\n\"max\": 0.0\\n\"power\": {\\n\"average\": 0.0,\\n\"min\": 0.0,\\n\"max\": 0.0\\n\"working_time\": {\\n\"average\": 0.0,\\n\"min\": 0.0,\\n\"max\": 0.0', mimetype='text/plain', start_char_idx=0, end_char_idx=849, text_template='{metadata_str}\\n\\n{content}', metadata_template='{key}: {value}', metadata_seperator='\\n'), score=0.5453108797020806)]"
      ]
     },
     "execution_count": 13,
     "metadata": {},
     "output_type": "execute_result"
    }
   ],
   "source": [
    "retriever.retrieve(\"General Summarized Overview Assembly Machine 1?\")\n"
   ]
  },
  {
   "cell_type": "code",
   "execution_count": 18,
   "id": "812da437-0f18-45cd-89c0-76dcfd86d7a0",
   "metadata": {},
   "outputs": [
    {
     "name": "stdout",
     "output_type": "stream",
     "text": [
      " Based on the provided KPIs for both machines, we can calculate certain metrics to compare their effectiveness and productivity. However, please note that this comparison is based on the numerical data given in the context, and other factors such as the nature of work, maintenance requirements, etc., might influence their overall performance.\n",
      "\n",
      "To make a comparison, we can focus on the following key points:\n",
      "\n",
      "1. Number of good cycles: Medium Capacity Cutting Machine 1 had an average of 1935.8064516129032 good cycles per month, while Medium Capacity Cutting Machine 2 had an average of 1822.032258064516 good cycles per month. Machine 1 seems to have a slightly higher number of good cycles per month.\n",
      "\n",
      "2. Consumption: The average consumption for Machine 1 is 0.0025908645679010044, while the average consumption for Machine 2 is 0.0023731402496540857. Machine 1 consumes slightly more resources on average compared to Machine 2.\n",
      "\n",
      "3. Power: The average power consumed by Machine 1 is 0.006006119308061655, while the average power consumption for Machine 2 is 0.004952443803414934. Machine 1 consumes more power on average compared to Machine 2.\n",
      "\n",
      "4. Cost: The cost calculations were not provided in the context, so we cannot make a comparison based on this metric.\n",
      "\n",
      "In summary, Medium Capacity Cutting Machine 1 had a slightly higher number of good cycles per month and consumed more resources (both consumption and power) on average compared to Machine 2. However, further analysis is required to draw definitive conclusions about their overall effectiveness and productivity.\n"
     ]
    }
   ],
   "source": [
    "result = query_engine.query(\"Which one was more effective and productive: Medium Capacity machine 1 vs Medium Capacity machine 2?\")\n",
    "print(result)"
   ]
  },
  {
   "cell_type": "code",
   "execution_count": null,
   "id": "73ee4207-6028-4bb6-b4d0-955408ca022e",
   "metadata": {},
   "outputs": [],
   "source": []
  }
 ],
 "metadata": {
  "kernelspec": {
   "display_name": "Python 3 (ipykernel)",
   "language": "python",
   "name": "python3"
  },
  "language_info": {
   "codemirror_mode": {
    "name": "ipython",
    "version": 3
   },
   "file_extension": ".py",
   "mimetype": "text/x-python",
   "name": "python",
   "nbconvert_exporter": "python",
   "pygments_lexer": "ipython3",
   "version": "3.12.7"
  }
 },
 "nbformat": 4,
 "nbformat_minor": 5
}
