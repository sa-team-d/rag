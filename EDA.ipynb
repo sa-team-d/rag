{
 "cells": [
  {
   "cell_type": "code",
   "execution_count": 11,
   "id": "b5abc1fd-8916-47e5-a69e-d98d1e0f34c5",
   "metadata": {},
   "outputs": [],
   "source": [
    "import os\n",
    "\n",
    "from llama_index.llms.ollama import Ollama\n",
    "\n",
    "MODEL=\"llama3.2\"\n",
    "PROMPT= \"Be a good boy\"\n",
    "DATA_PATH=\"./kb/kbm1.json\"\n",
    "DATA_DIR = \"./kb/\""
   ]
  },
  {
   "cell_type": "code",
   "execution_count": 12,
   "id": "e38bac69-def4-46a9-a4dd-35a46a3ed42a",
   "metadata": {},
   "outputs": [],
   "source": [
    "llm = Ollama(model=MODEL, request_timeout=120)"
   ]
  },
  {
   "cell_type": "markdown",
   "id": "cb47fc14",
   "metadata": {},
   "source": [
    "## single file retrieving"
   ]
  },
  {
   "cell_type": "code",
   "execution_count": 13,
   "id": "3ea8ce12-667d-48f7-af16-505940eed61c",
   "metadata": {},
   "outputs": [],
   "source": [
    "def retrieve_data(query):\n",
    "    # right now this function doesn't use the query, but it could be used to filter the data later...\n",
    "    with open(DATA_PATH, 'r') as file:\n",
    "        file_content = file.read()\n",
    "    return file_content\n",
    "    \n",
    "# Step 3: Define the RAG pipeline with retrieval and generation\n",
    "def rag_pipeline(query):\n",
    "    # Retrieve relevant documents\n",
    "    # retrieved_docs = [retrieve_data(query)]\n",
    "    data = \"\"\n",
    "    data = retrieve_data(query)\n",
    "    # Build the prompt with the retrieved documents\n",
    "    prompt = PROMPT + data + query\n",
    "    # print(prompt)\n",
    "    # Generate the response with Ollama  \n",
    "    response = llm.complete(prompt)\n",
    "    return response  # Extracting the generated answer text"
   ]
  },
  {
   "cell_type": "code",
   "execution_count": null,
   "id": "63a1c691-e98b-44f2-898f-d682a9503cb1",
   "metadata": {},
   "outputs": [],
   "source": [
    "# Test the RAG pipeline\n",
    "# query = \"Give me insight about the main KPIs?\"\n",
    "\n",
    "query = \"Hello\"\n",
    "\n",
    "answer = rag_pipeline(query)\n",
    "print(answer)"
   ]
  },
  {
   "cell_type": "code",
   "execution_count": null,
   "id": "837378df-c795-4b38-8bf9-ea827db5ceee",
   "metadata": {},
   "outputs": [],
   "source": [
    "query = \"Which is your favourite machine?\"\n",
    "\n",
    "answer = rag_pipeline(query)\n",
    "print(answer)"
   ]
  },
  {
   "cell_type": "markdown",
   "id": "f4d997a6",
   "metadata": {},
   "source": [
    "## multi-file delivery"
   ]
  },
  {
   "cell_type": "code",
   "execution_count": null,
   "id": "d6dd09bd",
   "metadata": {},
   "outputs": [],
   "source": [
    "def retrieve_data(query):\n",
    "    # Aggregate data from all JSON files in the specified directory\n",
    "    data_content = \"\"\n",
    "    for filename in os.listdir(DATA_DIR):\n",
    "        if filename.endswith(\".json\"):\n",
    "            file_path = os.path.join(DATA_DIR, filename)\n",
    "            with open(file_path, 'r') as file:\n",
    "                file_content = file.read()\n",
    "                data_content += file_content + \"\\n\"  # Append content from each file\n",
    "    return data_content\n",
    "\n",
    "# Define the RAG pipeline with retrieval and generation\n",
    "def rag_pipeline(query):\n",
    "    # Retrieve relevant documents from all JSON files\n",
    "    data = retrieve_data(query)\n",
    "    \n",
    "    # Build the prompt with the retrieved documents\n",
    "    prompt = PROMPT + data + query\n",
    "    # Generate the response with Ollama\n",
    "    response = llm.complete(prompt)\n",
    "    return response  # Extracting the generated answer text"
   ]
  },
  {
   "cell_type": "code",
   "execution_count": null,
   "id": "cd994718",
   "metadata": {},
   "outputs": [],
   "source": [
    "# Test the RAG pipeline\n",
    "# query = \"Give me insight about the main KPIs?\"\n",
    "\n",
    "query = \"Hello, i have  a working_time on Large cutting machine 1 of 334, is it good?\"\n",
    "\n",
    "answer = rag_pipeline(query)\n",
    "print(answer)"
   ]
  },
  {
   "cell_type": "markdown",
   "id": "c3734324",
   "metadata": {},
   "source": [
    "# notebooking the script.............\n"
   ]
  },
  {
   "cell_type": "code",
   "execution_count": 166,
   "id": "1ce9dcde",
   "metadata": {},
   "outputs": [],
   "source": [
    "import os\n",
    "from pathlib import Path\n",
    "from llama_index.llms.ollama import Ollama\n",
    "from llama_index.core import VectorStoreIndex\n",
    "from llama_index.core.embeddings import resolve_embed_model\n",
    "from llama_index.readers.json import JSONReader\n",
    "from llama_index.core.node_parser import JSONNodeParser\n",
    "from llama_index.readers.file import FlatReader"
   ]
  },
  {
   "cell_type": "code",
   "execution_count": 167,
   "id": "04175eb0",
   "metadata": {},
   "outputs": [],
   "source": [
    "DATA_PATH = \"./data/\"\n",
    "\n",
    "# setting up reader, parser, and llm\n",
    "reader = JSONReader()\n",
    "# parser = JSONNodeParser()     # if we want to split the documents into nodes\n",
    "llm = Ollama(model=\"llama3.2\", request_timeout=60.0)"
   ]
  },
  {
   "cell_type": "code",
   "execution_count": null,
   "id": "870b8eb8",
   "metadata": {},
   "outputs": [],
   "source": [
    "\n",
    "# creating the documents out of the json files\n",
    "documents = []\n",
    "for filename in os.listdir(DATA_PATH):\n",
    "    if filename.endswith(\".json\"):\n",
    "        file_path = os.path.join(DATA_PATH, filename)\n",
    "        #documents.extend(FlatReader().load_data(Path(file_path)))     # if we want to load the data to then split it into nodes\n",
    "        documents.extend(reader.load_data(input_file=file_path))\n",
    "\n",
    "# nodes = parser.get_nodes_from_documents(documents)            # if we want to split documents into nodes\n"
   ]
  },
  {
   "cell_type": "code",
   "execution_count": 196,
   "id": "69977c84",
   "metadata": {},
   "outputs": [],
   "source": [
    "parser = JSONNodeParser()\n",
    "\n",
    "nodes = parser.get_nodes_from_documents(documents)"
   ]
  },
  {
   "cell_type": "code",
   "execution_count": 197,
   "id": "b6b3d6bb",
   "metadata": {},
   "outputs": [
    {
     "data": {
      "text/plain": [
       "[Document(id_='2af681ca-8e25-4aeb-aca8-13001acf3382', embedding=None, metadata={}, excluded_embed_metadata_keys=[], excluded_llm_metadata_keys=[], relationships={}, text='\"machine_id\": \"Large Capacity Cutting Machine 1\",\\n\"month\": \"2024-06\",\\n\"KPIs\": {\\n\"average_cycle_time\": {\\n\"average\": 0.0,\\n\"min\": 0.0,\\n\"max\": 0.0\\n\"bad_cycles\": {\\n\"average\": 0.0,\\n\"min\": 0.0,\\n\"max\": 0.0\\n\"consumption\": {\\n\"average\": 0.0022754360628985696,\\n\"min\": 0.0,\\n\"max\": 0.28049992033965815\\n\"consumption_idle\": {\\n\"average\": 0.0004284444720048216,\\n\"min\": 0.0,\\n\"max\": 0.002268065000498686\\n\"consumption_working\": {\\n\"average\": 0.003705408855178665,\\n\"min\": 0.0,\\n\"max\": 0.033748348936949925\\n\"cost\": {\\n\"average\": 0.0011976140803471493,\\n\"min\": 0.0,\\n\"max\": 0.1762150443093765\\n\"cost_idle\": {\\n\"average\": 0.0007713563761009156,\\n\"min\": 0.0,\\n\"max\": 0.1762150443093765\\n\"cost_working\": {\\n\"average\": 0.0013039613971528039,\\n\"min\": 0.0,\\n\"max\": 0.013332865828880693\\n\"cycles\": {\\n\"average\": 0.8,\\n\"min\": 0.0,\\n\"max\": 28007.0\\n\"good_cycles\": {\\n\"average\": 3063.0333333333333,\\n\"min\": 0.0,\\n\"max\": 28007.0\\n\"idle_time\": {\\n\"average\": 0.0,\\n\"min\": 0.0,\\n\"max\": 0.0\\n\"offline_time\": {\\n\"average\": 0.0,\\n\"min\": 0.0,\\n\"max\": 0.0\\n\"power\": {\\n\"average\": 0.005318539522469576,\\n\"min\": 0.0,\\n\"max\": 0.060062284125605395\\n\"working_time\": {\\n\"average\": 0.0,\\n\"min\": 0.0,\\n\"max\": 0.0', mimetype='text/plain', start_char_idx=None, end_char_idx=None, text_template='{metadata_str}\\n\\n{content}', metadata_template='{key}: {value}', metadata_seperator='\\n'),\n",
       " Document(id_='c4699652-bcbd-44ba-9daf-3ff70e6e7e5d', embedding=None, metadata={}, excluded_embed_metadata_keys=[], excluded_llm_metadata_keys=[], relationships={}, text='\"machine_id\": \"Large Capacity Cutting Machine 1\",\\n\"month\": \"2024-03\",\\n\"KPIs\": {\\n\"average_cycle_time\": {\\n\"average\": 0.0,\\n\"min\": 0.0,\\n\"max\": 0.0\\n\"bad_cycles\": {\\n\"average\": 0.0,\\n\"min\": 0.0,\\n\"max\": 0.0\\n\"consumption\": {\\n\"average\": 0.0013015137854767644,\\n\"min\": 0.0,\\n\"max\": 0.09477750094431775\\n\"consumption_idle\": {\\n\"average\": 0.0004203452003983412,\\n\"min\": 0.0,\\n\"max\": 0.0024920118485895794\\n\"consumption_working\": {\\n\"average\": 0.0021111835419563543,\\n\"min\": 0.0,\\n\"max\": 0.017477024244629727\\n\"cost\": {\\n\"average\": 0.0007648453461734984,\\n\"min\": 0.0,\\n\"max\": 0.0\\n\"cost_idle\": {\\n\"average\": 0.0,\\n\"min\": 0.0,\\n\"max\": 0.0\\n\"cost_working\": {\\n\"average\": 0.0,\\n\"min\": 0.0,\\n\"max\": 0.0\\n\"cycles\": {\\n\"average\": 0.6451612903225806,\\n\"min\": 0.0,\\n\"max\": 28754.0\\n\"good_cycles\": {\\n\"average\": 1228.6129032258063,\\n\"min\": 0.0,\\n\"max\": 28754.0\\n\"idle_time\": {\\n\"average\": 0.0,\\n\"min\": 0.0,\\n\"max\": 0.0\\n\"offline_time\": {\\n\"average\": 0.0,\\n\"min\": 0.0,\\n\"max\": 0.0\\n\"power\": {\\n\"average\": 0.0028015846972911963,\\n\"min\": 0.0,\\n\"max\": 0.08007309150809613\\n\"working_time\": {\\n\"average\": 0.0,\\n\"min\": 0.0,\\n\"max\": 0.0', mimetype='text/plain', start_char_idx=None, end_char_idx=None, text_template='{metadata_str}\\n\\n{content}', metadata_template='{key}: {value}', metadata_seperator='\\n'),\n",
       " Document(id_='d3037144-4dc2-4192-bb50-ab65146ee168', embedding=None, metadata={}, excluded_embed_metadata_keys=[], excluded_llm_metadata_keys=[], relationships={}, text='\"machine_id\": \"Large Capacity Cutting Machine 1\",\\n\"month\": \"2024-05\",\\n\"KPIs\": {\\n\"average_cycle_time\": {\\n\"average\": 0.0,\\n\"min\": 0.0,\\n\"max\": 0.0\\n\"bad_cycles\": {\\n\"average\": 0.0,\\n\"min\": 0.0,\\n\"max\": 0.0\\n\"consumption\": {\\n\"average\": 0.002799379949902471,\\n\"min\": 0.0,\\n\"max\": 0.12412694259654157\\n\"consumption_idle\": {\\n\"average\": 0.00039586009607357774,\\n\"min\": 0.0,\\n\"max\": 0.0025121081248827668\\n\"consumption_working\": {\\n\"average\": 0.005171048270134325,\\n\"min\": 0.0,\\n\"max\": 0.01937953126718196\\n\"cost\": {\\n\"average\": 0.0013966704424137914,\\n\"min\": 0.0,\\n\"max\": 0.06049559658193854\\n\"cost_idle\": {\\n\"average\": 0.002880504257680128,\\n\"min\": 0.0,\\n\"max\": 0.06049559658193854\\n\"cost_working\": {\\n\"average\": 0.0010668939298626844,\\n\"min\": 0.0,\\n\"max\": 0.005119495103387172\\n\"cycles\": {\\n\"average\": 0.7419354838709677,\\n\"min\": 0.0,\\n\"max\": 29583.0\\n\"good_cycles\": {\\n\"average\": 3137.3548387096776,\\n\"min\": 0.0,\\n\"max\": 29583.0\\n\"idle_time\": {\\n\"average\": 0.0,\\n\"min\": 0.0,\\n\"max\": 0.0\\n\"offline_time\": {\\n\"average\": 0.0,\\n\"min\": 0.0,\\n\"max\": 0.0\\n\"power\": {\\n\"average\": 0.006419209980529377,\\n\"min\": 0.0,\\n\"max\": 0.07749037801786449\\n\"working_time\": {\\n\"average\": 0.0,\\n\"min\": 0.0,\\n\"max\": 0.0', mimetype='text/plain', start_char_idx=None, end_char_idx=None, text_template='{metadata_str}\\n\\n{content}', metadata_template='{key}: {value}', metadata_seperator='\\n'),\n",
       " Document(id_='6b1a21d2-3c5a-42a8-acf2-0873586019f7', embedding=None, metadata={}, excluded_embed_metadata_keys=[], excluded_llm_metadata_keys=[], relationships={}, text='\"machine_id\": \"Large Capacity Cutting Machine 1\",\\n\"month\": \"2024-04\",\\n\"KPIs\": {\\n\"average_cycle_time\": {\\n\"average\": 0.0,\\n\"min\": 0.0,\\n\"max\": 0.0\\n\"bad_cycles\": {\\n\"average\": 0.0,\\n\"min\": 0.0,\\n\"max\": 0.0\\n\"consumption\": {\\n\"average\": 0.0021429393080972933,\\n\"min\": 0.0,\\n\"max\": 0.19788559705872216\\n\"consumption_idle\": {\\n\"average\": 0.0003240698959068531,\\n\"min\": 0.0,\\n\"max\": 0.0016152124022308077\\n\"consumption_working\": {\\n\"average\": 0.0034884213229493415,\\n\"min\": 0.0,\\n\"max\": 0.022173400242414574\\n\"cost\": {\\n\"average\": 0.0006818958993866005,\\n\"min\": 0.0,\\n\"max\": 0.0\\n\"cost_idle\": {\\n\"average\": 0.0,\\n\"min\": 0.0,\\n\"max\": 0.0\\n\"cost_working\": {\\n\"average\": 0.0,\\n\"min\": 0.0,\\n\"max\": 0.0\\n\"cycles\": {\\n\"average\": 0.6333333333333333,\\n\"min\": 0.0,\\n\"max\": 15829.0\\n\"good_cycles\": {\\n\"average\": 1900.6,\\n\"min\": 0.0,\\n\"max\": 15829.0\\n\"idle_time\": {\\n\"average\": 0.0,\\n\"min\": 0.0,\\n\"max\": 0.0\\n\"offline_time\": {\\n\"average\": 0.0,\\n\"min\": 0.0,\\n\"max\": 0.0\\n\"power\": {\\n\"average\": 0.003297448010405093,\\n\"min\": 0.0,\\n\"max\": 0.07060588114453872\\n\"working_time\": {\\n\"average\": 0.0,\\n\"min\": 0.0,\\n\"max\": 0.0', mimetype='text/plain', start_char_idx=None, end_char_idx=None, text_template='{metadata_str}\\n\\n{content}', metadata_template='{key}: {value}', metadata_seperator='\\n')]"
      ]
     },
     "execution_count": 197,
     "metadata": {},
     "output_type": "execute_result"
    }
   ],
   "source": [
    "documents"
   ]
  },
  {
   "cell_type": "code",
   "execution_count": 194,
   "id": "dbe7adff",
   "metadata": {},
   "outputs": [
    {
     "name": "stdout",
     "output_type": "stream",
     "text": [
      "{'id_': '3e28b3a4-94ac-4ea2-aa99-1bdcd6940425', 'embedding': None, 'metadata': {}, 'excluded_embed_metadata_keys': [], 'excluded_llm_metadata_keys': [], 'relationships': {}, 'text': '\"machine_id\": \"Large Capacity Cutting Machine 1\",\\n\"month\": \"2024-06\",\\n\"KPIs\": {\\n\"average_cycle_time\": {\\n\"average\": 0.0,\\n\"min\": 0.0,\\n\"max\": 0.0\\n\"bad_cycles\": {\\n\"average\": 0.0,\\n\"min\": 0.0,\\n\"max\": 0.0\\n\"consumption\": {\\n\"average\": 0.0022754360628985696,\\n\"min\": 0.0,\\n\"max\": 0.28049992033965815\\n\"consumption_idle\": {\\n\"average\": 0.0004284444720048216,\\n\"min\": 0.0,\\n\"max\": 0.002268065000498686\\n\"consumption_working\": {\\n\"average\": 0.003705408855178665,\\n\"min\": 0.0,\\n\"max\": 0.033748348936949925\\n\"cost\": {\\n\"average\": 0.0011976140803471493,\\n\"min\": 0.0,\\n\"max\": 0.1762150443093765\\n\"cost_idle\": {\\n\"average\": 0.0007713563761009156,\\n\"min\": 0.0,\\n\"max\": 0.1762150443093765\\n\"cost_working\": {\\n\"average\": 0.0013039613971528039,\\n\"min\": 0.0,\\n\"max\": 0.013332865828880693\\n\"cycles\": {\\n\"average\": 0.8,\\n\"min\": 0.0,\\n\"max\": 28007.0\\n\"good_cycles\": {\\n\"average\": 3063.0333333333333,\\n\"min\": 0.0,\\n\"max\": 28007.0\\n\"idle_time\": {\\n\"average\": 0.0,\\n\"min\": 0.0,\\n\"max\": 0.0\\n\"offline_time\": {\\n\"average\": 0.0,\\n\"min\": 0.0,\\n\"max\": 0.0\\n\"power\": {\\n\"average\": 0.005318539522469576,\\n\"min\": 0.0,\\n\"max\": 0.060062284125605395\\n\"working_time\": {\\n\"average\": 0.0,\\n\"min\": 0.0,\\n\"max\": 0.0', 'mimetype': 'text/plain', 'start_char_idx': None, 'end_char_idx': None, 'text_template': '{metadata_str}\\n\\n{content}', 'metadata_template': '{key}: {value}', 'metadata_seperator': '\\n'}\n"
     ]
    }
   ],
   "source": [
    "print(documents[0].__dict__)"
   ]
  },
  {
   "cell_type": "code",
   "execution_count": 193,
   "id": "af39c308",
   "metadata": {},
   "outputs": [
    {
     "data": {
      "text/plain": [
       "[]"
      ]
     },
     "execution_count": 193,
     "metadata": {},
     "output_type": "execute_result"
    }
   ],
   "source": [
    "nodes"
   ]
  },
  {
   "cell_type": "code",
   "execution_count": 135,
   "id": "41c0ce65",
   "metadata": {},
   "outputs": [],
   "source": [
    "#embed_model = resolve_embed_model(\"local:BAAI/bge-m3\")"
   ]
  },
  {
   "cell_type": "code",
   "execution_count": 136,
   "id": "436ccbc1",
   "metadata": {},
   "outputs": [],
   "source": [
    "#embed_model = resolve_embed_model('local:sentence-transformers/all-MiniLM-L6-v2')"
   ]
  },
  {
   "cell_type": "code",
   "execution_count": 187,
   "id": "8ba095bd",
   "metadata": {},
   "outputs": [],
   "source": [
    "embed_model = resolve_embed_model('local:sentence-transformers/all-mpnet-base-v2')"
   ]
  },
  {
   "cell_type": "code",
   "execution_count": null,
   "id": "26c26038",
   "metadata": {},
   "outputs": [],
   "source": [
    "# if we work with nodes\n",
    "#vector_index = VectorStoreIndex.from_documents(nodes, embed_model=embed_model)"
   ]
  },
  {
   "cell_type": "code",
   "execution_count": null,
   "id": "3695f0ef",
   "metadata": {},
   "outputs": [
    {
     "name": "stderr",
     "output_type": "stream",
     "text": [
      "Parsing nodes: 100%|██████████| 4/4 [00:00<00:00, 379.62it/s]\n",
      "Generating embeddings: 100%|██████████| 4/4 [00:06<00:00,  1.61s/it]\n"
     ]
    }
   ],
   "source": [
    "# if we work with documents\n",
    "vector_index = VectorStoreIndex.from_documents(documents, embed_model=embed_model, show_progress=True)"
   ]
  },
  {
   "cell_type": "code",
   "execution_count": 165,
   "id": "d953c9c7",
   "metadata": {},
   "outputs": [
    {
     "name": "stdout",
     "output_type": "stream",
     "text": [
      "0.0021111835419563543\n"
     ]
    }
   ],
   "source": [
    "query_engine = vector_index.as_query_engine(llm=llm, similarity_top_k=4)\n",
    "\n",
    "result = query_engine.query(\"What is the avg consumption for machine Large Capacity Cutting Machine 1 in the month of 2024-03?\")\n",
    "print(result)"
   ]
  }
 ],
 "metadata": {
  "kernelspec": {
   "display_name": ".venv",
   "language": "python",
   "name": "python3"
  },
  "language_info": {
   "codemirror_mode": {
    "name": "ipython",
    "version": 3
   },
   "file_extension": ".py",
   "mimetype": "text/x-python",
   "name": "python",
   "nbconvert_exporter": "python",
   "pygments_lexer": "ipython3",
   "version": "3.12.0"
  }
 },
 "nbformat": 4,
 "nbformat_minor": 5
}
