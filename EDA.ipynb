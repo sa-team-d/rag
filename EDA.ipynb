{
 "cells": [
  {
   "cell_type": "code",
   "execution_count": 8,
   "id": "b5abc1fd-8916-47e5-a69e-d98d1e0f34c5",
   "metadata": {},
   "outputs": [],
   "source": [
    "from llama_index.llms.ollama import Ollama\n",
    "MODEL=\"llama3.2\"\n",
    "PROMPT= \"Be a good boy\"\n",
    "DATA_PATH=\"./db.txt\""
   ]
  },
  {
   "cell_type": "code",
   "execution_count": 9,
   "id": "e38bac69-def4-46a9-a4dd-35a46a3ed42a",
   "metadata": {},
   "outputs": [],
   "source": [
    "llm = Ollama(model=MODEL)"
   ]
  },
  {
   "cell_type": "code",
   "execution_count": 10,
   "id": "3ea8ce12-667d-48f7-af16-505940eed61c",
   "metadata": {},
   "outputs": [],
   "source": [
    "def retrieve_data(query):\n",
    "    with open(DATA_PATH, 'r') as file:\n",
    "        file_content = file.read()\n",
    "    return file_content\n",
    "    \n",
    "# Step 3: Define the RAG pipeline with retrieval and generation\n",
    "def rag_pipeline(query):\n",
    "    # Retrieve relevant documents\n",
    "    # retrieved_docs = [retrieve_data(query)]\n",
    "    data = \"\"\n",
    "    data = retrieve_data(query)\n",
    "    # Build the prompt with the retrieved documents\n",
    "    prompt = PROMPT + data + query\n",
    "    # print(prompt)\n",
    "    # Generate the response with Ollama\n",
    "    response = llm.complete(prompt)\n",
    "    return response  # Extracting the generated answer text\n",
    "\n"
   ]
  },
  {
   "cell_type": "code",
   "execution_count": 11,
   "id": "63a1c691-e98b-44f2-898f-d682a9503cb1",
   "metadata": {},
   "outputs": [
    {
     "name": "stdout",
     "output_type": "stream",
     "text": [
      "Based on the provided dataset, here are some insights about the important KPIs:\n",
      "\n",
      "1. **Time-Related KPIs**:\n",
      "\t* `working_time`: This KPI indicates the total time spent in active operation for each machine. The mean working time for Large Capacity Cutting Machine 1 is around 4531 seconds, indicating that it spends most of its time in active operation.\n",
      "\t* `idle_time`: This KPI shows the total time spent when the machine is idle. For example, Riveting Machine has an average idle time of 10522 seconds, indicating that it often spends a significant amount of time not being used.\n",
      "2. **Energy and Cost-Related KPIs**:\n",
      "\t* `consumption`: This KPI measures the total energy consumption for each machine. The mean consumption for Laser Cutter is around 1036.503 kWh, indicating that it consumes a significant amount of energy.\n",
      "\t* `cost`: This KPI shows the cost associated with energy consumption. For example, Riveting Machine has an average cost of 1029 euro per kWh, making it one of the most expensive machines to operate.\n",
      "3. **Production-Related KPIs**:\n",
      "\t* `cycles`: This KPI measures the total number of production cycles for each machine. The mean cycle count for Medium Capacity Cutting Machine 1 is around 3582, indicating that it produces a significant number of cycles.\n",
      "\t* `good_cycles` and `bad_cycles`: These KPIs show the number of successful and defective cycles, respectively. For example, Testing Machine 1 has an average good cycle count of 456, indicating that most of its cycles are successful.\n",
      "\n",
      "Some key observations from these insights include:\n",
      "\n",
      "* Machines with higher production capacity (e.g., Large Capacity Cutting Machine 1) tend to have longer working times and lower idle times.\n",
      "* Energy-intensive machines (e.g., Laser Cutter) often have high energy consumption and cost values.\n",
      "* Machines with more defective cycles (e.g., Testing Machine 2) may require additional maintenance or quality control measures.\n",
      "* Machines with higher cycle counts (e.g., Medium Capacity Cutting Machine 1) can produce a significant volume of products, making them crucial for production processes.\n",
      "\n",
      "These insights can help identify areas where machines are underutilized, where energy consumption can be optimized, and where production processes can be improved.\n"
     ]
    }
   ],
   "source": [
    "# Test the RAG pipeline\n",
    "# query = \"Give me insight about the main KPIs?\"\n",
    "query = \"Give me insights about the important KPIs\"\n",
    "\n",
    "answer = rag_pipeline(query)\n",
    "print(answer)"
   ]
  },
  {
   "cell_type": "code",
   "execution_count": null,
   "id": "837378df-c795-4b38-8bf9-ea827db5ceee",
   "metadata": {},
   "outputs": [],
   "source": []
  }
 ],
 "metadata": {
  "kernelspec": {
   "display_name": ".venv",
   "language": "python",
   "name": "python3"
  },
  "language_info": {
   "codemirror_mode": {
    "name": "ipython",
    "version": 3
   },
   "file_extension": ".py",
   "mimetype": "text/x-python",
   "name": "python",
   "nbconvert_exporter": "python",
   "pygments_lexer": "ipython3",
   "version": "3.11.7"
  }
 },
 "nbformat": 4,
 "nbformat_minor": 5
}
