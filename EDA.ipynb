{
 "cells": [
  {
   "cell_type": "code",
   "execution_count": 1,
   "id": "b5abc1fd-8916-47e5-a69e-d98d1e0f34c5",
   "metadata": {},
   "outputs": [],
   "source": [
    "from llama_index.llms.ollama import Ollama\n",
    "MODEL=\"llama3.1\"\n",
    "PROMPT= \"Be a good boy\"\n",
    "DATA_PATH=\"./db.txt\""
   ]
  },
  {
   "cell_type": "code",
   "execution_count": 2,
   "id": "e38bac69-def4-46a9-a4dd-35a46a3ed42a",
   "metadata": {},
   "outputs": [],
   "source": [
    "llm = Ollama(model=MODEL)"
   ]
  },
  {
   "cell_type": "code",
   "execution_count": 3,
   "id": "3ea8ce12-667d-48f7-af16-505940eed61c",
   "metadata": {},
   "outputs": [],
   "source": [
    "def retrieve_data(query):\n",
    "    with open(DATA_PATH, 'r') as file:\n",
    "        file_content = file.read()\n",
    "    return file_content\n",
    "    \n",
    "# Step 3: Define the RAG pipeline with retrieval and generation\n",
    "def rag_pipeline(query):\n",
    "    # Retrieve relevant documents\n",
    "    # retrieved_docs = [retrieve_data(query)]\n",
    "    data = \"\"\n",
    "    data = retrieve_data(query)\n",
    "    # Build the prompt with the retrieved documents\n",
    "    prompt = PROMPT + data + query\n",
    "    # print(prompt)\n",
    "    # Generate the response with Ollama\n",
    "    response = llm.complete(prompt)\n",
    "    return response  # Extracting the generated answer text\n",
    "\n"
   ]
  },
  {
   "cell_type": "code",
   "execution_count": 4,
   "id": "63a1c691-e98b-44f2-898f-d682a9503cb1",
   "metadata": {},
   "outputs": [
    {
     "name": "stdout",
     "output_type": "stream",
     "text": [
      "Based on the provided information, here are some insights about the important KPIs:\n",
      "\n",
      "**Time-Related KPIs**\n",
      "\n",
      "1. **working_time**: This KPI measures the active machine operation time in seconds. It's essential to monitor this metric as it directly impacts productivity and efficiency.\n",
      "2. **idle_time**: The idle time KPI tracks when machines are not operational, indicating potential inefficiencies or maintenance needs.\n",
      "3. **offline_time**: Offline time is critical to understand, as it can lead to production delays and revenue losses.\n",
      "\n",
      "**Energy and Cost-Related KPIs**\n",
      "\n",
      "1. **consumption**: This KPI measures the total energy consumption in kWh, which is crucial for understanding power costs and environmental impact.\n",
      "2. **power**: The power rating (kW) helps evaluate machine performance and potential energy efficiency improvements.\n",
      "3. **cost**: Energy cost per kWh is a vital metric to monitor, as it directly affects business expenses.\n",
      "4. **consumption_working**: Tracking consumption during active operation (kWh) highlights the energy usage when machines are productive.\n",
      "5. **consumption_idle**: This KPI shows energy consumption while machines are idle, indicating potential areas for improvement.\n",
      "\n",
      "**Production-Related KPIs**\n",
      "\n",
      "1. **cycles**: The total production cycles metric is essential to understand overall productivity and capacity utilization.\n",
      "2. **good_cycles**: Tracking successful cycles helps evaluate machine efficiency and identify potential quality control issues.\n",
      "3. **bad_cycles**: Monitoring defective cycles is crucial for identifying quality control problems and implementing corrective actions.\n",
      "4. **average_cycle_time**: This KPI measures the average time per cycle, which can indicate production bottlenecks or inefficiencies.\n",
      "\n",
      "These KPIs provide valuable insights into machine performance, productivity, energy efficiency, and cost optimization. By monitoring these metrics, organizations can:\n",
      "\n",
      "* Identify areas for improvement to increase productivity and efficiency\n",
      "* Optimize energy consumption and reduce costs\n",
      "* Enhance quality control and minimize defective products\n",
      "* Inform strategic decisions related to production planning, resource allocation, and investment in new equipment or technologies\n"
     ]
    }
   ],
   "source": [
    "# Test the RAG pipeline\n",
    "# query = \"Give me insight about the main KPIs?\"\n",
    "query = \"Give me insights about the important KPIs\"\n",
    "\n",
    "answer = rag_pipeline(query)\n",
    "print(answer)"
   ]
  },
  {
   "cell_type": "code",
   "execution_count": null,
   "id": "837378df-c795-4b38-8bf9-ea827db5ceee",
   "metadata": {},
   "outputs": [],
   "source": []
  }
 ],
 "metadata": {
  "kernelspec": {
   "display_name": "Python 3 (ipykernel)",
   "language": "python",
   "name": "python3"
  },
  "language_info": {
   "codemirror_mode": {
    "name": "ipython",
    "version": 3
   },
   "file_extension": ".py",
   "mimetype": "text/x-python",
   "name": "python",
   "nbconvert_exporter": "python",
   "pygments_lexer": "ipython3",
   "version": "3.12.7"
  }
 },
 "nbformat": 4,
 "nbformat_minor": 5
}
