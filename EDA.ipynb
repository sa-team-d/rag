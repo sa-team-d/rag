{
 "cells": [
  {
   "cell_type": "code",
   "execution_count": null,
   "id": "b5abc1fd-8916-47e5-a69e-d98d1e0f34c5",
   "metadata": {},
   "outputs": [],
   "source": [
    "import os\n",
    "\n",
    "from llama_index.llms.ollama import Ollama\n",
    "\n",
    "MODEL=\"llama3.2\"\n",
    "PROMPT= \"Be a good boy\"\n",
    "DATA_PATH=\"./kb/kbm1.json\"\n",
    "DATA_DIR = \"./kb/\""
   ]
  },
  {
   "cell_type": "code",
   "execution_count": 15,
   "id": "e38bac69-def4-46a9-a4dd-35a46a3ed42a",
   "metadata": {},
   "outputs": [],
   "source": [
    "llm = Ollama(model=MODEL, request_timeout=60)"
   ]
  },
  {
   "cell_type": "markdown",
   "id": "cb47fc14",
   "metadata": {},
   "source": [
    "## single file retrieving"
   ]
  },
  {
   "cell_type": "code",
   "execution_count": 16,
   "id": "3ea8ce12-667d-48f7-af16-505940eed61c",
   "metadata": {},
   "outputs": [],
   "source": [
    "def retrieve_data(query):\n",
    "    # right now this function doesn't use the query, but it could be used to filter the data later...\n",
    "    with open(DATA_PATH, 'r') as file:\n",
    "        file_content = file.read()\n",
    "    return file_content\n",
    "    \n",
    "# Step 3: Define the RAG pipeline with retrieval and generation\n",
    "def rag_pipeline(query):\n",
    "    # Retrieve relevant documents\n",
    "    # retrieved_docs = [retrieve_data(query)]\n",
    "    data = \"\"\n",
    "    data = retrieve_data(query)\n",
    "    # Build the prompt with the retrieved documents\n",
    "    prompt = PROMPT + data + query\n",
    "    # print(prompt)\n",
    "    # Generate the response with Ollama  \n",
    "    response = llm.complete(prompt)\n",
    "    return response  # Extracting the generated answer text"
   ]
  },
  {
   "cell_type": "code",
   "execution_count": null,
   "id": "63a1c691-e98b-44f2-898f-d682a9503cb1",
   "metadata": {},
   "outputs": [],
   "source": [
    "# Test the RAG pipeline\n",
    "# query = \"Give me insight about the main KPIs?\"\n",
    "\n",
    "query = \"Hello\"\n",
    "\n",
    "answer = rag_pipeline(query)\n",
    "print(answer)"
   ]
  },
  {
   "cell_type": "code",
   "execution_count": null,
   "id": "837378df-c795-4b38-8bf9-ea827db5ceee",
   "metadata": {},
   "outputs": [],
   "source": [
    "query = \"Which is your favourite machine?\"\n",
    "\n",
    "answer = rag_pipeline(query)\n",
    "print(answer)"
   ]
  },
  {
   "cell_type": "markdown",
   "id": "f4d997a6",
   "metadata": {},
   "source": [
    "## multi-file delivery"
   ]
  },
  {
   "cell_type": "code",
   "execution_count": 18,
   "id": "d6dd09bd",
   "metadata": {},
   "outputs": [],
   "source": [
    "def retrieve_data(query):\n",
    "    # Aggregate data from all JSON files in the specified directory\n",
    "    data_content = \"\"\n",
    "    for filename in os.listdir(DATA_DIR):\n",
    "        if filename.endswith(\".json\"):\n",
    "            file_path = os.path.join(DATA_DIR, filename)\n",
    "            with open(file_path, 'r') as file:\n",
    "                file_content = file.read()\n",
    "                data_content += file_content + \"\\n\"  # Append content from each file\n",
    "    return data_content\n",
    "\n",
    "# Define the RAG pipeline with retrieval and generation\n",
    "def rag_pipeline(query):\n",
    "    # Retrieve relevant documents from all JSON files\n",
    "    data = retrieve_data(query)\n",
    "    \n",
    "    # Build the prompt with the retrieved documents\n",
    "    prompt = PROMPT + data + query\n",
    "    # Generate the response with Ollama\n",
    "    response = llm.complete(prompt)\n",
    "    return response  # Extracting the generated answer text"
   ]
  },
  {
   "cell_type": "code",
   "execution_count": null,
   "id": "cd994718",
   "metadata": {},
   "outputs": [],
   "source": [
    "# Test the RAG pipeline\n",
    "# query = \"Give me insight about the main KPIs?\"\n",
    "\n",
    "query = \"Hello, i have  a working_time on Large cutting machine 1 of 334, is it good?\"\n",
    "\n",
    "answer = rag_pipeline(query)\n",
    "print(answer)"
   ]
  }
 ],
 "metadata": {
  "kernelspec": {
   "display_name": ".venv",
   "language": "python",
   "name": "python3"
  },
  "language_info": {
   "codemirror_mode": {
    "name": "ipython",
    "version": 3
   },
   "file_extension": ".py",
   "mimetype": "text/x-python",
   "name": "python",
   "nbconvert_exporter": "python",
   "pygments_lexer": "ipython3",
   "version": "3.11.7"
  }
 },
 "nbformat": 4,
 "nbformat_minor": 5
}
