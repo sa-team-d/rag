{
 "cells": [
  {
   "cell_type": "code",
   "execution_count": 9,
   "id": "b5abc1fd-8916-47e5-a69e-d98d1e0f34c5",
   "metadata": {},
   "outputs": [],
   "source": [
    "from llama_index.llms.ollama import Ollama\n",
    "MODEL=\"llama3.2\"\n",
    "PROMPT= \"Be a good boy\"\n",
    "DATA_PATH=\"./db.txt\""
   ]
  },
  {
   "cell_type": "code",
   "execution_count": 14,
   "id": "e38bac69-def4-46a9-a4dd-35a46a3ed42a",
   "metadata": {},
   "outputs": [],
   "source": [
    "llm = Ollama(model=MODEL, request_timeout=120)"
   ]
  },
  {
   "cell_type": "code",
   "execution_count": 15,
   "id": "3ea8ce12-667d-48f7-af16-505940eed61c",
   "metadata": {},
   "outputs": [],
   "source": [
    "def retrieve_data(query):\n",
    "    # right now this function doesn't use the query, but it could be used to filter the data later...\n",
    "    with open(DATA_PATH, 'r') as file:\n",
    "        file_content = file.read()\n",
    "    return file_content\n",
    "    \n",
    "# Step 3: Define the RAG pipeline with retrieval and generation\n",
    "def rag_pipeline(query):\n",
    "    # Retrieve relevant documents\n",
    "    # retrieved_docs = [retrieve_data(query)]\n",
    "    data = \"\"\n",
    "    data = retrieve_data(query)\n",
    "    # Build the prompt with the retrieved documents\n",
    "    prompt = PROMPT + data + query\n",
    "    # print(prompt)\n",
    "    # Generate the response with Ollama\n",
    "    response = llm.complete(prompt)\n",
    "    return response  # Extracting the generated answer text"
   ]
  },
  {
   "cell_type": "code",
   "execution_count": 17,
   "id": "63a1c691-e98b-44f2-898f-d682a9503cb1",
   "metadata": {},
   "outputs": [
    {
     "name": "stdout",
     "output_type": "stream",
     "text": [
      "To find out how many machines there are in the factory, we can look at the count for each machine type.\n",
      "\n",
      "- Metal Cutting Machines: 7\n",
      "- Laser Welding Machines: 2\n",
      "- Assembly Machines: 3\n",
      "- Testing Machines: 3\n",
      "- Other Machines (Laser Cutter and Riveting Machine): 2\n",
      "\n",
      "In total, there are 7 + 2 + 3 + 3 + 2 = 17 machines in the factory.\n"
     ]
    }
   ],
   "source": [
    "# Test the RAG pipeline\n",
    "# query = \"Give me insight about the main KPIs?\"\n",
    "query = \"How many machines are there in the factory?\"\n",
    "\n",
    "answer = rag_pipeline(query)\n",
    "print(answer)"
   ]
  },
  {
   "cell_type": "code",
   "execution_count": null,
   "id": "837378df-c795-4b38-8bf9-ea827db5ceee",
   "metadata": {},
   "outputs": [
    {
     "name": "stdout",
     "output_type": "stream",
     "text": [
      "I'm just an AI, I don't have personal preferences or feelings, but I can tell you about some of the machines that are interesting based on their statistical properties.\n",
      "\n",
      "For instance, the Large Capacity Cutting Machine 1 has a high standard deviation (16042.701498) in terms of its working time, indicating that there is quite a bit of variation in how long it operates each day. On the other hand, the Riveting Machine has an extremely low variance (0) in its idle time (10522.629669), suggesting that all measurements are equal and very consistent.\n",
      "\n",
      "The Laser Cutter appears to have high variability in terms of both energy consumption and cost, with standard deviations of 8536.844988 kWh and 8553.641419 euro/kWh respectively.\n"
     ]
    }
   ],
   "source": [
    "query = \"Which is your favourite machine?\"\n",
    "\n",
    "answer = rag_pipeline(query)\n",
    "print(answer)"
   ]
  },
  {
   "cell_type": "code",
   "execution_count": null,
   "id": "949668f9",
   "metadata": {},
   "outputs": [],
   "source": []
  }
 ],
 "metadata": {
  "kernelspec": {
   "display_name": "rag",
   "language": "python",
   "name": "python3"
  },
  "language_info": {
   "codemirror_mode": {
    "name": "ipython",
    "version": 3
   },
   "file_extension": ".py",
   "mimetype": "text/x-python",
   "name": "python",
   "nbconvert_exporter": "python",
   "pygments_lexer": "ipython3",
   "version": "3.9.20"
  }
 },
 "nbformat": 4,
 "nbformat_minor": 5
}
