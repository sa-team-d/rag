{
 "cells": [
  {
   "cell_type": "code",
   "execution_count": 3,
   "metadata": {},
   "outputs": [
    {
     "name": "stderr",
     "output_type": "stream",
     "text": [
      "Parsing nodes: 100%|██████████| 2/2 [00:00<00:00, 1236.16it/s]\n"
     ]
    }
   ],
   "source": [
    "import json \n",
    "from rag_service.rag_lib import rag_chat\n",
    "\n",
    "kpis = {\"performance\": {\"machine1\": 90, \"machine2\": 85}}\n",
    "machines = {\"machines\": [\"machine1\", \"machine2\"]}\n",
    "query = \"What is the performance of machine1?\"\n",
    "\n",
    "docs = [kpis, machines]\n",
    "\n",
    "response = rag_chat(docs, query)"
   ]
  },
  {
   "cell_type": "code",
   "execution_count": 4,
   "metadata": {},
   "outputs": [
    {
     "data": {
      "text/plain": [
       "Response(response='{\"performance\": {\"machine1\": 90, \"machine2\": 85}}', source_nodes=[NodeWithScore(node=TextNode(id_='52d699eb-9dd7-4c00-9c81-267a38f7864e', embedding=None, metadata={'filename': 'tmpn1gnufrj.json', 'extension': '.json'}, excluded_embed_metadata_keys=[], excluded_llm_metadata_keys=[], relationships={<NodeRelationship.SOURCE: '1'>: RelatedNodeInfo(node_id='7e123175-c0d2-432b-bda7-7c8375c804b2', node_type=<ObjectType.DOCUMENT: '4'>, metadata={'filename': 'tmpn1gnufrj.json', 'extension': '.json'}, hash='3dfd73cba9a41ff22b37c7bb4e4090631468bf843dce91698a832c2f8c75d0a8')}, text='{\"performance\": {\"machine1\": 90, \"machine2\": 85}}', mimetype='text/plain', start_char_idx=0, end_char_idx=49, text_template='{metadata_str}\\n\\n{content}', metadata_template='{key}: {value}', metadata_seperator='\\n'), score=0.5063040845031638), NodeWithScore(node=TextNode(id_='e71dd760-5511-4aca-8af0-cdf11eb6fadf', embedding=None, metadata={'filename': 'tmp29v_lfry.json', 'extension': '.json'}, excluded_embed_metadata_keys=[], excluded_llm_metadata_keys=[], relationships={<NodeRelationship.SOURCE: '1'>: RelatedNodeInfo(node_id='9ce4138f-47f1-498e-830e-a2dc4dd20de3', node_type=<ObjectType.DOCUMENT: '4'>, metadata={'filename': 'tmp29v_lfry.json', 'extension': '.json'}, hash='a01eae7f9b2e800616a48db720ab12a4d2a0cfff66c8183a3a6dac93d331fbad')}, text='{\"performance\": {\"machine1\": 90, \"machine2\": 85}}', mimetype='text/plain', start_char_idx=0, end_char_idx=49, text_template='{metadata_str}\\n\\n{content}', metadata_template='{key}: {value}', metadata_seperator='\\n'), score=0.49245370767047536)], metadata={'52d699eb-9dd7-4c00-9c81-267a38f7864e': {'filename': 'tmpn1gnufrj.json', 'extension': '.json'}, 'e71dd760-5511-4aca-8af0-cdf11eb6fadf': {'filename': 'tmp29v_lfry.json', 'extension': '.json'}})"
      ]
     },
     "execution_count": 4,
     "metadata": {},
     "output_type": "execute_result"
    }
   ],
   "source": [
    "response"
   ]
  },
  {
   "cell_type": "markdown",
   "metadata": {},
   "source": []
  },
  {
   "cell_type": "code",
   "execution_count": 4,
   "metadata": {},
   "outputs": [
    {
     "data": {
      "text/plain": [
       "[{'performance': {'machine1': 90, 'machine2': 85}},\n",
       " {'machines': ['machine1', 'machine2']}]"
      ]
     },
     "execution_count": 4,
     "metadata": {},
     "output_type": "execute_result"
    }
   ],
   "source": [
    "docs"
   ]
  },
  {
   "cell_type": "code",
   "execution_count": null,
   "metadata": {},
   "outputs": [],
   "source": []
  }
 ],
 "metadata": {
  "kernelspec": {
   "display_name": "rag",
   "language": "python",
   "name": "python3"
  },
  "language_info": {
   "codemirror_mode": {
    "name": "ipython",
    "version": 3
   },
   "file_extension": ".py",
   "mimetype": "text/x-python",
   "name": "python",
   "nbconvert_exporter": "python",
   "pygments_lexer": "ipython3",
   "version": "3.9.20"
  }
 },
 "nbformat": 4,
 "nbformat_minor": 2
}
