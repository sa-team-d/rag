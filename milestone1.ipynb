{
 "cells": [
  {
   "cell_type": "markdown",
   "id": "c3734324",
   "metadata": {},
   "source": [
    "# RAG skeleton \n",
    "In the following we'll have the skeleton of the RAG system. It is going to be a very basic implementation, that we are going to expand on later milestones."
   ]
  },
  {
   "cell_type": "code",
   "execution_count": 1,
   "id": "1ce9dcde",
   "metadata": {},
   "outputs": [],
   "source": [
    "import os\n",
    "from pathlib import Path\n",
    "from llama_index.llms.ollama import Ollama\n",
    "from llama_index.core import VectorStoreIndex\n",
    "from llama_index.core.embeddings import resolve_embed_model\n",
    "from llama_index.readers.json import JSONReader\n",
    "from llama_index.core.node_parser import JSONNodeParser\n",
    "from llama_index.readers.file import FlatReader"
   ]
  },
  {
   "cell_type": "markdown",
   "id": "22905fbe-2806-4a0c-b2e7-ab3fcbf94935",
   "metadata": {},
   "source": [
    "#### Loading and Indexing\n",
    "Load the data in order to make the documents' embeddings"
   ]
  },
  {
   "cell_type": "code",
   "execution_count": null,
   "id": "04175eb0",
   "metadata": {},
   "outputs": [],
   "source": [
    "# set a path to folder containing all the json files\n",
    "DATA_PATH = \"./data/\"\n",
    "\n",
    "# setting up reader, parser, and llm\n",
    "reader = JSONReader()\n",
    "\n",
    "# parser = JSONNodeParser()     # if we want to split the documents into nodes\n",
    "llm = Ollama(model=\"mistral\", request_timeout=60.0)"
   ]
  },
  {
   "cell_type": "code",
   "execution_count": null,
   "id": "870b8eb8",
   "metadata": {},
   "outputs": [],
   "source": [
    "# creating the documents out of the json files\n",
    "documents = []\n",
    "for filename in os.listdir(DATA_PATH):\n",
    "    if filename.endswith(\".json\"):\n",
    "        file_path = os.path.join(DATA_PATH, filename)\n",
    "        #documents.extend(FlatReader().load_data(Path(file_path)))     # if we want to load the data to then split it into nodes\n",
    "        documents.extend(reader.load_data(input_file=file_path))\n",
    "\n",
    "# nodes = parser.get_nodes_from_documents(documents)            # if we want to split documents into nodes\n"
   ]
  },
  {
   "cell_type": "markdown",
   "id": "1cbdc259-81d4-4f6c-9e81-6e55c1dc98a4",
   "metadata": {},
   "source": [
    "### Document splitting\n",
    "In later works, we are going to split Documents (if big enough) to have nodes to work with"
   ]
  },
  {
   "cell_type": "code",
   "execution_count": null,
   "id": "69977c84",
   "metadata": {},
   "outputs": [],
   "source": [
    "# parser = JSONNodeParser()\n",
    "# nodes = parser.get_nodes_from_documents(documents)"
   ]
  },
  {
   "cell_type": "markdown",
   "id": "f93cbb6d",
   "metadata": {},
   "source": [
    "### Querying strategy"
   ]
  },
  {
   "cell_type": "code",
   "execution_count": null,
   "id": "41c0ce65",
   "metadata": {},
   "outputs": [],
   "source": [
    "embed_model = resolve_embed_model(\"local:BAAI/bge-m3\")"
   ]
  },
  {
   "cell_type": "code",
   "execution_count": 9,
   "id": "436ccbc1",
   "metadata": {},
   "outputs": [],
   "source": [
    "# if we work with nodes\n",
    "#vector_index = VectorStoreIndex.from_documents(nodes, embed_model=embed_model)"
   ]
  },
  {
   "cell_type": "code",
   "execution_count": 12,
   "id": "3695f0ef",
   "metadata": {},
   "outputs": [
    {
     "name": "stderr",
     "output_type": "stream",
     "text": [
      "Parsing nodes: 100%|████████████████████████████████████████████████████████████████████| 3/3 [00:00<00:00, 168.36it/s]\n",
      "Generating embeddings: 100%|█████████████████████████████████████████████████████████████| 7/7 [00:21<00:00,  3.01s/it]\n"
     ]
    }
   ],
   "source": [
    "# if we work with documents\n",
    "vector_index = VectorStoreIndex.from_documents(documents, embed_model=embed_model, show_progress=True)"
   ]
  },
  {
   "cell_type": "markdown",
   "id": "361e8f26-c9d6-42c4-abdf-ee99902f6c72",
   "metadata": {},
   "source": [
    "we use top-k similarity strategy to get the k most similar documents"
   ]
  },
  {
   "cell_type": "code",
   "execution_count": 13,
   "id": "d953c9c7",
   "metadata": {},
   "outputs": [],
   "source": [
    "query_engine = vector_index.as_query_engine(llm=llm, verbose=True, similarity_top_k=2)\n",
    "retriever = vector_index.as_retriever(verbose=True)\n"
   ]
  },
  {
   "cell_type": "markdown",
   "id": "7cc338af",
   "metadata": {},
   "source": [
    "### Evaluation\n",
    "We test the RAG system with some queries regarding the data in the json files"
   ]
  },
  {
   "cell_type": "code",
   "execution_count": 14,
   "id": "824809e8-dccf-48f1-87e6-da046ed04820",
   "metadata": {},
   "outputs": [
    {
     "name": "stdout",
     "output_type": "stream",
     "text": [
      " The average consumption for Testing Machine 1 is approximately 1.7630247e-06, while the average consumption for Riveting Machine is around 6.5934167e-05. It's important to note that these values are not directly comparable due to their different scales and units.\n"
     ]
    }
   ],
   "source": [
    "result = query_engine.query(\"What was the average  of Assembly Machines?\")\n",
    "print(result)"
   ]
  },
  {
   "cell_type": "code",
   "execution_count": 23,
   "id": "516703f5-8d1e-4c51-bc1b-051734aaac8c",
   "metadata": {},
   "outputs": [
    {
     "name": "stdout",
     "output_type": "stream",
     "text": [
      " The average consumption for \"Testing Machine 1\" is 1.7630247097690623e-06 and for \"Medium Capacity Cutting Machine 2\", it is 0.0023731402496540857.\n"
     ]
    }
   ],
   "source": [
    "result = query_engine.query(\"What was the average consumption of machines?\")\n",
    "print(result)"
   ]
  },
  {
   "cell_type": "code",
   "execution_count": 14,
   "id": "edaaa4d3-bd83-47b1-92ad-275a80ab1016",
   "metadata": {},
   "outputs": [
    {
     "name": "stdout",
     "output_type": "stream",
     "text": [
      " The consumption for each machine in March 2024 is as follows:\n",
      "\n",
      "1. Assembly Machine 1: 0.0\n",
      "2. Assembly Machine 2: 0.0\n",
      "3. Assembly Machine 3: 0.0\n",
      "4. Large Capacity Cutting Machine 1: 0.0021111835419563543\n",
      "5. Large Capacity Cutting Machine 2: 0.00152712326133702\n"
     ]
    }
   ],
   "source": [
    "result = query_engine.query(\"List the conspumption for each machine in March 2024?\")\n",
    "print(result)"
   ]
  },
  {
   "cell_type": "code",
   "execution_count": 17,
   "id": "9d774768-f272-435d-bd40-a4ad2aaf282b",
   "metadata": {},
   "outputs": [
    {
     "name": "stdout",
     "output_type": "stream",
     "text": [
      " In March 2024, the Large Capacity Cutting Machine 2 has an average number of cycles per month of approximately 742, with a range from 0 to 18,860. The average cycle time is 0 seconds, with a minimum and maximum not provided. The machine had no bad cycles during this period.\n",
      "\n",
      "The consumption for this machine averages at 0.0009503 kWh, with a range from 0 to 0.15497427 kWh. This includes an average idle consumption of 0.0006514 kWh and working consumption of 0.0015271 kWh.\n",
      "\n",
      "The cost for this machine is approximately 0.0007899 USD, with no recorded costs related to idle or working time.\n",
      "\n",
      "The number of good cycles in March was about 651, with a range from 0 to 18,860. The machine did not have any offline time or idle time during this period, and the working time is not provided. The power consumption averages at 0.0025818 kW, with a range from 0 to 0.0723988 kW.\n",
      "\n",
      "The Medium Capacity Cutting Machine 2 has similar KPIs for the same month but different values due to differences in the machine's capabilities and usage patterns.\n"
     ]
    }
   ],
   "source": [
    "result = query_engine.query(\"General Summarized Overview Large Capacity Cutting Machine 2?\")\n",
    "print(result)"
   ]
  },
  {
   "cell_type": "code",
   "execution_count": 20,
   "id": "7e1b6684-5002-4470-bd84-dd143163b713",
   "metadata": {},
   "outputs": [
    {
     "name": "stdout",
     "output_type": "stream",
     "text": [
      " The machine with higher idle time is \"Assembly Machine 1\". This can be inferred from the context data where the average idle time for \"Assembly Machine 1\" is 4175.258064516129 hours, while for \"Large Capacity Cutting Machine 1\", it is 0.0 hours.\n"
     ]
    }
   ],
   "source": [
    "result = query_engine.query(\"Which machine has higher idle time\")\n",
    "print(result)"
   ]
  },
  {
   "cell_type": "code",
   "execution_count": 13,
   "id": "9d553ce3-cf5f-48c2-9278-aa6655546964",
   "metadata": {},
   "outputs": [
    {
     "data": {
      "text/plain": [
       "[NodeWithScore(node=TextNode(id_='7a3f1ecb-1cb2-4aa0-9cf9-e1ace4e882a2', embedding=None, metadata={}, excluded_embed_metadata_keys=[], excluded_llm_metadata_keys=[], relationships={<NodeRelationship.SOURCE: '1'>: RelatedNodeInfo(node_id='6ee8dc74-411b-4b67-bba4-83d3ec586f9a', node_type=<ObjectType.DOCUMENT: '4'>, metadata={}, hash='34496ed108b9f8ca29ad1e0bf7cb60af6c22315f29d8d73ac50bdc3339d33446')}, text='\"data_structure_overview\": {\\n\"machines\": [\\n\"category\": \"Metal Cutting Machines\",\\n\"machines\": [\\n\"Large Capacity Cutting Machine 1\",\\n\"Large Capacity Cutting Machine 2\",\\n\"Medium Capacity Cutting Machine 1\",\\n\"Medium Capacity Cutting Machine 2\",\\n\"Medium Capacity Cutting Machine 3\",\\n\"Low Capacity Cutting Machine 1\"\\n\"category\": \"Laser Welding Machines\",\\n\"machines\": [\\n\"Laser Welding Machine 1\",\\n\"Laser Welding Machine 2\"\\n\"category\": \"Assembly Machines\",\\n\"machines\": [\\n\"Assembly Machine 1\",\\n\"Assembly Machine 2\",\\n\"Assembly Machine 3\"\\n\"category\": \"Testing Machines\",\\n\"machines\": [\\n\"Testing Machine 1\",\\n\"Testing Machine 2\",\\n\"Testing Machine 3\"\\n\"category\": \"Other Machines\",\\n\"machines\": [\\n\"Riveting Machine\",\\n\"Laser Cutter\"\\n\"key_performance_indicators\": [\\n\"category\": \"Time-Related KPIs\",\\n\"KPIs\": [\\n\"name\": \"working_time\",\\n\"description\": \"seconds of active machine operation\"\\n\"name\": \"idle_time\",\\n\"description\": \"seconds when machine is idle\"\\n\"name\": \"offline_time\",\\n\"description\": \"seconds when machine is offline\"\\n\"category\": \"Energy and Cost-Related KPIs\",\\n\"KPIs\": [\\n\"name\": \"consumption\",\\n\"description\": \"total energy consumption (kWh)\"\\n\"name\": \"power\",\\n\"description\": \"energy power rating (kW)\"\\n\"name\": \"cost\",\\n\"description\": \"energy cost (euro per kWh)\"\\n\"name\": \"consumption_working\",\\n\"description\": \"energy consumed during active operation (kWh)\"\\n\"name\": \"consumption_idle\",\\n\"description\": \"energy consumed while idle (kWh)\"\\n\"category\": \"Production-Related KPIs\",\\n\"KPIs\": [\\n\"name\": \"cycles\",\\n\"description\": \"total production cycles\"\\n\"name\": \"good_cycles\",\\n\"description\": \"number of successful cycles\"\\n\"name\": \"bad_cycles\",\\n\"description\": \"number of defective cycles\"\\n\"name\": \"average_cycle_time\",\\n\"description\": \"average time per cycle (seconds)\"\\n\"data_frame_structure\": {\\n\"columns\": 9,\\n\"timestamp_frequency\": \"daily\",\\n\"timestamp_notes\": \"Each KPI is recorded daily with multiple timestamps per machine.\",\\n\"aggregated_metrics\": [\\n\"sum\",\\n\"average\",\\n\"minimum\",\\n\"maximum\",\\n\"variance\"\\n\"notes\": \"Some KPIs may lack certain aggregate values (e.g., average_cycle_time does not have a sum).\"', mimetype='text/plain', start_char_idx=0, end_char_idx=2081, text_template='{metadata_str}\\n\\n{content}', metadata_template='{key}: {value}', metadata_seperator='\\n'), score=0.5820269555041319),\n",
       " NodeWithScore(node=TextNode(id_='8375ed32-83b4-4bea-ade0-c509ab042c78', embedding=None, metadata={}, excluded_embed_metadata_keys=[], excluded_llm_metadata_keys=[], relationships={<NodeRelationship.SOURCE: '1'>: RelatedNodeInfo(node_id='d488be88-1d20-4bdb-851c-ba2ece270d03', node_type=<ObjectType.DOCUMENT: '4'>, metadata={}, hash='7cca473702b6c7298732db89034300782d5a23daf9f8fb26daf9b1debe927e5d')}, text='\"machine_id\": \"Assembly Machine 2\",\\n\"month\": \"2024-03\",\\n\"KPIs\": {\\n\"average_cycle_time\": {\\n\"average\": 0.0,\\n\"min\": 0.0,\\n\"max\": 0.0\\n\"bad_cycles\": {\\n\"average\": 0.0,\\n\"min\": 0.0,\\n\"max\": 0.0\\n\"consumption\": {\\n\"average\": 0.0,\\n\"min\": 0.0,\\n\"max\": 0.0\\n\"consumption_idle\": {\\n\"average\": 0.0,\\n\"min\": 0.0,\\n\"max\": 0.0\\n\"consumption_working\": {\\n\"average\": 0.0,\\n\"min\": 0.0,\\n\"max\": 0.0\\n\"cost\": {\\n\"average\": 0.0,\\n\"min\": 0.0,\\n\"max\": 0.0\\n\"cost_idle\": {\\n\"average\": 0.0,\\n\"min\": 0.0,\\n\"max\": 0.0\\n\"cost_working\": {\\n\"average\": 0.0,\\n\"min\": 0.0,\\n\"max\": 0.0\\n\"cycles\": {\\n\"average\": 0.0,\\n\"min\": 0.0,\\n\"max\": 0.0\\n\"good_cycles\": {\\n\"average\": 0.0,\\n\"min\": 0.0,\\n\"max\": 0.0\\n\"idle_time\": {\\n\"average\": 0.0,\\n\"min\": 0.0,\\n\"max\": 0.0\\n\"offline_time\": {\\n\"average\": 0.0,\\n\"min\": 0.0,\\n\"max\": 0.0\\n\"power\": {\\n\"average\": 0.0,\\n\"min\": 0.0,\\n\"max\": 0.0\\n\"working_time\": {\\n\"average\": 0.0,\\n\"min\": 0.0,\\n\"max\": 0.0', mimetype='text/plain', start_char_idx=0, end_char_idx=849, text_template='{metadata_str}\\n\\n{content}', metadata_template='{key}: {value}', metadata_seperator='\\n'), score=0.5453108797020806)]"
      ]
     },
     "execution_count": 13,
     "metadata": {},
     "output_type": "execute_result"
    }
   ],
   "source": [
    "retriever.retrieve(\"General Summarized Overview Assembly Machine 1?\")\n"
   ]
  },
  {
   "cell_type": "code",
   "execution_count": 18,
   "id": "812da437-0f18-45cd-89c0-76dcfd86d7a0",
   "metadata": {},
   "outputs": [
    {
     "name": "stdout",
     "output_type": "stream",
     "text": [
      " Based on the provided KPIs for both machines, we can calculate certain metrics to compare their effectiveness and productivity. However, please note that this comparison is based on the numerical data given in the context, and other factors such as the nature of work, maintenance requirements, etc., might influence their overall performance.\n",
      "\n",
      "To make a comparison, we can focus on the following key points:\n",
      "\n",
      "1. Number of good cycles: Medium Capacity Cutting Machine 1 had an average of 1935.8064516129032 good cycles per month, while Medium Capacity Cutting Machine 2 had an average of 1822.032258064516 good cycles per month. Machine 1 seems to have a slightly higher number of good cycles per month.\n",
      "\n",
      "2. Consumption: The average consumption for Machine 1 is 0.0025908645679010044, while the average consumption for Machine 2 is 0.0023731402496540857. Machine 1 consumes slightly more resources on average compared to Machine 2.\n",
      "\n",
      "3. Power: The average power consumed by Machine 1 is 0.006006119308061655, while the average power consumption for Machine 2 is 0.004952443803414934. Machine 1 consumes more power on average compared to Machine 2.\n",
      "\n",
      "4. Cost: The cost calculations were not provided in the context, so we cannot make a comparison based on this metric.\n",
      "\n",
      "In summary, Medium Capacity Cutting Machine 1 had a slightly higher number of good cycles per month and consumed more resources (both consumption and power) on average compared to Machine 2. However, further analysis is required to draw definitive conclusions about their overall effectiveness and productivity.\n"
     ]
    }
   ],
   "source": [
    "result = query_engine.query(\"Which one was more effective and productive: Medium Capacity machine 1 vs Medium Capacity machine 2?\")\n",
    "print(result)"
   ]
  },
  {
   "cell_type": "code",
   "execution_count": null,
   "id": "73ee4207-6028-4bb6-b4d0-955408ca022e",
   "metadata": {},
   "outputs": [],
   "source": []
  }
 ],
 "metadata": {
  "kernelspec": {
   "display_name": "Python 3 (ipykernel)",
   "language": "python",
   "name": "python3"
  },
  "language_info": {
   "codemirror_mode": {
    "name": "ipython",
    "version": 3
   },
   "file_extension": ".py",
   "mimetype": "text/x-python",
   "name": "python",
   "nbconvert_exporter": "python",
   "pygments_lexer": "ipython3",
   "version": "3.12.7"
  }
 },
 "nbformat": 4,
 "nbformat_minor": 5
}
