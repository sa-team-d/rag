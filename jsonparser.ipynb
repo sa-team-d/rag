{
 "cells": [
  {
   "cell_type": "code",
   "execution_count": 84,
   "metadata": {},
   "outputs": [],
   "source": [
    "from llama_index.readers.json import JSONReader\n",
    "from llama_index.core.node_parser import JSONNodeParser\n",
    "import os\n",
    "import json\n",
    "from pathlib import Path\n",
    "\n",
    "\n",
    "\n",
    "reader = JSONReader()\n",
    "folder_path = \".data/\"\n",
    "parser = JSONNodeParser()"
   ]
  },
  {
   "cell_type": "code",
   "execution_count": 85,
   "metadata": {},
   "outputs": [],
   "source": [
    "class CustomJSONReader(JSONReader):\n",
    "    def load_data(self, file_path):\n",
    "        documents = super().load_data(file_path)\n",
    "        for doc in documents:\n",
    "            data = doc.text.strip()\n",
    "            try:\n",
    "                # Parse the text into a JSON structure\n",
    "                parsed_data = json.loads(data)\n",
    "\n",
    "                # Flatten the nested structure for parsing\n",
    "                flattened_text = self.flatten_json(parsed_data)\n",
    "                doc.text = flattened_text  # Assign flattened data as text\n",
    "                doc.metadata = parsed_data  # Keep original data in metadata\n",
    "            except json.JSONDecodeError as e:\n",
    "                print(f\"Skipping non-JSON content: {data}\")\n",
    "                print(\"Error:\", e)\n",
    "        return documents\n",
    "\n",
    "    def flatten_json(self, data):\n",
    "        \"\"\"Recursively flatten a nested JSON object.\"\"\"\n",
    "        def recurse(curr, key='', result={}):\n",
    "            if isinstance(curr, dict):\n",
    "                for k, v in curr.items():\n",
    "                    recurse(v, f\"{key}.{k}\" if key else k, result)\n",
    "            else:\n",
    "                result[key] = curr\n",
    "        flattened = {}\n",
    "        recurse(data, result=flattened)\n",
    "        # Convert flattened dictionary to a readable string for text parsing\n",
    "        return '\\n'.join(f\"{k}: {v}\" for k, v in flattened.items())\n"
   ]
  },
  {
   "cell_type": "code",
   "execution_count": 86,
   "metadata": {},
   "outputs": [],
   "source": [
    "reader = CustomJSONReader()\n",
    "parser = JSONNodeParser()"
   ]
  },
  {
   "cell_type": "code",
   "execution_count": 87,
   "metadata": {},
   "outputs": [
    {
     "name": "stdout",
     "output_type": "stream",
     "text": [
      "Skipping non-JSON content: \"machine_id\": \"Large Capacity Cutting Machine 1\",\n",
      "\"month\": \"2024-03\",\n",
      "\"KPIs\": {\n",
      "\"average_cycle_time\": {\n",
      "\"average\": 0.0,\n",
      "\"min\": 0.0,\n",
      "\"max\": 0.0\n",
      "\"bad_cycles\": {\n",
      "\"average\": 0.0,\n",
      "\"min\": 0.0,\n",
      "\"max\": 0.0\n",
      "\"consumption\": {\n",
      "\"average\": 0.0013015137854767644,\n",
      "\"min\": 0.0,\n",
      "\"max\": 0.09477750094431775\n",
      "\"consumption_idle\": {\n",
      "\"average\": 0.0004203452003983412,\n",
      "\"min\": 0.0,\n",
      "\"max\": 0.0024920118485895794\n",
      "\"consumption_working\": {\n",
      "\"average\": 0.0021111835419563543,\n",
      "\"min\": 0.0,\n",
      "\"max\": 0.017477024244629727\n",
      "\"cost\": {\n",
      "\"average\": 0.0007648453461734984,\n",
      "\"min\": 0.0,\n",
      "\"max\": 0.0\n",
      "\"cost_idle\": {\n",
      "\"average\": 0.0,\n",
      "\"min\": 0.0,\n",
      "\"max\": 0.0\n",
      "\"cost_working\": {\n",
      "\"average\": 0.0,\n",
      "\"min\": 0.0,\n",
      "\"max\": 0.0\n",
      "\"cycles\": {\n",
      "\"average\": 0.6451612903225806,\n",
      "\"min\": 0.0,\n",
      "\"max\": 28754.0\n",
      "\"good_cycles\": {\n",
      "\"average\": 1228.6129032258063,\n",
      "\"min\": 0.0,\n",
      "\"max\": 28754.0\n",
      "\"idle_time\": {\n",
      "\"average\": 0.0,\n",
      "\"min\": 0.0,\n",
      "\"max\": 0.0\n",
      "\"offline_time\": {\n",
      "\"average\": 0.0,\n",
      "\"min\": 0.0,\n",
      "\"max\": 0.0\n",
      "\"power\": {\n",
      "\"average\": 0.0028015846972911963,\n",
      "\"min\": 0.0,\n",
      "\"max\": 0.08007309150809613\n",
      "\"working_time\": {\n",
      "\"average\": 0.0,\n",
      "\"min\": 0.0,\n",
      "\"max\": 0.0\n",
      "Error: Extra data: line 1 column 13 (char 12)\n"
     ]
    }
   ],
   "source": [
    "\n",
    "#document = reader.load_data(\"/Users/lavo/Desktop/Projects/rag/data/test.json\")\n",
    "\n",
    "document = reader.load_data(\"/Users/lavo/Desktop/Projects/rag/data/monthly_smart_app_data_Large Capacity Cutting Machine 1_2024-03.json\")\n"
   ]
  },
  {
   "cell_type": "code",
   "execution_count": 88,
   "metadata": {},
   "outputs": [
    {
     "data": {
      "text/plain": [
       "[Document(id_='c14f7f79-495e-48a3-abd8-2ef7bd2c15f7', embedding=None, metadata={}, excluded_embed_metadata_keys=[], excluded_llm_metadata_keys=[], relationships={}, text='\"machine_id\": \"Large Capacity Cutting Machine 1\",\\n\"month\": \"2024-03\",\\n\"KPIs\": {\\n\"average_cycle_time\": {\\n\"average\": 0.0,\\n\"min\": 0.0,\\n\"max\": 0.0\\n\"bad_cycles\": {\\n\"average\": 0.0,\\n\"min\": 0.0,\\n\"max\": 0.0\\n\"consumption\": {\\n\"average\": 0.0013015137854767644,\\n\"min\": 0.0,\\n\"max\": 0.09477750094431775\\n\"consumption_idle\": {\\n\"average\": 0.0004203452003983412,\\n\"min\": 0.0,\\n\"max\": 0.0024920118485895794\\n\"consumption_working\": {\\n\"average\": 0.0021111835419563543,\\n\"min\": 0.0,\\n\"max\": 0.017477024244629727\\n\"cost\": {\\n\"average\": 0.0007648453461734984,\\n\"min\": 0.0,\\n\"max\": 0.0\\n\"cost_idle\": {\\n\"average\": 0.0,\\n\"min\": 0.0,\\n\"max\": 0.0\\n\"cost_working\": {\\n\"average\": 0.0,\\n\"min\": 0.0,\\n\"max\": 0.0\\n\"cycles\": {\\n\"average\": 0.6451612903225806,\\n\"min\": 0.0,\\n\"max\": 28754.0\\n\"good_cycles\": {\\n\"average\": 1228.6129032258063,\\n\"min\": 0.0,\\n\"max\": 28754.0\\n\"idle_time\": {\\n\"average\": 0.0,\\n\"min\": 0.0,\\n\"max\": 0.0\\n\"offline_time\": {\\n\"average\": 0.0,\\n\"min\": 0.0,\\n\"max\": 0.0\\n\"power\": {\\n\"average\": 0.0028015846972911963,\\n\"min\": 0.0,\\n\"max\": 0.08007309150809613\\n\"working_time\": {\\n\"average\": 0.0,\\n\"min\": 0.0,\\n\"max\": 0.0', mimetype='text/plain', start_char_idx=None, end_char_idx=None, text_template='{metadata_str}\\n\\n{content}', metadata_template='{key}: {value}', metadata_seperator='\\n')]"
      ]
     },
     "execution_count": 88,
     "metadata": {},
     "output_type": "execute_result"
    }
   ],
   "source": [
    "document"
   ]
  },
  {
   "cell_type": "code",
   "execution_count": 89,
   "metadata": {},
   "outputs": [],
   "source": [
    "nodes = parser.get_nodes_from_documents(document)\n"
   ]
  },
  {
   "cell_type": "code",
   "execution_count": 90,
   "metadata": {},
   "outputs": [
    {
     "data": {
      "text/plain": [
       "[]"
      ]
     },
     "execution_count": 90,
     "metadata": {},
     "output_type": "execute_result"
    }
   ],
   "source": [
    "nodes"
   ]
  }
 ],
 "metadata": {
  "kernelspec": {
   "display_name": ".venv",
   "language": "python",
   "name": "python3"
  },
  "language_info": {
   "codemirror_mode": {
    "name": "ipython",
    "version": 3
   },
   "file_extension": ".py",
   "mimetype": "text/x-python",
   "name": "python",
   "nbconvert_exporter": "python",
   "pygments_lexer": "ipython3",
   "version": "3.12.0"
  }
 },
 "nbformat": 4,
 "nbformat_minor": 2
}
