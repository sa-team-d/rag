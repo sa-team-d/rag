{
 "cells": [
  {
   "cell_type": "code",
   "execution_count": 8,
   "id": "50a9218b-4bb3-4be8-9d5e-9ec8cac97b51",
   "metadata": {},
   "outputs": [],
   "source": [
    "import os\n",
    "from pathlib import Path\n",
    "from llama_index.llms.ollama import Ollama\n",
    "from llama_index.core import VectorStoreIndex\n",
    "from llama_index.core.embeddings import resolve_embed_model\n",
    "from llama_index.readers.json import JSONReader\n",
    "from llama_index.core.node_parser import JSONNodeParser\n",
    "from llama_index.readers.file import FlatReader\n",
    "\n"
   ]
  },
  {
   "cell_type": "code",
   "execution_count": 9,
   "id": "98b701bf-6082-4fa0-a674-1ca2a9cec57f",
   "metadata": {},
   "outputs": [],
   "source": [
    "embed_model = resolve_embed_model(\"local:BAAI/bge-m3\")"
   ]
  },
  {
   "cell_type": "code",
   "execution_count": 10,
   "id": "24660a55-45af-4cf9-a3dc-f65f4e433a55",
   "metadata": {},
   "outputs": [],
   "source": [
    "llm = Ollama(model=\"mistral\", request_timeout=180.0)"
   ]
  },
  {
   "cell_type": "code",
   "execution_count": 21,
   "id": "15ef88c1-8fa6-4d95-aa4f-ffa006951ec0",
   "metadata": {},
   "outputs": [],
   "source": [
    "from llama_index.core import SimpleDirectoryReader\n",
    "\n",
    "documents = SimpleDirectoryReader(\n",
    "    input_files=[\"./data/energy_cost_related.json\", \n",
    "                 \"./data/production_related.json\",\n",
    "                 \"./data/time_related.json\"\n",
    "                ]\n",
    ").load_data()"
   ]
  },
  {
   "cell_type": "code",
   "execution_count": 4,
   "id": "05b951c5-0d32-495a-a917-6ac80467991f",
   "metadata": {},
   "outputs": [
    {
     "data": {
      "text/plain": [
       "Document(id_='6ea4ef66-06fa-4c12-965c-9028075ce587', embedding=None, metadata={'file_path': 'data\\\\energy_cost_related.json', 'file_name': 'energy_cost_related.json', 'file_type': 'application/json', 'file_size': 7409, 'creation_date': '2024-11-11', 'last_modified_date': '2024-11-11'}, excluded_embed_metadata_keys=['file_name', 'file_type', 'file_size', 'creation_date', 'last_modified_date', 'last_accessed_date'], excluded_llm_metadata_keys=['file_name', 'file_type', 'file_size', 'creation_date', 'last_modified_date', 'last_accessed_date'], relationships={}, text='{\\n    \"kpi\": {\\n      \"consumption\": {\\n        \"average\": [\\n          { \"machine\": \"Assembly Machine 1\", \"month\": \"2024-03\", \"value\": 0.0 },\\n          { \"machine\": \"Assembly Machine 2\", \"month\": \"2024-03\", \"value\": 0.0 },\\n          { \"machine\": \"Assembly Machine 3\", \"month\": \"2024-03\", \"value\": 0.0 },\\n          { \"machine\": \"Large Capacity Cutting Machine 1\", \"month\": \"2024-03\", \"value\": 0.0013015137854767644 },\\n          { \"machine\": \"Large Capacity Cutting Machine 2\", \"month\": \"2024-03\", \"value\": 0.0009502908983908073 }\\n        ],\\n        \"min\": [\\n          { \"machine\": \"Assembly Machine 1\", \"month\": \"2024-03\", \"value\": 0.0 },\\n          { \"machine\": \"Assembly Machine 2\", \"month\": \"2024-03\", \"value\": 0.0 },\\n          { \"machine\": \"Assembly Machine 3\", \"month\": \"2024-03\", \"value\": 0.0 },\\n          { \"machine\": \"Large Capacity Cutting Machine 1\", \"month\": \"2024-03\", \"value\": 0.0 },\\n          { \"machine\": \"Large Capacity Cutting Machine 2\", \"month\": \"2024-03\", \"value\": 0.0 }\\n        ],\\n        \"max\": [\\n          { \"machine\": \"Assembly Machine 1\", \"month\": \"2024-03\", \"value\": 0.0 },\\n          { \"machine\": \"Assembly Machine 2\", \"month\": \"2024-03\", \"value\": 0.0 },\\n          { \"machine\": \"Assembly Machine 3\", \"month\": \"2024-03\", \"value\": 0.0 },\\n          { \"machine\": \"Large Capacity Cutting Machine 1\", \"month\": \"2024-03\", \"value\": 0.09477750094431775 },\\n          { \"machine\": \"Large Capacity Cutting Machine 2\", \"month\": \"2024-03\", \"value\": 0.15497427194254568 }\\n        ]\\n      },\\n      \"consumption_idle\": {\\n        \"average\": [\\n          { \"machine\": \"Assembly Machine 1\", \"month\": \"2024-03\", \"value\": 0.0 },\\n          { \"machine\": \"Assembly Machine 2\", \"month\": \"2024-03\", \"value\": 0.0 },\\n          { \"machine\": \"Assembly Machine 3\", \"month\": \"2024-03\", \"value\": 0.0 },\\n          { \"machine\": \"Large Capacity Cutting Machine 1\", \"month\": \"2024-03\", \"value\": 0.0004203452003983412 },\\n          { \"machine\": \"Large Capacity Cutting Machine 2\", \"month\": \"2024-03\", \"value\": 0.0006513621264504764 }\\n        ],\\n        \"min\": [\\n          { \"machine\": \"Assembly Machine 1\", \"month\": \"2024-03\", \"value\": 0.0 },\\n          { \"machine\": \"Assembly Machine 2\", \"month\": \"2024-03\", \"value\": 0.0 },\\n          { \"machine\": \"Assembly Machine 3\", \"month\": \"2024-03\", \"value\": 0.0 },\\n          { \"machine\": \"Large Capacity Cutting Machine 1\", \"month\": \"2024-03\", \"value\": 0.0 },\\n          { \"machine\": \"Large Capacity Cutting Machine 2\", \"month\": \"2024-03\", \"value\": 0.0 }\\n        ],\\n        \"max\": [\\n          { \"machine\": \"Assembly Machine 1\", \"month\": \"2024-03\", \"value\": 0.0 },\\n          { \"machine\": \"Assembly Machine 2\", \"month\": \"2024-03\", \"value\": 0.0 },\\n          { \"machine\": \"Assembly Machine 3\", \"month\": \"2024-03\", \"value\": 0.0 },\\n          { \"machine\": \"Large Capacity Cutting Machine 1\", \"month\": \"2024-03\", \"value\": 0.0024920118485895794 },\\n          { \"machine\": \"Large Capacity Cutting Machine 2\", \"month\": \"2024-03\", \"value\": 0.03249318468435469 }\\n        ]\\n      },\\n      \"consumption_working\": {\\n        \"average\": [\\n          { \"machine\": \"Assembly Machine 1\", \"month\": \"2024-03\", \"value\": 0.0 },\\n          { \"machine\": \"Assembly Machine 2\", \"month\": \"2024-03\", \"value\": 0.0 },\\n          { \"machine\": \"Assembly Machine 3\", \"month\": \"2024-03\", \"value\": 0.0 },\\n          { \"machine\": \"Large Capacity Cutting Machine 1\", \"month\": \"2024-03\", \"value\": 0.0021111835419563543 },\\n          { \"machine\": \"Large Capacity Cutting Machine 2\", \"month\": \"2024-03\", \"value\": 0.00152712326133702 }\\n        ],\\n        \"min\": [\\n          { \"machine\": \"Assembly Machine 1\", \"month\": \"2024-03\", \"value\": 0.0 },\\n          { \"machine\": \"Assembly Machine 2\", \"month\": \"2024-03\", \"value\": 0.0 },\\n          { \"machine\": \"Assembly Machine 3\", \"month\": \"2024-03\", \"value\": 0.0 },\\n          { \"machine\": \"Large Capacity Cutting Machine 1\", \"month\": \"2024-03\", \"value\": 0.0 },\\n          { \"machine\": \"Large Capacity Cutting Machine 2\", \"month\": \"2024-03\", \"value\": 0.0 }\\n        ],\\n        \"max\": [\\n          { \"machine\": \"Assembly Machine 1\", \"month\": \"2024-03\", \"value\": 0.0 },\\n          { \"machine\": \"Assembly Machine 2\", \"month\": \"2024-03\", \"value\": 0.0 },\\n          { \"machine\": \"Assembly Machine 3\", \"month\": \"2024-03\", \"value\": 0.0 },\\n          { \"machine\": \"Large Capacity Cutting Machine 1\", \"month\": \"2024-03\", \"value\": 0.017477024244629727 },\\n          { \"machine\": \"Large Capacity Cutting Machine 2\", \"month\": \"2024-03\", \"value\": 0.03329324345041983 }\\n        ]\\n      },\\n      \"cost\": {\\n        \"average\": [\\n          { \"machine\": \"Assembly Machine 1\", \"month\": \"2024-03\", \"value\": 0.0 },\\n          { \"machine\": \"Assembly Machine 2\", \"month\": \"2024-03\", \"value\": 0.0 },\\n          { \"machine\": \"Assembly Machine 3\", \"month\": \"2024-03\", \"value\": 0.0 },\\n          { \"machine\": \"Large Capacity Cutting Machine 1\", \"month\": \"2024-03\", \"value\": 0.0007648453461734984 },\\n          { \"machine\": \"Large Capacity Cutting Machine 2\", \"month\": \"2024-03\", \"value\": 0.000789856282015753 }\\n        ],\\n        \"min\": [\\n          { \"machine\": \"Assembly Machine 1\", \"month\": \"2024-03\", \"value\": 0.0 },\\n          { \"machine\": \"Assembly Machine 2\", \"month\": \"2024-03\", \"value\": 0.0 },\\n          { \"machine\": \"Assembly Machine 3\", \"month\": \"2024-03\", \"value\": 0.0 },\\n          { \"machine\": \"Large Capacity Cutting Machine 1\", \"month\": \"2024-03\", \"value\": 0.0 },\\n          { \"machine\": \"Large Capacity Cutting Machine 2\", \"month\": \"2024-03\", \"value\": 0.0 }\\n        ],\\n        \"max\": [\\n          { \"machine\": \"Assembly Machine 1\", \"month\": \"2024-03\", \"value\": 0.0 },\\n          { \"machine\": \"Assembly Machine 2\", \"month\": \"2024-03\", \"value\": 0.0 },\\n          { \"machine\": \"Assembly Machine 3\", \"month\": \"2024-03\", \"value\": 0.0 },\\n          { \"machine\": \"Large Capacity Cutting Machine 1\", \"month\": \"2024-03\", \"value\": 0.0 },\\n          { \"machine\": \"Large Capacity Cutting Machine 2\", \"month\": \"2024-03\", \"value\": 0.0 }\\n        ]\\n      },\\n      \"power\": {\\n        \"average\": [\\n          { \"machine\": \"Assembly Machine 1\", \"month\": \"2024-03\", \"value\": 0.0 },\\n          { \"machine\": \"Assembly Machine 2\", \"month\": \"2024-03\", \"value\": 0.0 },\\n          { \"machine\": \"Assembly Machine 3\", \"month\": \"2024-03\", \"value\": 0.0 },\\n          { \"machine\": \"Large Capacity Cutting Machine 1\", \"month\": \"2024-03\", \"value\": 0.0028015846972911963 },\\n          { \"machine\": \"Large Capacity Cutting Machine 2\", \"month\": \"2024-03\", \"value\": 0.0025818193261147593 }\\n        ],\\n        \"min\": [\\n          { \"machine\": \"Assembly Machine 1\", \"month\": \"2024-03\", \"value\": 0.0 },\\n          { \"machine\": \"Assembly Machine 2\", \"month\": \"2024-03\", \"value\": 0.0 },\\n          { \"machine\": \"Assembly Machine 3\", \"month\": \"2024-03\", \"value\": 0.0 },\\n          { \"machine\": \"Large Capacity Cutting Machine 1\", \"month\": \"2024-03\", \"value\": 0.0 },\\n          { \"machine\": \"Large Capacity Cutting Machine 2\", \"month\": \"2024-03\", \"value\": 0.0 }\\n        ],\\n        \"max\": [\\n          { \"machine\": \"Assembly Machine 1\", \"month\": \"2024-03\", \"value\": 0.0 },\\n          { \"machine\": \"Assembly Machine 2\", \"month\": \"2024-03\", \"value\": 0.0 },\\n          { \"machine\": \"Assembly Machine 3\", \"month\": \"2024-03\", \"value\": 0.0 },\\n          { \"machine\": \"Large Capacity Cutting Machine 1\", \"month\": \"2024-03\", \"value\": 0.08007309150809613 },\\n          { \"machine\": \"Large Capacity Cutting Machine 2\", \"month\": \"2024-03\", \"value\": 0.07239881195819103 }\\n        ]\\n      }\\n    }\\n  }\\n  ', mimetype='text/plain', start_char_idx=None, end_char_idx=None, text_template='{metadata_str}\\n\\n{content}', metadata_template='{key}: {value}', metadata_seperator='\\n')"
      ]
     },
     "execution_count": 4,
     "metadata": {},
     "output_type": "execute_result"
    }
   ],
   "source": [
    "documents[0]"
   ]
  },
  {
   "cell_type": "code",
   "execution_count": 11,
   "id": "9d0b3118-0072-4762-b564-8b3777480c9b",
   "metadata": {},
   "outputs": [],
   "source": [
    "DATA_PATH = \"./data/\"\n",
    "\n",
    "# creating the documents out of the json files\n",
    "documents = []\n",
    "for filename in os.listdir(DATA_PATH):\n",
    "    if filename.endswith(\".json\"):\n",
    "        file_path = os.path.join(DATA_PATH, filename)\n",
    "        documents.extend(FlatReader().load_data(Path(file_path)))     # if we want to load the data to then split it into nodes\n",
    "        # documents.extend(reader.load_data(input_file=file_path))\n",
    "parser = JSONNodeParser(include_metadata=True,\n",
    "                        include_prev_next_rel=True)\n",
    "nodes = parser.get_nodes_from_documents(documents) \n"
   ]
  },
  {
   "cell_type": "code",
   "execution_count": 8,
   "id": "98824a86-f9d8-4b83-a5f7-da0ea8b529d9",
   "metadata": {},
   "outputs": [
    {
     "data": {
      "text/plain": [
       "9"
      ]
     },
     "execution_count": 8,
     "metadata": {},
     "output_type": "execute_result"
    }
   ],
   "source": [
    "from llama_index.core.node_parser import SimpleNodeParser\n",
    "\n",
    "parser = SimpleNodeParser()\n",
    "nodes = parser.get_nodes_from_documents(documents)\n",
    "len(nodes)"
   ]
  },
  {
   "cell_type": "code",
   "execution_count": 9,
   "id": "ce593a65-1cc2-4a18-865b-39fdbd0a35aa",
   "metadata": {},
   "outputs": [
    {
     "data": {
      "text/plain": [
       "TextNode(id_='2cb629c8-a767-4018-8e2b-b7d700fc8ede', embedding=None, metadata={'file_path': 'data\\\\energy_cost_related.json', 'file_name': 'energy_cost_related.json', 'file_type': 'application/json', 'file_size': 7409, 'creation_date': '2024-11-11', 'last_modified_date': '2024-11-11', 'machines': 'Ragnarok'}, excluded_embed_metadata_keys=['file_name', 'file_type', 'file_size', 'creation_date', 'last_modified_date', 'last_accessed_date'], excluded_llm_metadata_keys=['file_name', 'file_type', 'file_size', 'creation_date', 'last_modified_date', 'last_accessed_date'], relationships={<NodeRelationship.SOURCE: '1'>: RelatedNodeInfo(node_id='6ea4ef66-06fa-4c12-965c-9028075ce587', node_type=<ObjectType.DOCUMENT: '4'>, metadata={'file_path': 'data\\\\energy_cost_related.json', 'file_name': 'energy_cost_related.json', 'file_type': 'application/json', 'file_size': 7409, 'creation_date': '2024-11-11', 'last_modified_date': '2024-11-11', 'machines': 'Ragnarok'}, hash='6093478eda45a44f3868b0ccad298913c25415900b219d8ea90ac014ed40ddb3'), <NodeRelationship.NEXT: '3'>: RelatedNodeInfo(node_id='41a81c74-0619-4fa8-879f-ae65ef95abd7', node_type=<ObjectType.TEXT: '1'>, metadata={}, hash='41f9b7ea55661fd8b8947d72b827793dd330994811a39dc3d305eaffe215a036')}, text='{\\n    \"kpi\": {\\n      \"consumption\": {\\n        \"average\": [\\n          { \"machine\": \"Assembly Machine 1\", \"month\": \"2024-03\", \"value\": 0.0 },\\n          { \"machine\": \"Assembly Machine 2\", \"month\": \"2024-03\", \"value\": 0.0 },\\n          { \"machine\": \"Assembly Machine 3\", \"month\": \"2024-03\", \"value\": 0.0 },\\n          { \"machine\": \"Large Capacity Cutting Machine 1\", \"month\": \"2024-03\", \"value\": 0.0013015137854767644 },\\n          { \"machine\": \"Large Capacity Cutting Machine 2\", \"month\": \"2024-03\", \"value\": 0.0009502908983908073 }\\n        ],\\n        \"min\": [\\n          { \"machine\": \"Assembly Machine 1\", \"month\": \"2024-03\", \"value\": 0.0 },\\n          { \"machine\": \"Assembly Machine 2\", \"month\": \"2024-03\", \"value\": 0.0 },\\n          { \"machine\": \"Assembly Machine 3\", \"month\": \"2024-03\", \"value\": 0.0 },\\n          { \"machine\": \"Large Capacity Cutting Machine 1\", \"month\": \"2024-03\", \"value\": 0.0 },\\n          { \"machine\": \"Large Capacity Cutting Machine 2\", \"month\": \"2024-03\", \"value\": 0.0 }\\n        ],\\n        \"max\": [\\n          { \"machine\": \"Assembly Machine 1\", \"month\": \"2024-03\", \"value\": 0.0 },\\n          { \"machine\": \"Assembly Machine 2\", \"month\": \"2024-03\", \"value\": 0.0 },\\n          { \"machine\": \"Assembly Machine 3\", \"month\": \"2024-03\", \"value\": 0.0 },\\n          { \"machine\": \"Large Capacity Cutting Machine 1\", \"month\": \"2024-03\", \"value\": 0.09477750094431775 },\\n          { \"machine\": \"Large Capacity Cutting Machine 2\", \"month\": \"2024-03\", \"value\": 0.15497427194254568 }\\n        ]\\n      },\\n      \"consumption_idle\": {\\n        \"average\": [\\n          { \"machine\": \"Assembly Machine 1\", \"month\": \"2024-03\", \"value\": 0.0 },\\n          { \"machine\": \"Assembly Machine 2\", \"month\": \"2024-03\", \"value\": 0.0 },\\n          { \"machine\": \"Assembly Machine 3\", \"month\": \"2024-03\", \"value\": 0.0 },\\n          { \"machine\": \"Large Capacity Cutting Machine 1\", \"month\": \"2024-03\", \"value\": 0.0004203452003983412 },\\n          { \"machine\": \"Large Capacity Cutting Machine 2\", \"month\": \"2024-03\", \"value\": 0.0006513621264504764 }\\n        ],\\n        \"min\": [\\n          { \"machine\": \"Assembly Machine 1\", \"month\": \"2024-03\", \"value\": 0.0 },\\n          { \"machine\": \"Assembly Machine 2\", \"month\": \"2024-03\", \"value\": 0.0 },\\n          { \"machine\": \"Assembly Machine 3\", \"month\": \"2024-03\", \"value\": 0.0 },\\n          { \"machine\": \"Large Capacity Cutting Machine 1\", \"month\": \"2024-03\", \"value\": 0.0 },\\n          { \"machine\": \"Large Capacity Cutting Machine 2\", \"month\": \"2024-03\", \"value\": 0.0 }\\n        ],\\n        \"max\": [\\n          { \"machine\": \"Assembly Machine 1\", \"month\": \"2024-03\", \"value\": 0.0 },\\n          { \"machine\": \"Assembly Machine 2\", \"month\": \"2024-03\", \"value\": 0.0 },\\n          { \"machine\": \"Assembly Machine 3\", \"month\": \"2024-03\", \"value\": 0.0 },\\n          { \"machine\": \"Large Capacity Cutting Machine 1\", \"month\": \"2024-03\", \"value\": 0.0024920118485895794 },\\n          { \"machine\": \"Large Capacity Cutting Machine 2\", \"month\": \"2024-03\", \"value\": 0.03249318468435469 }\\n        ]\\n      },', mimetype='text/plain', start_char_idx=0, end_char_idx=2987, text_template='{metadata_str}\\n\\n{content}', metadata_template='{key}: {value}', metadata_seperator='\\n')"
      ]
     },
     "execution_count": 9,
     "metadata": {},
     "output_type": "execute_result"
    }
   ],
   "source": [
    "nodes[0]"
   ]
  },
  {
   "cell_type": "code",
   "execution_count": 6,
   "id": "dbab5ab5-2b3b-489f-afa7-6de8044f3d62",
   "metadata": {},
   "outputs": [],
   "source": [
    "import nest_asyncio\n",
    "import nltk\n",
    "nltk.download('punkt_tab')\n",
    "nest_asyncio.apply()"
   ]
  },
  {
   "cell_type": "code",
   "execution_count": 18,
   "id": "2145a76f-8aba-496a-bf81-3fcb754fac61",
   "metadata": {},
   "outputs": [],
   "source": [
    "documents= [documents[0]]"
   ]
  },
  {
   "cell_type": "code",
   "execution_count": 19,
   "id": "baa7805f-c057-4e47-8610-12d9aa746f5c",
   "metadata": {},
   "outputs": [
    {
     "name": "stderr",
     "output_type": "stream",
     "text": [
      "Parsing nodes: 100%|█████████████████████████████████████████████████████████████████████| 1/1 [00:00<00:00, 10.22it/s]\n",
      "100%|████████████████████████████████████████████████████████████████████████████████████| 3/3 [00:02<00:00,  1.29it/s]\n",
      "100%|██████████████████████████████████████████████████████████████████████████████████| 18/18 [00:51<00:00,  2.85s/it]\n",
      "100%|██████████████████████████████████████████████████████████████████████████████████| 18/18 [00:59<00:00,  3.29s/it]\n",
      "100%|██████████████████████████████████████████████████████████████████████████████████| 18/18 [00:16<00:00,  1.12it/s]\n",
      "Extracting entities: 100%|█████████████████████████████████████████████████████████████| 18/18 [01:12<00:00,  4.02s/it]\n"
     ]
    }
   ],
   "source": [
    "from llama_index.core.node_parser import SentenceSplitter\n",
    "from llama_index.core.extractors import (\n",
    "    SummaryExtractor,\n",
    "    QuestionsAnsweredExtractor,\n",
    "    TitleExtractor,\n",
    "    KeywordExtractor,\n",
    ")\n",
    "from llama_index.extractors.entity import EntityExtractor\n",
    "\n",
    "from llama_index.core.node_parser import TokenTextSplitter\n",
    "\n",
    "from llama_index.core.ingestion import IngestionPipeline\n",
    "\n",
    "\n",
    "text_splitter = TokenTextSplitter(\n",
    "    # separator=\" \", \n",
    "    chunk_size=512, \n",
    "    chunk_overlap=128\n",
    ")\n",
    "\n",
    "#if you wanna create some custom extractor\n",
    "\n",
    "# class CustomExtractor(BaseExtractor):\n",
    "#     def extract(self, nodes):\n",
    "#         metadata_list = [\n",
    "#             {\n",
    "#                 \"custom\": (\n",
    "#                     node.metadata[\"document_title\"]\n",
    "#                     + \"\\n\"\n",
    "#                     + node.metadata[\"excerpt_keywords\"]\n",
    "#                 )\n",
    "#             }\n",
    "#             for node in nodes\n",
    "#         ]\n",
    "#         return metadata_list\n",
    "\n",
    "transformations = [\n",
    "    text_splitter,\n",
    "    # TitleExtractor(nodes=3,llm=llm),\n",
    "    QuestionsAnsweredExtractor(questions=2,llm=llm),\n",
    "    SummaryExtractor(summaries=[\"prev\", \"self\"],llm=llm),\n",
    "    KeywordExtractor(keywords=4,llm=llm),\n",
    "    EntityExtractor(prediction_threshold=0.5,llm=llm),\n",
    "]\n",
    "\n",
    "\n",
    "pipeline = IngestionPipeline(\n",
    "    transformations=transformations\n",
    ")\n",
    "\n",
    "nodes = pipeline.run(\n",
    "    documents=documents,\n",
    "    in_place=True,\n",
    "    show_progress=True,\n",
    ")"
   ]
  },
  {
   "cell_type": "code",
   "execution_count": 20,
   "id": "a812d383-1a5a-42fc-9e83-98cf1492f596",
   "metadata": {},
   "outputs": [
    {
     "data": {
      "text/plain": [
       "{'filename': 'monthly_Large_Capacity_Cutting_Machine_2.json',\n",
       " 'extension': '.json',\n",
       " 'document_title': '2024-March Performance Analysis of Large Capacity Cutting Machine 2: Good Cycles, Bad Cycles, Production, Consumption, Average Cycle Time, and Identification of Bad Cycles Data\\n\\nThis title provides a clear overview of the content, including the specific machine (Large Capacity Cutting Machine 2), the time period (March 2024), the types of data presented (Good Cycles, Bad Cycles, Production, Consumption, Average Cycle Time, and Bad Cycles Data), and the purpose of the analysis.',\n",
       " 'questions_this_excerpt_can_answer': '1. What was the average cycle time, minimum cycle time, and maximum cycle time for Large Capacity Cutting Machine 2 in March 2024 according to the given data?\\n\\n2. How many bad cycles, on average, were recorded for Large Capacity Cutting Machine 2 during the month of March 2024 based on this analysis?\\n\\n(Summarizing the context: The document contains performance analysis data for Large Capacity Cutting Machine 2 for the month of March 2024. It includes information about good cycles, bad cycles, production, consumption, average cycle time, and identification of bad cycles.)',\n",
       " 'section_summary': '1. Document Title: Performance Analysis of Large Capacity Cutting Machine 2 for March 2024, covering Good Cycles, Bad Cycles, Production, Consumption, Average Cycle Time, and Identification of Bad Cycles.\\n   2. Entities:\\n       - Large Capacity Cutting Machine 2\\n       - Month of March 2024\\n       - Good Cycles\\n       - Bad Cycles\\n       - Production\\n       - Consumption\\n       - Average Cycle Time\\n       - Data related to minimum and maximum cycle time, average number of bad cycles.\\n   Key Topics: The data presented in the document pertains to the performance analysis of Large Capacity Cutting Machine 2 for March 2024, with a focus on various key performance indicators such as average cycle time, minimum and maximum cycle times, and the average number of bad cycles during that month.',\n",
       " 'excerpt_keywords': '\"Large Capacity Cutting Machine 2\", \"March 2024 Performance Analysis\", \"Average Cycle Time\", \"Bad Cycles\"',\n",
       " 'entities': ['Large Capacity Cutting Machine 2']}"
      ]
     },
     "execution_count": 20,
     "metadata": {},
     "output_type": "execute_result"
    }
   ],
   "source": [
    "nodes[0].metadata"
   ]
  },
  {
   "cell_type": "code",
   "execution_count": 21,
   "id": "aa3ab60e-7593-4d2a-8685-b75f2a16cb39",
   "metadata": {},
   "outputs": [
    {
     "data": {
      "text/plain": [
       "18"
      ]
     },
     "execution_count": 21,
     "metadata": {},
     "output_type": "execute_result"
    }
   ],
   "source": [
    "len(nodes)"
   ]
  },
  {
   "cell_type": "code",
   "execution_count": null,
   "id": "2bb3399b-2b31-4835-bef4-1192268eabf1",
   "metadata": {},
   "outputs": [],
   "source": []
  }
 ],
 "metadata": {
  "kernelspec": {
   "display_name": "Python 3 (ipykernel)",
   "language": "python",
   "name": "python3"
  },
  "language_info": {
   "codemirror_mode": {
    "name": "ipython",
    "version": 3
   },
   "file_extension": ".py",
   "mimetype": "text/x-python",
   "name": "python",
   "nbconvert_exporter": "python",
   "pygments_lexer": "ipython3",
   "version": "3.12.7"
  }
 },
 "nbformat": 4,
 "nbformat_minor": 5
}
