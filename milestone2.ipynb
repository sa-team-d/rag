{
 "cells": [
  {
   "cell_type": "markdown",
   "id": "c3734324",
   "metadata": {},
   "source": [
    "# RAG skeleton \n",
    "In the following we'll have the skeleton of the RAG system. It is going to be a very basic implementation, that we are going to expand on later milestones."
   ]
  },
  {
   "cell_type": "code",
   "execution_count": 9,
   "id": "1ce9dcde",
   "metadata": {},
   "outputs": [],
   "source": [
    "import os\n",
    "import json\n",
    "from pathlib import Path\n",
    "from llama_index.llms.ollama import Ollama\n",
    "from llama_index.core import VectorStoreIndex\n",
    "from llama_index.core.embeddings import resolve_embed_model\n",
    "from llama_index.readers.json import JSONReader\n",
    "from llama_index.core.node_parser import JSONNodeParser\n",
    "from llama_index.readers.file import FlatReader"
   ]
  },
  {
   "cell_type": "markdown",
   "id": "89322f92",
   "metadata": {},
   "source": [
    "### VectorDB ONLINE"
   ]
  },
  {
   "cell_type": "code",
   "execution_count": 2,
   "id": "b120d2c7",
   "metadata": {},
   "outputs": [
    {
     "data": {
      "text/plain": [
       "'import psycopg2\\n\\nwith open(\\'./db.txt\\', \"r\") as file:\\n    connection_string = file.read()\\n\\nconn = psycopg2.connect(connection_string)\\n\\nconn.autocommit = True\\n\\nwith conn.cursor() as c:\\n    c.execute(f\"DROP DATABASE IF EXISTS {db_name}\")\\n    c.execute(f\"CREATE DATABASE {db_name}\")'"
      ]
     },
     "execution_count": 2,
     "metadata": {},
     "output_type": "execute_result"
    }
   ],
   "source": [
    "\"\"\"import psycopg2\n",
    "\n",
    "with open('./db.txt', \"r\") as file:\n",
    "    connection_string = file.read()\n",
    "\n",
    "conn = psycopg2.connect(connection_string)\n",
    "\n",
    "conn.autocommit = True\n",
    "\n",
    "with conn.cursor() as c:\n",
    "    c.execute(f\"DROP DATABASE IF EXISTS {db_name}\")\n",
    "    c.execute(f\"CREATE DATABASE {db_name}\")\"\"\""
   ]
  },
  {
   "cell_type": "code",
   "execution_count": 3,
   "id": "84ffb703",
   "metadata": {},
   "outputs": [
    {
     "data": {
      "text/plain": [
       "'from sqlalchemy import make_url\\nfrom llama_index.core import SimpleDirectoryReader, StorageContext\\nfrom llama_index.core import VectorStoreIndex\\nfrom llama_index.vector_stores.postgres import PGVectorStore\\nimport textwrap\\n\\n\\nurl = make_url(connection_string)\\nvector_store = PGVectorStore.from_params(\\n    database=db_name,\\n    host=url.host,\\n    password=url.password,\\n    port=url.port,\\n    user=url.username,\\n    table_name=\"rag\",\\n    embed_dim=1024,  # openai embedding dimension\\n)\\n'"
      ]
     },
     "execution_count": 3,
     "metadata": {},
     "output_type": "execute_result"
    }
   ],
   "source": [
    "\"\"\"from sqlalchemy import make_url\n",
    "from llama_index.core import SimpleDirectoryReader, StorageContext\n",
    "from llama_index.core import VectorStoreIndex\n",
    "from llama_index.vector_stores.postgres import PGVectorStore\n",
    "import textwrap\n",
    "\n",
    "\n",
    "url = make_url(connection_string)\n",
    "vector_store = PGVectorStore.from_params(\n",
    "    database=db_name,\n",
    "    host=url.host,\n",
    "    password=url.password,\n",
    "    port=url.port,\n",
    "    user=url.username,\n",
    "    table_name=\"rag\",\n",
    "    embed_dim=1024,  # openai embedding dimension\n",
    ")\n",
    "\"\"\""
   ]
  },
  {
   "cell_type": "markdown",
   "id": "7b3d4137",
   "metadata": {},
   "source": [
    "## VectorDB OFFLINE"
   ]
  },
  {
   "cell_type": "code",
   "execution_count": 4,
   "id": "42515d40",
   "metadata": {},
   "outputs": [],
   "source": [
    "import psycopg2\n",
    "\n",
    "db_name = \"vector_db\"\n",
    "host = \"localhost\"\n",
    "password = \"password\"\n",
    "port = \"5432\"\n",
    "user = \"irene\" #<-------------------------------------------- change this to your username !!!\n",
    "# conn = psycopg2.connect(connection_string)\n",
    "conn = psycopg2.connect(\n",
    "    dbname=\"postgres\",\n",
    "    host=host,\n",
    "    password=password,\n",
    "    port=port,\n",
    "    user=user,\n",
    ")\n",
    "conn.autocommit = True\n",
    "\n",
    "with conn.cursor() as c:\n",
    "    c.execute(f\"DROP DATABASE IF EXISTS {db_name}\")\n",
    "    c.execute(f\"CREATE DATABASE {db_name}\")"
   ]
  },
  {
   "cell_type": "code",
   "execution_count": 1,
   "id": "95c3728b",
   "metadata": {},
   "outputs": [],
   "source": [
    "from sqlalchemy import make_url\n",
    "from llama_index.vector_stores.postgres import PGVectorStore\n",
    "\n",
    "db_name = \"vector_db\"\n",
    "host = \"localhost\"\n",
    "password = \"password\"\n",
    "port = \"5432\"\n",
    "user = \"superuser\" #<-------------------------------------------- change this to your username !!!\n",
    "\n",
    "vector_store = PGVectorStore.from_params(\n",
    "    database=db_name,\n",
    "    host=host,\n",
    "    password=password,\n",
    "    port=port,\n",
    "    user=user,\n",
    "    table_name=\"json_data\",\n",
    "    embed_dim=1024,  # openai embedding dimension\n",
    ")"
   ]
  },
  {
   "cell_type": "markdown",
   "id": "22905fbe-2806-4a0c-b2e7-ab3fcbf94935",
   "metadata": {},
   "source": [
    "#### Loading and Indexing\n",
    "Load the data in order to make the documents' embeddings"
   ]
  },
  {
   "cell_type": "code",
   "execution_count": 10,
   "id": "41c0ce65",
   "metadata": {},
   "outputs": [
    {
     "name": "stderr",
     "output_type": "stream",
     "text": [
      "/Users/nicolapitzalis/anaconda3/envs/rag/lib/python3.9/site-packages/tqdm/auto.py:21: TqdmWarning: IProgress not found. Please update jupyter and ipywidgets. See https://ipywidgets.readthedocs.io/en/stable/user_install.html\n",
      "  from .autonotebook import tqdm as notebook_tqdm\n"
     ]
    }
   ],
   "source": [
    "embed_model = resolve_embed_model(\"local:BAAI/bge-m3\")"
   ]
  },
  {
   "cell_type": "code",
   "execution_count": 11,
   "id": "04175eb0",
   "metadata": {},
   "outputs": [],
   "source": [
    "# set a path to folder containing all the json files\n",
    "DATA_PATH = \"./data/\"\n",
    "\n",
    "# setting up reader, parser, and llm\n",
    "reader = JSONReader()\n",
    "\n",
    "# parser = JSONNodeParser()     # if we want to split the documents into nodes\n",
    "llm = Ollama(model=\"llama3.2\", request_timeout=180.0) "
   ]
  },
  {
   "cell_type": "code",
   "execution_count": 8,
   "id": "870b8eb8",
   "metadata": {},
   "outputs": [],
   "source": [
    "\n",
    "# creating the documents out of the json files\n",
    "documents = []\n",
    "for filename in os.listdir(DATA_PATH):\n",
    "    if filename.endswith(\".json\"):\n",
    "        file_path = os.path.join(DATA_PATH, filename)\n",
    "        documents.extend(FlatReader().load_data(Path(file_path)))     # if we want to load the data to then split it into nodes\n",
    "        # documents.extend(reader.load_data(input_file=file_path))\n",
    "parser = JSONNodeParser(include_metadata=True,\n",
    "                        include_prev_next_rel=True)\n",
    "\n",
    "# nodes = parser.get_nodes_from_documents(documents)            # if we want to split documents into nodes\n"
   ]
  },
  {
   "cell_type": "code",
   "execution_count": 9,
   "id": "654594d3-4171-4572-975a-bc3b3b66bb6f",
   "metadata": {},
   "outputs": [
    {
     "data": {
      "text/plain": [
       "6"
      ]
     },
     "execution_count": 9,
     "metadata": {},
     "output_type": "execute_result"
    }
   ],
   "source": [
    "len(documents)"
   ]
  },
  {
   "cell_type": "markdown",
   "id": "1cbdc259-81d4-4f6c-9e81-6e55c1dc98a4",
   "metadata": {},
   "source": [
    "### Document splitting"
   ]
  },
  {
   "cell_type": "markdown",
   "id": "1c75bafa",
   "metadata": {},
   "source": [
    "if you want to use a simple node parser"
   ]
  },
  {
   "cell_type": "markdown",
   "id": "41c0ec0c",
   "metadata": {},
   "source": [
    "if you want to have control on the entire pipeline (can also choose the chunk size)"
   ]
  },
  {
   "cell_type": "code",
   "execution_count": 10,
   "id": "6a4b9948-3faa-48ab-9a9d-a2aea448c4e3",
   "metadata": {},
   "outputs": [
    {
     "name": "stderr",
     "output_type": "stream",
     "text": [
      "[nltk_data] Downloading package punkt_tab to /Users/irene/nltk_data...\n",
      "[nltk_data]   Package punkt_tab is already up-to-date!\n"
     ]
    }
   ],
   "source": [
    "import nest_asyncio\n",
    "import nltk\n",
    "nltk.download('punkt_tab')\n",
    "nest_asyncio.apply()"
   ]
  },
  {
   "cell_type": "code",
   "execution_count": 11,
   "id": "107733ed-36f0-46fa-80b9-449e3d1bfa43",
   "metadata": {},
   "outputs": [
    {
     "name": "stderr",
     "output_type": "stream",
     "text": [
      "/Users/irene/VSCodeProjects/rag/.venv/lib/python3.11/site-packages/pydantic/_internal/_fields.py:132: UserWarning: Field \"model_name\" in EntityExtractor has conflict with protected namespace \"model_\".\n",
      "\n",
      "You may be able to resolve this warning by setting `model_config['protected_namespaces'] = ()`.\n",
      "  warnings.warn(\n",
      "The new embeddings will be initialized from a multivariate normal distribution that has old embeddings' mean and covariance. As described in this article: https://nlp.stanford.edu/~johnhew/vocab-expansion.html. To disable this, use `mean_resizing=False`\n"
     ]
    },
    {
     "data": {
      "application/vnd.jupyter.widget-view+json": {
       "model_id": "de01a29f24e9454eb04716b60e86c628",
       "version_major": 2,
       "version_minor": 0
      },
      "text/plain": [
       "Parsing nodes:   0%|          | 0/6 [00:00<?, ?it/s]"
      ]
     },
     "metadata": {},
     "output_type": "display_data"
    },
    {
     "data": {
      "application/vnd.jupyter.widget-view+json": {
       "model_id": "66d803dd00f147b88c4811fcf7c860a3",
       "version_major": 2,
       "version_minor": 0
      },
      "text/plain": [
       "Extracting entities:   0%|          | 0/108 [00:00<?, ?it/s]"
      ]
     },
     "metadata": {},
     "output_type": "display_data"
    }
   ],
   "source": [
    "from llama_index.core.node_parser import SentenceSplitter\n",
    "from llama_index.core.extractors import (\n",
    "    SummaryExtractor,\n",
    "    QuestionsAnsweredExtractor,\n",
    "    TitleExtractor,\n",
    "    KeywordExtractor,\n",
    ")\n",
    "from llama_index.extractors.entity import EntityExtractor\n",
    "\n",
    "from llama_index.core.node_parser import TokenTextSplitter\n",
    "\n",
    "from llama_index.core.ingestion import IngestionPipeline\n",
    "\n",
    "\n",
    "text_splitter = TokenTextSplitter(\n",
    "    # separator=\" \", \n",
    "    chunk_size=512, \n",
    "    chunk_overlap=128\n",
    ")\n",
    "\n",
    "#if you wanna create some custom extractor\n",
    "\n",
    "# class CustomExtractor(BaseExtractor):\n",
    "#     def extract(self, nodes):\n",
    "#         metadata_list = [\n",
    "#             {\n",
    "#                 \"custom\": (\n",
    "#                     node.metadata[\"document_title\"]\n",
    "#                     + \"\\n\"\n",
    "#                     + node.metadata[\"excerpt_keywords\"]\n",
    "#                 )\n",
    "#             }\n",
    "#             for node in nodes\n",
    "#         ]\n",
    "#         return metadata_list\n",
    "\n",
    "transformations = [\n",
    "    text_splitter,\n",
    "    # TitleExtractor(nodes=3,llm=llm),\n",
    "    # QuestionsAnsweredExtractor(questions=2,llm=llm),\n",
    "    # SummaryExtractor(summaries=[\"prev\", \"self\"],llm=llm),\n",
    "    # KeywordExtractor(keywords=4,llm=llm),\n",
    "    EntityExtractor(prediction_threshold=0.5,llm=llm),\n",
    "]\n",
    "\n",
    "\n",
    "pipeline = IngestionPipeline(\n",
    "    transformations=transformations\n",
    ")\n",
    "\n",
    "nodes = pipeline.run(\n",
    "    documents=documents,\n",
    "    in_place=True,\n",
    "    show_progress=True,\n",
    ")"
   ]
  },
  {
   "cell_type": "code",
   "execution_count": 12,
   "id": "3584d4be",
   "metadata": {},
   "outputs": [
    {
     "data": {
      "text/plain": [
       "108"
      ]
     },
     "execution_count": 12,
     "metadata": {},
     "output_type": "execute_result"
    }
   ],
   "source": [
    "len(nodes)"
   ]
  },
  {
   "cell_type": "code",
   "execution_count": 13,
   "id": "7ff832d6",
   "metadata": {},
   "outputs": [],
   "source": [
    "for node in nodes:\n",
    "    node_embedding = embed_model.get_text_embedding(\n",
    "        node.get_content(metadata_mode=\"all\")\n",
    "    )\n",
    "    node.embedding = node_embedding"
   ]
  },
  {
   "cell_type": "markdown",
   "id": "aff5e82e",
   "metadata": {},
   "source": [
    "### Storing\n",
    "Load into the vectorDB"
   ]
  },
  {
   "cell_type": "code",
   "execution_count": 14,
   "id": "35b6ec85",
   "metadata": {},
   "outputs": [
    {
     "data": {
      "text/plain": [
       "['77b85c82-c5c5-4fb7-87f2-919bd8888340',\n",
       " '879ca5d3-517b-4a57-9c36-768c72588184',\n",
       " '1f9abdd0-100e-442f-95bc-26d4bab016a3',\n",
       " 'a595b82e-871c-44d9-bf4c-df4391845e40',\n",
       " 'ec171f89-665c-4816-a79b-747dfdd8f0f6',\n",
       " 'f78785f9-72f3-491b-97ca-d1cb00370d3f',\n",
       " '293878cd-9ce5-40ad-a98f-d89d7aff907d',\n",
       " '9c660470-d17a-420c-a4cd-8fbfa6b5162e',\n",
       " '0258b000-2433-42e4-9d91-ca93762ef233',\n",
       " '12879108-96df-4777-8d19-0e64ce126c7f',\n",
       " 'c82c3913-86c2-441e-87c6-adc36ac3d9fc',\n",
       " '9e62a165-6a47-4503-8b89-efa6efbd65a0',\n",
       " '2279b86e-94d7-4e61-8c93-a228cf863c35',\n",
       " '452f6cf7-1d44-4118-a990-00a80350a4cc',\n",
       " 'f09ff58e-ced2-4efb-914c-5b7c3a56ed0d',\n",
       " '8b494d2b-cf9d-484e-bc2a-656fc5d9b74f',\n",
       " '69957942-2c4e-497c-af22-d61906ef05b2',\n",
       " 'f62a5327-7b50-4d8c-8334-e5a724822051',\n",
       " 'dcbfa98e-f742-412f-8635-5f1781f4eee7',\n",
       " 'cff0a871-61c1-4e4b-915a-755a340d84c4',\n",
       " '234b5d11-0df1-40fb-8318-eb32be7a9b4f',\n",
       " '58cc9b9e-762d-4695-8582-6597bdb833dc',\n",
       " '174c77fe-224f-4966-8460-275a554e1053',\n",
       " '789a62c9-4a7a-4495-ac37-3586fe886ea1',\n",
       " '0fa0c139-fc98-416d-aec0-aae655711f83',\n",
       " 'de1e1d4a-ed22-4379-b304-0698462128e6',\n",
       " 'e445b70d-3ab9-46d9-841f-4805cc761249',\n",
       " '31ef3170-7069-438b-a024-281c285f6822',\n",
       " '699727dc-42cd-4356-b6b2-ed95ae6960a9',\n",
       " 'a21d61fc-c6ed-4a03-82c0-7043c39ed7f1',\n",
       " 'f8096ab6-ca96-4fe2-a071-528ee636d840',\n",
       " '0329c672-3bac-4c65-8e56-ae5b3b61977b',\n",
       " 'b62e2be2-8011-4250-9d7f-12fe931e0919',\n",
       " '51ef1210-f568-43a0-b350-665250fe823c',\n",
       " '0ddd1a86-fc39-4a8f-93bc-8e8d1f3f25b3',\n",
       " '97c32840-c6bd-4560-93a1-6fbf45883a8e',\n",
       " '2b16763d-becb-4afe-8a02-bc9d63d79119',\n",
       " 'b3f240ee-98e7-4f1c-98db-7de8ced08e0d',\n",
       " '0204cbcc-8d2a-4df0-ab81-adcefe3aacdb',\n",
       " '7b99bf07-15dc-4d76-8ecc-c83bcfdd2f29',\n",
       " '912024ac-100d-4ac1-89bc-3deab749da94',\n",
       " '29f4557b-7a03-40e3-9d89-c0a95ed745e4',\n",
       " '3866dea6-68a4-4b23-815f-2b4470ca1f1d',\n",
       " '0b89ca3d-902e-4a23-98f0-181bf9a2adeb',\n",
       " '718b3a06-50f4-4dea-b4e8-34e9c8560e2f',\n",
       " '652081bb-cb33-45d4-a828-99901c6fb0b0',\n",
       " 'a3ad45f3-7857-4e47-b832-2e7ed980f1f4',\n",
       " '81b193e1-cb8d-4560-a5c9-a2e0e052184f',\n",
       " '99f25535-dbed-473a-a8cc-75eed5dc6903',\n",
       " '45074200-7bb2-4b3c-91df-98bac66e04d4',\n",
       " '90f5386f-acd6-4cd2-884f-61f25c6838fa',\n",
       " '35c7aeac-575c-4477-a20f-4ac03bcf0065',\n",
       " 'ae35f368-f30a-4247-8b87-c32a9da4bb8c',\n",
       " 'fe97b8dd-2f05-40ff-b308-74f148c7ab10',\n",
       " '7008d7de-6393-42da-a338-f4fd3b9e03bc',\n",
       " 'e4d86e84-e573-4ca1-a6d5-5b5e2a1c17ec',\n",
       " 'c0428cb4-7432-444d-8151-f265f58a54c6',\n",
       " '8d1f3a63-662f-4977-a448-fb4c28c45141',\n",
       " '40c561f4-5dfe-45cd-b7c1-44da6ae0969e',\n",
       " '5619f5cd-30af-44e4-ae75-85ed785ff1b3',\n",
       " '3278b6bf-96cb-4efa-b1aa-9dcd84a3f534',\n",
       " 'b22a18c8-5fa5-4071-ab78-7f0856bc59b1',\n",
       " 'ee1a3e46-2ff0-462b-92eb-d18c0c73c66a',\n",
       " '55cdfcc5-fb9b-4199-918c-c359c1732e6d',\n",
       " '8effab82-071b-4ab8-9c61-af218488b66c',\n",
       " '56494aa7-9bb9-4caf-80ad-488ab40c41ad',\n",
       " '5df72b13-6d63-4001-9c42-993a35b8cbf3',\n",
       " 'd898cd59-ad93-4faf-9dfe-3d07f5c8d79b',\n",
       " 'af85b540-a4ac-49e4-a2ff-fca3ce190d3b',\n",
       " '2855b145-5376-4385-be10-9b1dd00b3faa',\n",
       " '1944412c-36c8-49d4-be93-1e4ca530cb44',\n",
       " '6866b6bb-b1bd-49f7-9f9e-9dd58d09c9bd',\n",
       " '5fd16620-1ac1-4acd-870d-b5028111106c',\n",
       " 'a63f1b1b-f54e-468c-bc71-311811d312ee',\n",
       " '827b53fd-311b-4dfa-82d5-411d2308f4de',\n",
       " '95cf2fda-fead-4beb-b9d5-cd275395b6e5',\n",
       " 'd66adc5f-96d7-4709-a471-6d6572ce87e5',\n",
       " '6e041e11-32a5-496a-b834-1770e9f688b3',\n",
       " '59dd774a-da6e-4705-a695-37887cb7115c',\n",
       " 'acfb444d-ca41-446b-ae9c-328536ac0727',\n",
       " '0a08a82d-9358-4407-b079-2e5d742b460b',\n",
       " '61a0799f-adea-43f8-a7a1-335afaef28de',\n",
       " 'd659208f-d6f6-4891-bea5-c7deb018d6c3',\n",
       " '01b64c3a-7fcd-4af5-a0d9-8cb0d0f8fa35',\n",
       " 'c2042538-fba5-433c-9d38-3ff88b0f7aee',\n",
       " '335ff5b4-2236-407b-883f-01664c7411de',\n",
       " 'f3741a4a-9ad2-480d-8a2e-13020fd2eaf0',\n",
       " '957f1720-7158-4bf7-ac10-a83b62f1a0b0',\n",
       " 'b9078ecf-3765-4c21-b21c-f9bf44a004cc',\n",
       " '81dd5cda-d8ff-4d01-aa35-2a1049af40f5',\n",
       " '1fb7db22-58c1-4fa3-bcd6-099eef4f3e26',\n",
       " '2db7a673-d84e-483b-9eae-502be2ede819',\n",
       " 'afd9c38d-22c9-4c3e-a71f-effef4064443',\n",
       " '4de7cd43-b281-49a9-ace9-cfd4fb12662a',\n",
       " 'f3016833-5125-4389-a190-a75da891348f',\n",
       " 'e88b6c8a-db87-44ec-8bbd-a475ee88ca5c',\n",
       " '3726064e-558b-42cf-9cf4-76da8851fff5',\n",
       " '0c323b76-2a2b-4aba-9a6a-5571703af21a',\n",
       " '299f6c1e-4163-44e0-8011-0c7f334f508e',\n",
       " 'b1b6edae-0d1e-48e5-9cc7-30c955331946',\n",
       " '21eb7643-7573-4199-b35f-f529169ba776',\n",
       " 'b6b568c3-01a9-40a7-ad74-0163b8ba8f94',\n",
       " '43c01f78-b6e4-46be-bca5-ba7bced46e58',\n",
       " '93710b2e-81d3-484e-b0fa-7ed37f12ffa8',\n",
       " '4e6b5b6f-d274-4712-b650-7d28f4ffc3e2',\n",
       " 'f0ef8ae2-2607-4331-a11e-15d131d2a1c7',\n",
       " '284f58d8-c67e-453f-b824-347446fb15e1',\n",
       " '8eaee266-f842-4ab3-91a5-f5a436b50692']"
      ]
     },
     "execution_count": 14,
     "metadata": {},
     "output_type": "execute_result"
    }
   ],
   "source": [
    "vector_store.add(nodes)"
   ]
  },
  {
   "cell_type": "markdown",
   "id": "dd1cff36",
   "metadata": {},
   "source": [
    "### Querying (milestone 2)"
   ]
  },
  {
   "cell_type": "code",
   "execution_count": 15,
   "id": "5af30589",
   "metadata": {},
   "outputs": [],
   "source": [
    "query_str = \"General Summarized Overview Large Capacity Cutting Machine 2?\"\n",
    "\n",
    "query_embedding = embed_model.get_query_embedding(query_str)"
   ]
  },
  {
   "cell_type": "code",
   "execution_count": 16,
   "id": "0dc1996d",
   "metadata": {},
   "outputs": [],
   "source": [
    "# construct vector store query\n",
    "from llama_index.core.vector_stores import VectorStoreQuery\n",
    "\n",
    "query_mode = \"default\"\n",
    "# query_mode = \"sparse\"\n",
    "# query_mode = \"hybrid\"\n",
    "\n",
    "vector_store_query = VectorStoreQuery(\n",
    "    query_embedding=query_embedding, similarity_top_k=2, mode=query_mode\n",
    ")"
   ]
  },
  {
   "cell_type": "code",
   "execution_count": 17,
   "id": "3671b663",
   "metadata": {},
   "outputs": [
    {
     "name": "stdout",
     "output_type": "stream",
     "text": [
      "}\n",
      "            ],\n",
      "            \"max\": [\n",
      "                {\n",
      "                    \"machine\": \"Large Capacity Cutting Machine 2\",\n",
      "                    \"month\": \"2024-03\",\n",
      "                    \"value\": 0.03329324345041983\n",
      "                }\n",
      "            ]\n",
      "        },\n",
      "        \"cost\": {\n",
      "            \"average\": [\n",
      "                {\n",
      "                    \"machine\": \"Large Capacity Cutting Machine 2\",\n",
      "                    \"month\": \"2024-03\",\n",
      "                    \"value\": 0.000789856282015753\n",
      "                }\n",
      "            ],\n",
      "            \"min\": [\n",
      "                {\n",
      "                    \"machine\": \"Large Capacity Cutting Machine 2\",\n",
      "                    \"month\": \"2024-03\",\n",
      "                    \"value\": 0.0\n",
      "                }\n"
     ]
    }
   ],
   "source": [
    "# returns a VectorStoreQueryResult\n",
    "query_result = vector_store.query(vector_store_query)\n",
    "print(query_result.nodes[0].get_content())"
   ]
  },
  {
   "cell_type": "code",
   "execution_count": null,
   "id": "e5e08e92",
   "metadata": {},
   "outputs": [],
   "source": [
    "from llama_index.core.schema import NodeWithScore\n",
    "from typing import Optional\n",
    "\n",
    "nodes_with_scores = []\n",
    "for index, node in enumerate(query_result.nodes):\n",
    "    score: Optional[float] = None\n",
    "    if query_result.similarities is not None:\n",
    "        score = query_result.similarities[index]\n",
    "    nodes_with_scores.append(NodeWithScore(node=node, score=score))"
   ]
  },
  {
   "cell_type": "markdown",
   "id": "95448220",
   "metadata": {},
   "source": [
    "### Simpler retriever (using hybrid search) --> not important"
   ]
  },
  {
   "cell_type": "code",
   "execution_count": null,
   "id": "6aa6af85",
   "metadata": {},
   "outputs": [],
   "source": [
    "vector_store = PGVectorStore.from_params(\n",
    "    database=db_name,\n",
    "    host=host,\n",
    "    password=password,\n",
    "    port=port,\n",
    "    user=user,\n",
    "    table_name=\"json_data\",\n",
    "    embed_dim=1024,  # openai embedding dimension\n",
    "    hybrid_search=True\n",
    ")"
   ]
  },
  {
   "cell_type": "code",
   "execution_count": null,
   "id": "5002fd6d",
   "metadata": {},
   "outputs": [],
   "source": [
    "from llama_index.core.vector_stores.types import VectorStoreQueryMode\n",
    "from llama_index.core import VectorStoreIndex\n",
    "\n",
    "vector_store_index = VectorStoreIndex.from_vector_store(vector_store, embed_model=embed_model)\n",
    "retriever = vector_store_index.as_retriever(\n",
    "    vector_store_query_mode=VectorStoreQueryMode.HYBRID\n",
    ")"
   ]
  },
  {
   "cell_type": "code",
   "execution_count": null,
   "id": "93af3040",
   "metadata": {},
   "outputs": [],
   "source": [
    "nodes = retriever.retrieve(\"machine\")"
   ]
  },
  {
   "cell_type": "markdown",
   "id": "799f12c8",
   "metadata": {},
   "source": [
    "### Custom retriever"
   ]
  },
  {
   "cell_type": "markdown",
   "id": "f56cc165",
   "metadata": {},
   "source": [
    "Connect first to postgresql (also start postgresql service) \n",
    "\n",
    "--> using brew: brew services start postgresql@14"
   ]
  },
  {
   "cell_type": "code",
   "execution_count": null,
   "id": "4c4307c1",
   "metadata": {},
   "outputs": [],
   "source": [
    "vector_store = PGVectorStore.from_params(\n",
    "    database=db_name,\n",
    "    host=host,\n",
    "    password=password,\n",
    "    port=port,\n",
    "    user=user,\n",
    "    table_name=\"json_data\",\n",
    "    embed_dim=1024,  # openai embedding dimension\n",
    ")"
   ]
  },
  {
   "cell_type": "code",
   "execution_count": 4,
   "id": "c4f0409d",
   "metadata": {},
   "outputs": [],
   "source": [
    "from llama_index.core.schema import NodeWithScore\n",
    "from llama_index.core import QueryBundle\n",
    "from llama_index.core.retrievers import BaseRetriever\n",
    "from typing import Any, List\n",
    "\n",
    "\n",
    "class VectorDBRetriever(BaseRetriever):\n",
    "    \"\"\"Retriever over a postgres vector store.\"\"\"\n",
    "\n",
    "    def __init__(\n",
    "        self,\n",
    "        vector_store: PGVectorStore,\n",
    "        embed_model: Any,\n",
    "        query_mode: str = \"default\",\n",
    "        similarity_top_k: int = 2,\n",
    "    ) -> None:\n",
    "        \"\"\"Init params.\"\"\"\n",
    "        self._vector_store = vector_store\n",
    "        self._embed_model = embed_model\n",
    "        self._query_mode = query_mode\n",
    "        self._similarity_top_k = similarity_top_k\n",
    "        super().__init__()\n",
    "\n",
    "    def _retrieve(self, query_bundle: QueryBundle) -> List[NodeWithScore]:\n",
    "        \"\"\"Retrieve.\"\"\"\n",
    "        query_embedding = embed_model.get_query_embedding(\n",
    "            query_bundle.query_str\n",
    "        )\n",
    "        vector_store_query = VectorStoreQuery(\n",
    "            query_embedding=query_embedding,\n",
    "            similarity_top_k=self._similarity_top_k,\n",
    "            mode=self._query_mode,\n",
    "        )\n",
    "        query_result = vector_store.query(vector_store_query)\n",
    "\n",
    "        nodes_with_scores = []\n",
    "        for index, node in enumerate(query_result.nodes):\n",
    "            score: Optional[float] = None\n",
    "            if query_result.similarities is not None:\n",
    "                score = query_result.similarities[index]\n",
    "            nodes_with_scores.append(NodeWithScore(node=node, score=score))\n",
    "\n",
    "        return nodes_with_scores"
   ]
  },
  {
   "cell_type": "code",
   "execution_count": 20,
   "id": "d0091938",
   "metadata": {},
   "outputs": [],
   "source": [
    "retriever = VectorDBRetriever(\n",
    "    vector_store, embed_model, query_mode=\"default\", similarity_top_k=14\n",
    ")"
   ]
  },
  {
   "cell_type": "markdown",
   "id": "45593947",
   "metadata": {},
   "source": [
    "all the nodes are accessible through the retriever object, or through the query_engine defined below"
   ]
  },
  {
   "cell_type": "code",
   "execution_count": 21,
   "id": "8119848e",
   "metadata": {},
   "outputs": [],
   "source": [
    "from llama_index.core.query_engine import RetrieverQueryEngine\n",
    "\n",
    "query_engine = RetrieverQueryEngine.from_args(retriever, llm=llm)"
   ]
  },
  {
   "cell_type": "code",
   "execution_count": 22,
   "id": "adae721a",
   "metadata": {},
   "outputs": [],
   "source": [
    "response = query_engine.query(query_str)"
   ]
  },
  {
   "cell_type": "code",
   "execution_count": 23,
   "id": "584112fd",
   "metadata": {},
   "outputs": [
    {
     "data": {
      "text/plain": [
       "Response(response='Here is a summarized overview of the data related to the Large Capacity Cutting Machine 2:\\n\\n**Performance Metrics**\\n\\n* Average values:\\n\\t+ Maximum production capacity: 0.03329324345041983\\n\\t+ Average consumption working: 0.0025818193261147593\\n\\t+ Average cycles: 0.7419354838709677\\n\\t+ Average good cycles: 651.0967741935484\\n* Minimum values:\\n\\t+ Maximum production capacity: 0.0\\n\\t+ Average consumption idle: 0.0\\n\\t+ Average cycles: 0.0\\n\\t+ Average good cycles: 0.03249318468435469\\n\\n**Energy Consumption**\\n\\n* Maximum energy consumption during working hours: 18860.0\\n* Minimum energy consumption during idle hours: 0.0\\n* Maximum energy consumption during idle hours: 0.0\\n\\n**Downtime and Offline Time**\\n\\n* Average offline time: 0.15497427194254568 seconds\\n* Minimum offline time: 0.0\\n* Maximum offline time: 0.15497427194254568 seconds\\n\\nOverall, the Large Capacity Cutting Machine 2 has excellent performance metrics, with high average production capacity and cycles. However, it also consumes significant amounts of energy during working hours. The machine has a relatively low average offline time, indicating minimal downtime.', source_nodes=[NodeWithScore(node=TextNode(id_='0fa0c139-fc98-416d-aec0-aae655711f83', embedding=None, metadata={'filename': 'restructured_monthly_smart_app_data_Large%20Capacity%20Cutting%20Machine%202.json', 'extension': '.json', 'entities': ['Large Capacity Cutting Machine 2']}, excluded_embed_metadata_keys=[], excluded_llm_metadata_keys=[], relationships={<NodeRelationship.SOURCE: '1'>: RelatedNodeInfo(node_id='4ef03cef-2881-402c-acf4-6b0b370fa920', node_type=<ObjectType.DOCUMENT: '4'>, metadata={'filename': 'restructured_monthly_smart_app_data_Large%20Capacity%20Cutting%20Machine%202.json', 'extension': '.json'}, hash='2d5aebb40132de64e0b6cfec2b81370ef8fd257087869f1dd9c157b246bfeea1'), <NodeRelationship.PREVIOUS: '2'>: RelatedNodeInfo(node_id='789a62c9-4a7a-4495-ac37-3586fe886ea1', node_type=<ObjectType.TEXT: '1'>, metadata={'filename': 'restructured_monthly_smart_app_data_Large%20Capacity%20Cutting%20Machine%202.json', 'extension': '.json'}, hash='5385223987f87501c37501c03f4f8768f905ae0cf6cc8af0d0868e029572811f'), <NodeRelationship.NEXT: '3'>: RelatedNodeInfo(node_id='de1e1d4a-ed22-4379-b304-0698462128e6', node_type=<ObjectType.TEXT: '1'>, metadata={}, hash='b787e7c3e7288c0d90f2a228dda828ea88a61935a3a498c5caac1ecc08152d21')}, text='}\\n            ],\\n            \"max\": [\\n                {\\n                    \"machine\": \"Large Capacity Cutting Machine 2\",\\n                    \"month\": \"2024-03\",\\n                    \"value\": 0.03329324345041983\\n                }\\n            ]\\n        },\\n        \"cost\": {\\n            \"average\": [\\n                {\\n                    \"machine\": \"Large Capacity Cutting Machine 2\",\\n                    \"month\": \"2024-03\",\\n                    \"value\": 0.000789856282015753\\n                }\\n            ],\\n            \"min\": [\\n                {\\n                    \"machine\": \"Large Capacity Cutting Machine 2\",\\n                    \"month\": \"2024-03\",\\n                    \"value\": 0.0\\n                }', mimetype='text/plain', start_char_idx=3254, end_char_idx=3956, text_template='[Excerpt from document]\\n{metadata_str}\\nExcerpt:\\n-----\\n{content}\\n-----\\n', metadata_template='{key}: {value}', metadata_seperator='\\n'), score=0.6629893193573163), NodeWithScore(node=TextNode(id_='51ef1210-f568-43a0-b350-665250fe823c', embedding=None, metadata={'filename': 'restructured_monthly_smart_app_data_Large%20Capacity%20Cutting%20Machine%202.json', 'extension': '.json', 'entities': ['Large Capacity Cutting Machine 2']}, excluded_embed_metadata_keys=[], excluded_llm_metadata_keys=[], relationships={<NodeRelationship.SOURCE: '1'>: RelatedNodeInfo(node_id='4ef03cef-2881-402c-acf4-6b0b370fa920', node_type=<ObjectType.DOCUMENT: '4'>, metadata={'filename': 'restructured_monthly_smart_app_data_Large%20Capacity%20Cutting%20Machine%202.json', 'extension': '.json'}, hash='2d5aebb40132de64e0b6cfec2b81370ef8fd257087869f1dd9c157b246bfeea1'), <NodeRelationship.PREVIOUS: '2'>: RelatedNodeInfo(node_id='b62e2be2-8011-4250-9d7f-12fe931e0919', node_type=<ObjectType.TEXT: '1'>, metadata={'filename': 'restructured_monthly_smart_app_data_Large%20Capacity%20Cutting%20Machine%202.json', 'extension': '.json'}, hash='138eb4ce4795bd8dbe8110d5080e84d21e93b4652b9ef58f056a2e311814131c'), <NodeRelationship.NEXT: '3'>: RelatedNodeInfo(node_id='0ddd1a86-fc39-4a8f-93bc-8e8d1f3f25b3', node_type=<ObjectType.TEXT: '1'>, metadata={}, hash='d5f9561b488ea7b762074e48aef3bf62c53988a6a1f2418ff52a1b34b365b0ae')}, text='0.0\\n                }\\n            ],\\n            \"max\": [\\n                {\\n                    \"machine\": \"Large Capacity Cutting Machine 2\",\\n                    \"month\": \"2024-03\",\\n                    \"value\": 0.0\\n                }\\n            ]\\n        },\\n        \"power\": {\\n            \"average\": [\\n                {\\n                    \"machine\": \"Large Capacity Cutting Machine 2\",\\n                    \"month\": \"2024-03\",\\n                    \"value\": 0.0025818193261147593\\n                }\\n            ],\\n            \"min\": [\\n                {\\n                    \"machine\": \"Large Capacity Cutting Machine 2\",\\n                    \"month\": \"2024-03\",\\n                    \"value\": 0.0\\n                }', mimetype='text/plain', start_char_idx=8015, end_char_idx=8723, text_template='[Excerpt from document]\\n{metadata_str}\\nExcerpt:\\n-----\\n{content}\\n-----\\n', metadata_template='{key}: {value}', metadata_seperator='\\n'), score=0.6614199731266782), NodeWithScore(node=TextNode(id_='174c77fe-224f-4966-8460-275a554e1053', embedding=None, metadata={'filename': 'restructured_monthly_smart_app_data_Large%20Capacity%20Cutting%20Machine%202.json', 'extension': '.json', 'entities': ['Large Capacity Cutting Machine 2']}, excluded_embed_metadata_keys=[], excluded_llm_metadata_keys=[], relationships={<NodeRelationship.SOURCE: '1'>: RelatedNodeInfo(node_id='4ef03cef-2881-402c-acf4-6b0b370fa920', node_type=<ObjectType.DOCUMENT: '4'>, metadata={'filename': 'restructured_monthly_smart_app_data_Large%20Capacity%20Cutting%20Machine%202.json', 'extension': '.json'}, hash='2d5aebb40132de64e0b6cfec2b81370ef8fd257087869f1dd9c157b246bfeea1'), <NodeRelationship.PREVIOUS: '2'>: RelatedNodeInfo(node_id='58cc9b9e-762d-4695-8582-6597bdb833dc', node_type=<ObjectType.TEXT: '1'>, metadata={'filename': 'restructured_monthly_smart_app_data_Large%20Capacity%20Cutting%20Machine%202.json', 'extension': '.json'}, hash='43c2ba9a21ce69a502e1143cefe97c88a42dd674e83f9f4fde0bf04a618d421f'), <NodeRelationship.NEXT: '3'>: RelatedNodeInfo(node_id='789a62c9-4a7a-4495-ac37-3586fe886ea1', node_type=<ObjectType.TEXT: '1'>, metadata={}, hash='b70fde0e1ceec9223c1e5423e620845bba47470e99ada7ee69c1c0d37b8fee06')}, text='{\\n                    \"machine\": \"Large Capacity Cutting Machine 2\",\\n                    \"month\": \"2024-03\",\\n                    \"value\": 0.0006513621264504764\\n                }\\n            ],\\n            \"min\": [\\n                {\\n                    \"machine\": \"Large Capacity Cutting Machine 2\",\\n                    \"month\": \"2024-03\",\\n                    \"value\": 0.0\\n                }\\n            ],\\n            \"max\": [\\n                {\\n                    \"machine\": \"Large Capacity Cutting Machine 2\",\\n                    \"month\": \"2024-03\",\\n                    \"value\": 0.03249318468435469\\n                }\\n            ]\\n        },\\n        \"consumption_working\": {\\n            \"average\": [\\n                {', mimetype='text/plain', start_char_idx=2151, end_char_idx=2869, text_template='[Excerpt from document]\\n{metadata_str}\\nExcerpt:\\n-----\\n{content}\\n-----\\n', metadata_template='{key}: {value}', metadata_seperator='\\n'), score=0.6573567286095401), NodeWithScore(node=TextNode(id_='699727dc-42cd-4356-b6b2-ed95ae6960a9', embedding=None, metadata={'filename': 'restructured_monthly_smart_app_data_Large%20Capacity%20Cutting%20Machine%202.json', 'extension': '.json', 'entities': ['Large Capacity Cutting Machine 2']}, excluded_embed_metadata_keys=[], excluded_llm_metadata_keys=[], relationships={<NodeRelationship.SOURCE: '1'>: RelatedNodeInfo(node_id='4ef03cef-2881-402c-acf4-6b0b370fa920', node_type=<ObjectType.DOCUMENT: '4'>, metadata={'filename': 'restructured_monthly_smart_app_data_Large%20Capacity%20Cutting%20Machine%202.json', 'extension': '.json'}, hash='2d5aebb40132de64e0b6cfec2b81370ef8fd257087869f1dd9c157b246bfeea1'), <NodeRelationship.PREVIOUS: '2'>: RelatedNodeInfo(node_id='31ef3170-7069-438b-a024-281c285f6822', node_type=<ObjectType.TEXT: '1'>, metadata={'filename': 'restructured_monthly_smart_app_data_Large%20Capacity%20Cutting%20Machine%202.json', 'extension': '.json'}, hash='b96481eb2f916bad807ff487a4823bcd2222b66b3b7ea6b2237e97a6c06690e1'), <NodeRelationship.NEXT: '3'>: RelatedNodeInfo(node_id='a21d61fc-c6ed-4a03-82c0-7043c39ed7f1', node_type=<ObjectType.TEXT: '1'>, metadata={}, hash='c8e579c3a98f1bf822b552261651879716032c05a9edb750defe4b4c6fe7d40d')}, text='{\\n                    \"machine\": \"Large Capacity Cutting Machine 2\",\\n                    \"month\": \"2024-03\",\\n                    \"value\": 0.0\\n                }\\n            ]\\n        },\\n        \"cycles\": {\\n            \"average\": [\\n                {\\n                    \"machine\": \"Large Capacity Cutting Machine 2\",\\n                    \"month\": \"2024-03\",\\n                    \"value\": 0.7419354838709677\\n                }\\n            ],\\n            \"min\": [\\n                {\\n                    \"machine\": \"Large Capacity Cutting Machine 2\",\\n                    \"month\": \"2024-03\",\\n                    \"value\": 0.0\\n                }\\n            ],\\n            \"max\": [\\n                {', mimetype='text/plain', start_char_idx=5358, end_char_idx=6044, text_template='[Excerpt from document]\\n{metadata_str}\\nExcerpt:\\n-----\\n{content}\\n-----\\n', metadata_template='{key}: {value}', metadata_seperator='\\n'), score=0.6545104265442965), NodeWithScore(node=TextNode(id_='e445b70d-3ab9-46d9-841f-4805cc761249', embedding=None, metadata={'filename': 'restructured_monthly_smart_app_data_Large%20Capacity%20Cutting%20Machine%202.json', 'extension': '.json', 'entities': ['Large Capacity Cutting Machine 2']}, excluded_embed_metadata_keys=[], excluded_llm_metadata_keys=[], relationships={<NodeRelationship.SOURCE: '1'>: RelatedNodeInfo(node_id='4ef03cef-2881-402c-acf4-6b0b370fa920', node_type=<ObjectType.DOCUMENT: '4'>, metadata={'filename': 'restructured_monthly_smart_app_data_Large%20Capacity%20Cutting%20Machine%202.json', 'extension': '.json'}, hash='2d5aebb40132de64e0b6cfec2b81370ef8fd257087869f1dd9c157b246bfeea1'), <NodeRelationship.PREVIOUS: '2'>: RelatedNodeInfo(node_id='de1e1d4a-ed22-4379-b304-0698462128e6', node_type=<ObjectType.TEXT: '1'>, metadata={'filename': 'restructured_monthly_smart_app_data_Large%20Capacity%20Cutting%20Machine%202.json', 'extension': '.json'}, hash='52b80b140b3cd47f875753493d7cee43bab818735f2faa4da329e12457cdfe2f'), <NodeRelationship.NEXT: '3'>: RelatedNodeInfo(node_id='31ef3170-7069-438b-a024-281c285f6822', node_type=<ObjectType.TEXT: '1'>, metadata={}, hash='216d891d4cfc91158bb6d27a016e9f5f066d58ffabec197e1693f9b7fd330d55')}, text='Capacity Cutting Machine 2\",\\n                    \"month\": \"2024-03\",\\n                    \"value\": 0.0\\n                }\\n            ],\\n            \"min\": [\\n                {\\n                    \"machine\": \"Large Capacity Cutting Machine 2\",\\n                    \"month\": \"2024-03\",\\n                    \"value\": 0.0\\n                }\\n            ],\\n            \"max\": [\\n                {\\n                    \"machine\": \"Large Capacity Cutting Machine 2\",\\n                    \"month\": \"2024-03\",\\n                    \"value\": 0.0\\n                }\\n            ]\\n        },\\n        \"cost_working\": {\\n            \"average\": [\\n                {\\n                    \"machine\": \"Large Capacity Cutting Machine 2\",\\n                    \"month\":', mimetype='text/plain', start_char_idx=4298, end_char_idx=5031, text_template='[Excerpt from document]\\n{metadata_str}\\nExcerpt:\\n-----\\n{content}\\n-----\\n', metadata_template='{key}: {value}', metadata_seperator='\\n'), score=0.6534011045688185), NodeWithScore(node=TextNode(id_='cff0a871-61c1-4e4b-915a-755a340d84c4', embedding=None, metadata={'filename': 'restructured_monthly_smart_app_data_Large%20Capacity%20Cutting%20Machine%202.json', 'extension': '.json', 'entities': ['Large Capacity Cutting Machine', 'Large Capacity Cutting Machine 2']}, excluded_embed_metadata_keys=[], excluded_llm_metadata_keys=[], relationships={<NodeRelationship.SOURCE: '1'>: RelatedNodeInfo(node_id='4ef03cef-2881-402c-acf4-6b0b370fa920', node_type=<ObjectType.DOCUMENT: '4'>, metadata={'filename': 'restructured_monthly_smart_app_data_Large%20Capacity%20Cutting%20Machine%202.json', 'extension': '.json'}, hash='2d5aebb40132de64e0b6cfec2b81370ef8fd257087869f1dd9c157b246bfeea1'), <NodeRelationship.PREVIOUS: '2'>: RelatedNodeInfo(node_id='dcbfa98e-f742-412f-8635-5f1781f4eee7', node_type=<ObjectType.TEXT: '1'>, metadata={'filename': 'restructured_monthly_smart_app_data_Large%20Capacity%20Cutting%20Machine%202.json', 'extension': '.json'}, hash='abed569d9ae54f6aef3f75dfd9fa4c2ccba3a30796fb0c46ea7976516ec12d78'), <NodeRelationship.NEXT: '3'>: RelatedNodeInfo(node_id='234b5d11-0df1-40fb-8318-eb32be7a9b4f', node_type=<ObjectType.TEXT: '1'>, metadata={}, hash='3ecbbf9334585c1801def5a70ec1e39c6ee178d79fc53c9b73f9b0ab570ee05b')}, text='\"machine\": \"Large Capacity Cutting Machine 2\",\\n                    \"month\": \"2024-03\",\\n                    \"value\": 0.0\\n                }\\n            ]\\n        },\\n        \"bad_cycles\": {\\n            \"average\": [\\n                {\\n                    \"machine\": \"Large Capacity Cutting Machine 2\",\\n                    \"month\": \"2024-03\",\\n                    \"value\": 0.0\\n                }\\n            ],\\n            \"min\": [\\n                {\\n                    \"machine\": \"Large Capacity Cutting Machine 2\",\\n                    \"month\": \"2024-03\",\\n                    \"value\": 0.0\\n                }\\n            ],\\n            \"max\": [\\n                {\\n                    \"machine\": \"Large Capacity Cutting Machine 2\",', mimetype='text/plain', start_char_idx=534, end_char_idx=1254, text_template='[Excerpt from document]\\n{metadata_str}\\nExcerpt:\\n-----\\n{content}\\n-----\\n', metadata_template='{key}: {value}', metadata_seperator='\\n'), score=0.6526519160376381), NodeWithScore(node=TextNode(id_='31ef3170-7069-438b-a024-281c285f6822', embedding=None, metadata={'filename': 'restructured_monthly_smart_app_data_Large%20Capacity%20Cutting%20Machine%202.json', 'extension': '.json', 'entities': ['Large Capacity Cutting Machine 2']}, excluded_embed_metadata_keys=[], excluded_llm_metadata_keys=[], relationships={<NodeRelationship.SOURCE: '1'>: RelatedNodeInfo(node_id='4ef03cef-2881-402c-acf4-6b0b370fa920', node_type=<ObjectType.DOCUMENT: '4'>, metadata={'filename': 'restructured_monthly_smart_app_data_Large%20Capacity%20Cutting%20Machine%202.json', 'extension': '.json'}, hash='2d5aebb40132de64e0b6cfec2b81370ef8fd257087869f1dd9c157b246bfeea1'), <NodeRelationship.PREVIOUS: '2'>: RelatedNodeInfo(node_id='e445b70d-3ab9-46d9-841f-4805cc761249', node_type=<ObjectType.TEXT: '1'>, metadata={'filename': 'restructured_monthly_smart_app_data_Large%20Capacity%20Cutting%20Machine%202.json', 'extension': '.json'}, hash='23085dfeacaefd254bd23d1ffb7e70d96dcd98d7fb0dc4502914239244d6f90f'), <NodeRelationship.NEXT: '3'>: RelatedNodeInfo(node_id='699727dc-42cd-4356-b6b2-ed95ae6960a9', node_type=<ObjectType.TEXT: '1'>, metadata={}, hash='c8de47e4d345450f65034342ed6276d507e542c5fee5db93158c31df69a66295')}, text='}\\n            ]\\n        },\\n        \"cost_working\": {\\n            \"average\": [\\n                {\\n                    \"machine\": \"Large Capacity Cutting Machine 2\",\\n                    \"month\": \"2024-03\",\\n                    \"value\": 0.0\\n                }\\n            ],\\n            \"min\": [\\n                {\\n                    \"machine\": \"Large Capacity Cutting Machine 2\",\\n                    \"month\": \"2024-03\",\\n                    \"value\": 0.0\\n                }\\n            ],\\n            \"max\": [\\n                {\\n                    \"machine\": \"Large Capacity Cutting Machine 2\",\\n                    \"month\": \"2024-03\",\\n                    \"value\": 0.0\\n                }\\n            ]', mimetype='text/plain', start_char_idx=4840, end_char_idx=5531, text_template='[Excerpt from document]\\n{metadata_str}\\nExcerpt:\\n-----\\n{content}\\n-----\\n', metadata_template='{key}: {value}', metadata_seperator='\\n'), score=0.6450840389127637), NodeWithScore(node=TextNode(id_='97c32840-c6bd-4560-93a1-6fbf45883a8e', embedding=None, metadata={'filename': 'restructured_monthly_smart_app_data_Large%20Capacity%20Cutting%20Machine%202.json', 'extension': '.json', 'entities': ['Large Capacity Cutting Machine 2']}, excluded_embed_metadata_keys=[], excluded_llm_metadata_keys=[], relationships={<NodeRelationship.SOURCE: '1'>: RelatedNodeInfo(node_id='4ef03cef-2881-402c-acf4-6b0b370fa920', node_type=<ObjectType.DOCUMENT: '4'>, metadata={'filename': 'restructured_monthly_smart_app_data_Large%20Capacity%20Cutting%20Machine%202.json', 'extension': '.json'}, hash='2d5aebb40132de64e0b6cfec2b81370ef8fd257087869f1dd9c157b246bfeea1'), <NodeRelationship.PREVIOUS: '2'>: RelatedNodeInfo(node_id='0ddd1a86-fc39-4a8f-93bc-8e8d1f3f25b3', node_type=<ObjectType.TEXT: '1'>, metadata={'filename': 'restructured_monthly_smart_app_data_Large%20Capacity%20Cutting%20Machine%202.json', 'extension': '.json'}, hash='db62915b7b198f41379ca50b73baf90037ca6fd0839f3e7ff866fb5e4753807b')}, text='\"machine\": \"Large Capacity Cutting Machine 2\",\\n                    \"month\": \"2024-03\",\\n                    \"value\": 0.0\\n                }\\n            ],\\n            \"min\": [\\n                {\\n                    \"machine\": \"Large Capacity Cutting Machine 2\",\\n                    \"month\": \"2024-03\",\\n                    \"value\": 0.0\\n                }\\n            ],\\n            \"max\": [\\n                {\\n                    \"machine\": \"Large Capacity Cutting Machine 2\",\\n                    \"month\": \"2024-03\",\\n                    \"value\": 0.0\\n                }\\n            ]\\n        }\\n    }\\n}', mimetype='text/plain', start_char_idx=9066, end_char_idx=9659, text_template='[Excerpt from document]\\n{metadata_str}\\nExcerpt:\\n-----\\n{content}\\n-----\\n', metadata_template='{key}: {value}', metadata_seperator='\\n'), score=0.6446652013076544), NodeWithScore(node=TextNode(id_='de1e1d4a-ed22-4379-b304-0698462128e6', embedding=None, metadata={'filename': 'restructured_monthly_smart_app_data_Large%20Capacity%20Cutting%20Machine%202.json', 'extension': '.json', 'entities': ['Large Capacity Cutting Machine 2']}, excluded_embed_metadata_keys=[], excluded_llm_metadata_keys=[], relationships={<NodeRelationship.SOURCE: '1'>: RelatedNodeInfo(node_id='4ef03cef-2881-402c-acf4-6b0b370fa920', node_type=<ObjectType.DOCUMENT: '4'>, metadata={'filename': 'restructured_monthly_smart_app_data_Large%20Capacity%20Cutting%20Machine%202.json', 'extension': '.json'}, hash='2d5aebb40132de64e0b6cfec2b81370ef8fd257087869f1dd9c157b246bfeea1'), <NodeRelationship.PREVIOUS: '2'>: RelatedNodeInfo(node_id='0fa0c139-fc98-416d-aec0-aae655711f83', node_type=<ObjectType.TEXT: '1'>, metadata={'filename': 'restructured_monthly_smart_app_data_Large%20Capacity%20Cutting%20Machine%202.json', 'extension': '.json'}, hash='7dcb00373e37d4fc32bf6daa76195f4b19235bddcd34f42f5c286368b7d049cb'), <NodeRelationship.NEXT: '3'>: RelatedNodeInfo(node_id='e445b70d-3ab9-46d9-841f-4805cc761249', node_type=<ObjectType.TEXT: '1'>, metadata={}, hash='1421221ac92f0b35ecb45a71385339ebcbcd88ad8099e1f9666077c31ec65258')}, text='\"min\": [\\n                {\\n                    \"machine\": \"Large Capacity Cutting Machine 2\",\\n                    \"month\": \"2024-03\",\\n                    \"value\": 0.0\\n                }\\n            ],\\n            \"max\": [\\n                {\\n                    \"machine\": \"Large Capacity Cutting Machine 2\",\\n                    \"month\": \"2024-03\",\\n                    \"value\": 0.0\\n                }\\n            ]\\n        },\\n        \"cost_idle\": {\\n            \"average\": [\\n                {\\n                    \"machine\": \"Large Capacity Cutting Machine 2\",\\n                    \"month\": \"2024-03\",\\n                    \"value\": 0.0\\n                }\\n            ],\\n            \"min\": [\\n                {', mimetype='text/plain', start_char_idx=3772, end_char_idx=4471, text_template='[Excerpt from document]\\n{metadata_str}\\nExcerpt:\\n-----\\n{content}\\n-----\\n', metadata_template='{key}: {value}', metadata_seperator='\\n'), score=0.6401649903071178), NodeWithScore(node=TextNode(id_='0329c672-3bac-4c65-8e56-ae5b3b61977b', embedding=None, metadata={'filename': 'restructured_monthly_smart_app_data_Large%20Capacity%20Cutting%20Machine%202.json', 'extension': '.json', 'entities': ['Large Capacity Cutting Machine 2']}, excluded_embed_metadata_keys=[], excluded_llm_metadata_keys=[], relationships={<NodeRelationship.SOURCE: '1'>: RelatedNodeInfo(node_id='4ef03cef-2881-402c-acf4-6b0b370fa920', node_type=<ObjectType.DOCUMENT: '4'>, metadata={'filename': 'restructured_monthly_smart_app_data_Large%20Capacity%20Cutting%20Machine%202.json', 'extension': '.json'}, hash='2d5aebb40132de64e0b6cfec2b81370ef8fd257087869f1dd9c157b246bfeea1'), <NodeRelationship.PREVIOUS: '2'>: RelatedNodeInfo(node_id='f8096ab6-ca96-4fe2-a071-528ee636d840', node_type=<ObjectType.TEXT: '1'>, metadata={'filename': 'restructured_monthly_smart_app_data_Large%20Capacity%20Cutting%20Machine%202.json', 'extension': '.json'}, hash='98ddcb35e2789a41aac74597bbaffa40eed75bee4caeec34ad9faf428733dbe8'), <NodeRelationship.NEXT: '3'>: RelatedNodeInfo(node_id='b62e2be2-8011-4250-9d7f-12fe931e0919', node_type=<ObjectType.TEXT: '1'>, metadata={}, hash='7a44b39e1960950813d3e74f9eb6954c0ae30d4299e858166e5a18a9e3ca0128')}, text='{\\n            \"average\": [\\n                {\\n                    \"machine\": \"Large Capacity Cutting Machine 2\",\\n                    \"month\": \"2024-03\",\\n                    \"value\": 0.0\\n                }\\n            ],\\n            \"min\": [\\n                {\\n                    \"machine\": \"Large Capacity Cutting Machine 2\",\\n                    \"month\": \"2024-03\",\\n                    \"value\": 0.0\\n                }\\n            ],\\n            \"max\": [\\n                {\\n                    \"machine\": \"Large Capacity Cutting Machine 2\",\\n                    \"month\": \"2024-03\",\\n                    \"value\": 0.0\\n                }\\n            ]\\n        },\\n        \"offline_time\": {\\n            \"average\": [', mimetype='text/plain', start_char_idx=6946, end_char_idx=7648, text_template='[Excerpt from document]\\n{metadata_str}\\nExcerpt:\\n-----\\n{content}\\n-----\\n', metadata_template='{key}: {value}', metadata_seperator='\\n'), score=0.6383130486903684), NodeWithScore(node=TextNode(id_='58cc9b9e-762d-4695-8582-6597bdb833dc', embedding=None, metadata={'filename': 'restructured_monthly_smart_app_data_Large%20Capacity%20Cutting%20Machine%202.json', 'extension': '.json', 'entities': ['Large Capacity Cutting Machine 2']}, excluded_embed_metadata_keys=[], excluded_llm_metadata_keys=[], relationships={<NodeRelationship.SOURCE: '1'>: RelatedNodeInfo(node_id='4ef03cef-2881-402c-acf4-6b0b370fa920', node_type=<ObjectType.DOCUMENT: '4'>, metadata={'filename': 'restructured_monthly_smart_app_data_Large%20Capacity%20Cutting%20Machine%202.json', 'extension': '.json'}, hash='2d5aebb40132de64e0b6cfec2b81370ef8fd257087869f1dd9c157b246bfeea1'), <NodeRelationship.PREVIOUS: '2'>: RelatedNodeInfo(node_id='234b5d11-0df1-40fb-8318-eb32be7a9b4f', node_type=<ObjectType.TEXT: '1'>, metadata={'filename': 'restructured_monthly_smart_app_data_Large%20Capacity%20Cutting%20Machine%202.json', 'extension': '.json'}, hash='9847c9fda6bcab729a304dce44595c602280f66b5e6a717163e6c6228ad9d017'), <NodeRelationship.NEXT: '3'>: RelatedNodeInfo(node_id='174c77fe-224f-4966-8460-275a554e1053', node_type=<ObjectType.TEXT: '1'>, metadata={}, hash='00b7d79880c0e3276d3e2039a25f1416bc4034a164ddce44ecd748eef31ba5f2')}, text='}\\n            ],\\n            \"min\": [\\n                {\\n                    \"machine\": \"Large Capacity Cutting Machine 2\",\\n                    \"month\": \"2024-03\",\\n                    \"value\": 0.0\\n                }\\n            ],\\n            \"max\": [\\n                {\\n                    \"machine\": \"Large Capacity Cutting Machine 2\",\\n                    \"month\": \"2024-03\",\\n                    \"value\": 0.15497427194254568\\n                }\\n            ]\\n        },\\n        \"consumption_idle\": {\\n            \"average\": [\\n                {\\n                    \"machine\": \"Large Capacity Cutting Machine 2\",\\n                    \"month\": \"2024-03\",\\n                    \"value\": 0.0006513621264504764\\n                }\\n            ],', mimetype='text/plain', start_char_idx=1613, end_char_idx=2343, text_template='[Excerpt from document]\\n{metadata_str}\\nExcerpt:\\n-----\\n{content}\\n-----\\n', metadata_template='{key}: {value}', metadata_seperator='\\n'), score=0.6374903235623008), NodeWithScore(node=TextNode(id_='0ddd1a86-fc39-4a8f-93bc-8e8d1f3f25b3', embedding=None, metadata={'filename': 'restructured_monthly_smart_app_data_Large%20Capacity%20Cutting%20Machine%202.json', 'extension': '.json', 'entities': ['Large Capacity Cutting Machine 2']}, excluded_embed_metadata_keys=[], excluded_llm_metadata_keys=[], relationships={<NodeRelationship.SOURCE: '1'>: RelatedNodeInfo(node_id='4ef03cef-2881-402c-acf4-6b0b370fa920', node_type=<ObjectType.DOCUMENT: '4'>, metadata={'filename': 'restructured_monthly_smart_app_data_Large%20Capacity%20Cutting%20Machine%202.json', 'extension': '.json'}, hash='2d5aebb40132de64e0b6cfec2b81370ef8fd257087869f1dd9c157b246bfeea1'), <NodeRelationship.PREVIOUS: '2'>: RelatedNodeInfo(node_id='51ef1210-f568-43a0-b350-665250fe823c', node_type=<ObjectType.TEXT: '1'>, metadata={'filename': 'restructured_monthly_smart_app_data_Large%20Capacity%20Cutting%20Machine%202.json', 'extension': '.json'}, hash='3c5c8aaea34b5e8bd4dffaaa6adeb931e913f4c68722a458f3cbb87439b5ddb7'), <NodeRelationship.NEXT: '3'>: RelatedNodeInfo(node_id='97c32840-c6bd-4560-93a1-6fbf45883a8e', node_type=<ObjectType.TEXT: '1'>, metadata={}, hash='515fdde9550f7df6c2b67db816c0ff32e74e4102049da29150560e8e6746313e')}, text='\"min\": [\\n                {\\n                    \"machine\": \"Large Capacity Cutting Machine 2\",\\n                    \"month\": \"2024-03\",\\n                    \"value\": 0.0\\n                }\\n            ],\\n            \"max\": [\\n                {\\n                    \"machine\": \"Large Capacity Cutting Machine 2\",\\n                    \"month\": \"2024-03\",\\n                    \"value\": 0.07239881195819103\\n                }\\n            ]\\n        },\\n        \"working_time\": {\\n            \"average\": [\\n                {\\n                    \"machine\": \"Large Capacity Cutting Machine 2\",\\n                    \"month\": \"2024-03\",\\n                    \"value\": 0.0\\n                }\\n            ],\\n            \"min\": [\\n                {', mimetype='text/plain', start_char_idx=8539, end_char_idx=9257, text_template='[Excerpt from document]\\n{metadata_str}\\nExcerpt:\\n-----\\n{content}\\n-----\\n', metadata_template='{key}: {value}', metadata_seperator='\\n'), score=0.6366521767896176), NodeWithScore(node=TextNode(id_='a21d61fc-c6ed-4a03-82c0-7043c39ed7f1', embedding=None, metadata={'filename': 'restructured_monthly_smart_app_data_Large%20Capacity%20Cutting%20Machine%202.json', 'extension': '.json', 'entities': ['Large Capacity Cutting Machine 2']}, excluded_embed_metadata_keys=[], excluded_llm_metadata_keys=[], relationships={<NodeRelationship.SOURCE: '1'>: RelatedNodeInfo(node_id='4ef03cef-2881-402c-acf4-6b0b370fa920', node_type=<ObjectType.DOCUMENT: '4'>, metadata={'filename': 'restructured_monthly_smart_app_data_Large%20Capacity%20Cutting%20Machine%202.json', 'extension': '.json'}, hash='2d5aebb40132de64e0b6cfec2b81370ef8fd257087869f1dd9c157b246bfeea1'), <NodeRelationship.PREVIOUS: '2'>: RelatedNodeInfo(node_id='699727dc-42cd-4356-b6b2-ed95ae6960a9', node_type=<ObjectType.TEXT: '1'>, metadata={'filename': 'restructured_monthly_smart_app_data_Large%20Capacity%20Cutting%20Machine%202.json', 'extension': '.json'}, hash='d80def3d7d6cbf725b9a7752815f723640e70edc92d7b82e7a117251831ae013'), <NodeRelationship.NEXT: '3'>: RelatedNodeInfo(node_id='f8096ab6-ca96-4fe2-a071-528ee636d840', node_type=<ObjectType.TEXT: '1'>, metadata={}, hash='f7fe43246141e17ad799c5f1f7776f8026eaa72d71b6710121fbdab54e3b65da')}, text='\"month\": \"2024-03\",\\n                    \"value\": 0.0\\n                }\\n            ],\\n            \"max\": [\\n                {\\n                    \"machine\": \"Large Capacity Cutting Machine 2\",\\n                    \"month\": \"2024-03\",\\n                    \"value\": 18860.0\\n                }\\n            ]\\n        },\\n        \"good_cycles\": {\\n            \"average\": [\\n                {\\n                    \"machine\": \"Large Capacity Cutting Machine 2\",\\n                    \"month\": \"2024-03\",\\n                    \"value\": 651.0967741935484\\n                }\\n            ],\\n            \"min\": [\\n                {\\n                    \"machine\": \"Large Capacity Cutting Machine 2\",\\n                    \"month\":', mimetype='text/plain', start_char_idx=5920, end_char_idx=6621, text_template='[Excerpt from document]\\n{metadata_str}\\nExcerpt:\\n-----\\n{content}\\n-----\\n', metadata_template='{key}: {value}', metadata_seperator='\\n'), score=0.6363866437484046), NodeWithScore(node=TextNode(id_='789a62c9-4a7a-4495-ac37-3586fe886ea1', embedding=None, metadata={'filename': 'restructured_monthly_smart_app_data_Large%20Capacity%20Cutting%20Machine%202.json', 'extension': '.json'}, excluded_embed_metadata_keys=[], excluded_llm_metadata_keys=[], relationships={<NodeRelationship.SOURCE: '1'>: RelatedNodeInfo(node_id='4ef03cef-2881-402c-acf4-6b0b370fa920', node_type=<ObjectType.DOCUMENT: '4'>, metadata={'filename': 'restructured_monthly_smart_app_data_Large%20Capacity%20Cutting%20Machine%202.json', 'extension': '.json'}, hash='2d5aebb40132de64e0b6cfec2b81370ef8fd257087869f1dd9c157b246bfeea1'), <NodeRelationship.PREVIOUS: '2'>: RelatedNodeInfo(node_id='174c77fe-224f-4966-8460-275a554e1053', node_type=<ObjectType.TEXT: '1'>, metadata={'filename': 'restructured_monthly_smart_app_data_Large%20Capacity%20Cutting%20Machine%202.json', 'extension': '.json'}, hash='d39b485b6eda81078e55c5ca7d5703fd753fc23d02d9a63b14e127cdfdb46a9a'), <NodeRelationship.NEXT: '3'>: RelatedNodeInfo(node_id='0fa0c139-fc98-416d-aec0-aae655711f83', node_type=<ObjectType.TEXT: '1'>, metadata={}, hash='364bd6a9fcfc77eb9b544693db1a69cb6a9e33ca61dc2ed398aeca0ffe74e12b')}, text='\"2024-03\",\\n                    \"value\": 0.03249318468435469\\n                }\\n            ]\\n        },\\n        \"consumption_working\": {\\n            \"average\": [\\n                {\\n                    \"machine\": \"Large Capacity Cutting Machine 2\",\\n                    \"month\": \"2024-03\",\\n                    \"value\": 0.00152712326133702\\n                }\\n            ],\\n            \"min\": [\\n                {\\n                    \"machine\": \"Large Capacity Cutting Machine 2\",\\n                    \"month\": \"2024-03\",\\n                    \"value\": 0.0\\n                }\\n            ],\\n            \"max\": [\\n                {\\n                    \"machine\": \"Large Capacity Cutting Machine 2\",\\n                    \"month\": \"2024-03\",', mimetype='text/plain', start_char_idx=2691, end_char_idx=3416, text_template='[Excerpt from document]\\n{metadata_str}\\nExcerpt:\\n-----\\n{content}\\n-----\\n', metadata_template='{key}: {value}', metadata_seperator='\\n'), score=0.6323345768243475)], metadata={'0fa0c139-fc98-416d-aec0-aae655711f83': {'filename': 'restructured_monthly_smart_app_data_Large%20Capacity%20Cutting%20Machine%202.json', 'extension': '.json', 'entities': ['Large Capacity Cutting Machine 2']}, '51ef1210-f568-43a0-b350-665250fe823c': {'filename': 'restructured_monthly_smart_app_data_Large%20Capacity%20Cutting%20Machine%202.json', 'extension': '.json', 'entities': ['Large Capacity Cutting Machine 2']}, '174c77fe-224f-4966-8460-275a554e1053': {'filename': 'restructured_monthly_smart_app_data_Large%20Capacity%20Cutting%20Machine%202.json', 'extension': '.json', 'entities': ['Large Capacity Cutting Machine 2']}, '699727dc-42cd-4356-b6b2-ed95ae6960a9': {'filename': 'restructured_monthly_smart_app_data_Large%20Capacity%20Cutting%20Machine%202.json', 'extension': '.json', 'entities': ['Large Capacity Cutting Machine 2']}, 'e445b70d-3ab9-46d9-841f-4805cc761249': {'filename': 'restructured_monthly_smart_app_data_Large%20Capacity%20Cutting%20Machine%202.json', 'extension': '.json', 'entities': ['Large Capacity Cutting Machine 2']}, 'cff0a871-61c1-4e4b-915a-755a340d84c4': {'filename': 'restructured_monthly_smart_app_data_Large%20Capacity%20Cutting%20Machine%202.json', 'extension': '.json', 'entities': ['Large Capacity Cutting Machine', 'Large Capacity Cutting Machine 2']}, '31ef3170-7069-438b-a024-281c285f6822': {'filename': 'restructured_monthly_smart_app_data_Large%20Capacity%20Cutting%20Machine%202.json', 'extension': '.json', 'entities': ['Large Capacity Cutting Machine 2']}, '97c32840-c6bd-4560-93a1-6fbf45883a8e': {'filename': 'restructured_monthly_smart_app_data_Large%20Capacity%20Cutting%20Machine%202.json', 'extension': '.json', 'entities': ['Large Capacity Cutting Machine 2']}, 'de1e1d4a-ed22-4379-b304-0698462128e6': {'filename': 'restructured_monthly_smart_app_data_Large%20Capacity%20Cutting%20Machine%202.json', 'extension': '.json', 'entities': ['Large Capacity Cutting Machine 2']}, '0329c672-3bac-4c65-8e56-ae5b3b61977b': {'filename': 'restructured_monthly_smart_app_data_Large%20Capacity%20Cutting%20Machine%202.json', 'extension': '.json', 'entities': ['Large Capacity Cutting Machine 2']}, '58cc9b9e-762d-4695-8582-6597bdb833dc': {'filename': 'restructured_monthly_smart_app_data_Large%20Capacity%20Cutting%20Machine%202.json', 'extension': '.json', 'entities': ['Large Capacity Cutting Machine 2']}, '0ddd1a86-fc39-4a8f-93bc-8e8d1f3f25b3': {'filename': 'restructured_monthly_smart_app_data_Large%20Capacity%20Cutting%20Machine%202.json', 'extension': '.json', 'entities': ['Large Capacity Cutting Machine 2']}, 'a21d61fc-c6ed-4a03-82c0-7043c39ed7f1': {'filename': 'restructured_monthly_smart_app_data_Large%20Capacity%20Cutting%20Machine%202.json', 'extension': '.json', 'entities': ['Large Capacity Cutting Machine 2']}, '789a62c9-4a7a-4495-ac37-3586fe886ea1': {'filename': 'restructured_monthly_smart_app_data_Large%20Capacity%20Cutting%20Machine%202.json', 'extension': '.json'}})"
      ]
     },
     "execution_count": 23,
     "metadata": {},
     "output_type": "execute_result"
    }
   ],
   "source": [
    "response"
   ]
  },
  {
   "cell_type": "markdown",
   "id": "f93cbb6d",
   "metadata": {},
   "source": [
    "### Querying strategy"
   ]
  },
  {
   "cell_type": "code",
   "execution_count": 24,
   "id": "436ccbc1",
   "metadata": {},
   "outputs": [],
   "source": [
    "# if we work with nodes\n",
    "#vector_index = VectorStoreIndex.from_documents(nodes, embed_model=embed_model)"
   ]
  },
  {
   "cell_type": "code",
   "execution_count": 25,
   "id": "3695f0ef",
   "metadata": {},
   "outputs": [],
   "source": [
    "# if we work with documents\n",
    "#vector_index = VectorStoreIndex.from_documents(documents, embed_model=embed_model, show_progress=True)"
   ]
  },
  {
   "cell_type": "markdown",
   "id": "361e8f26-c9d6-42c4-abdf-ee99902f6c72",
   "metadata": {},
   "source": [
    "we use top-k similarity strategy to get the k most similar documents"
   ]
  },
  {
   "cell_type": "code",
   "execution_count": 26,
   "id": "d953c9c7",
   "metadata": {},
   "outputs": [],
   "source": [
    "#query_engine = vector_index.as_query_engine(llm=llm, verbose=True, similarity_top_k=2)\n",
    "#retriever = vector_index.as_retriever(verbose=True)"
   ]
  },
  {
   "cell_type": "markdown",
   "id": "7cc338af",
   "metadata": {},
   "source": [
    "### Evaluation\n",
    "We test the RAG system with some queries regarding the data in the json files"
   ]
  },
  {
   "cell_type": "code",
   "execution_count": 27,
   "id": "824809e8-dccf-48f1-87e6-da046ed04820",
   "metadata": {},
   "outputs": [
    {
     "name": "stdout",
     "output_type": "stream",
     "text": [
      "There is no information provided in the given documents about an entity called \"Assembly Machine\". All entities mentioned are related to specific types of machines such as Cutting Machines (Medium Capacity, Large Capacity), Laser Cutter, Riveting Machine. Therefore, it can be concluded that there is no available data for Assembly Machines based on the provided context.\n"
     ]
    }
   ],
   "source": [
    "result = query_engine.query(\"What was the average  of Assembly Machines?\")\n",
    "print(result)"
   ]
  },
  {
   "cell_type": "code",
   "execution_count": 28,
   "id": "516703f5-8d1e-4c51-bc1b-051734aaac8c",
   "metadata": {},
   "outputs": [
    {
     "name": "stdout",
     "output_type": "stream",
     "text": [
      "There is no specific data provided for the average consumption of machines across all entities in the given excerpt. However, we can look at the machine-specific data to identify any patterns or notable values.\n",
      "\n",
      "From the data, we see that some machines have non-zero average consumption values:\n",
      "- Medium Capacity Cutting Machine 1 has an average consumption of 0.0025908645679010044.\n",
      "- Riveting Machine has an average consumption of 6.593416685402065e-05.\n",
      "- Testing Machine 1 has an average consumption of 1.7630247097690623e-06.\n",
      "\n",
      "It is also worth noting that the units of these values are not explicitly stated in the provided excerpt, and it would be necessary to consult additional data or context for a more accurate interpretation of these values as \"average consumption\".\n"
     ]
    }
   ],
   "source": [
    "result = query_engine.query(\"What was the average consumption of machines?\")\n",
    "print(result)"
   ]
  },
  {
   "cell_type": "code",
   "execution_count": 29,
   "id": "edaaa4d3-bd83-47b1-92ad-275a80ab1016",
   "metadata": {},
   "outputs": [
    {
     "name": "stdout",
     "output_type": "stream",
     "text": [
      "Here is the consumption data for each machine in March 2024:\n",
      "\n",
      "* Riveting Machine:\n",
      "\t+ Average: 6.593416685402065e-05\n",
      "\t+ Min: 0.0\n",
      "\t+ Max: 11780.0\n",
      "* Testing Machine 1:\n",
      "\t+ Average: 9.673769021249745e-07\n",
      "\t+ Min: 0.0\n",
      "\t+ Max: 3.493676502145316e-05\n"
     ]
    }
   ],
   "source": [
    "result = query_engine.query(\"List the conspumption for each machine in March 2024?\")\n",
    "print(result)"
   ]
  },
  {
   "cell_type": "code",
   "execution_count": 30,
   "id": "9d774768-f272-435d-bd40-a4ad2aaf282b",
   "metadata": {},
   "outputs": [
    {
     "name": "stdout",
     "output_type": "stream",
     "text": [
      "Based on the provided data, here is a summarized overview of the Large Capacity Cutting Machine 2:\n",
      "\n",
      "**Performance Metrics:**\n",
      "\n",
      "* Maximum production capacity: 0.03249318468435469 units per month\n",
      "* Average consumption working: 0.00152712326133702 units per month\n",
      "* Maximum consumption idle: 0.07239881195819103 units per month\n",
      "* Minimum consumption idle: 0.0 units per month\n",
      "\n",
      "**Energy Consumption:**\n",
      "\n",
      "* Average energy consumption while working: 0.0 units per month\n",
      "* Maximum energy consumption while working: 0.0 units per month\n",
      "* Average energy consumption during idle time: 0.0006513621264504764 units per month\n",
      "* Minimum energy consumption during idle time: 0.0 units per month\n",
      "\n",
      "**Machine Utilization:**\n",
      "\n",
      "* Average cycles performed: 0.7419354838709677 cycles per month\n",
      "* Maximum cycles performed: 0.0 cycles per month\n",
      "* Minimum cycles performed: 0.0 cycles per month\n",
      "* Total working hours: 18860 hours\n",
      "\n",
      "**Downtime and Idle Time:**\n",
      "\n",
      "* Average offline time: 0.15497427194254568 minutes per month\n",
      "* Maximum offline time: 0.15497427194254568 minutes per month\n",
      "* Minimum offline time: 0.0 minutes per month\n"
     ]
    }
   ],
   "source": [
    "result = query_engine.query(\"General Summarized Overview Large Capacity Cutting Machine 2?\")\n",
    "print(result)"
   ]
  },
  {
   "cell_type": "code",
   "execution_count": 31,
   "id": "7e1b6684-5002-4470-bd84-dd143163b713",
   "metadata": {},
   "outputs": [
    {
     "name": "stdout",
     "output_type": "stream",
     "text": [
      "Riveting Machine.\n"
     ]
    }
   ],
   "source": [
    "result = query_engine.query(\"Which machine has higher idle time\")\n",
    "print(result)"
   ]
  },
  {
   "cell_type": "code",
   "execution_count": 32,
   "id": "9d553ce3-cf5f-48c2-9278-aa6655546964",
   "metadata": {},
   "outputs": [
    {
     "data": {
      "text/plain": [
       "[NodeWithScore(node=TextNode(id_='c82c3913-86c2-441e-87c6-adc36ac3d9fc', embedding=None, metadata={'filename': 'restructured_monthly_smart_app_data_Medium%20Capacity%20Cutting%20Machine%201.json', 'extension': '.json', 'entities': ['Medium Capacity Cutting Machine']}, excluded_embed_metadata_keys=[], excluded_llm_metadata_keys=[], relationships={<NodeRelationship.SOURCE: '1'>: RelatedNodeInfo(node_id='337407bf-d246-49ba-bb05-aa7dfbf87cf5', node_type=<ObjectType.DOCUMENT: '4'>, metadata={'filename': 'restructured_monthly_smart_app_data_Medium%20Capacity%20Cutting%20Machine%201.json', 'extension': '.json'}, hash='11abb855bbc38a9460b39352c0c09ab6dd96746af9938e7f62bd58f1d1e37da4'), <NodeRelationship.PREVIOUS: '2'>: RelatedNodeInfo(node_id='12879108-96df-4777-8d19-0e64ce126c7f', node_type=<ObjectType.TEXT: '1'>, metadata={'filename': 'restructured_monthly_smart_app_data_Medium%20Capacity%20Cutting%20Machine%201.json', 'extension': '.json'}, hash='7090540ddf5bb57e94f1af7405b47561e4374aed48c8cdf2df1b30b59098aaea'), <NodeRelationship.NEXT: '3'>: RelatedNodeInfo(node_id='9e62a165-6a47-4503-8b89-efa6efbd65a0', node_type=<ObjectType.TEXT: '1'>, metadata={}, hash='e9cf5f2a9e713c9e5d15ad2d467d7236245e8e30350d34a3078458298fc6c2fc')}, text='{\\n                    \"machine\": \"Medium Capacity Cutting Machine 1\",\\n                    \"month\": \"2024-03\",\\n                    \"value\": 0.0\\n                }\\n            ]\\n        },\\n        \"cycles\": {\\n            \"average\": [\\n                {\\n                    \"machine\": \"Medium Capacity Cutting Machine 1\",\\n                    \"month\": \"2024-03\",\\n                    \"value\": 0.7741935483870968\\n                }\\n            ],\\n            \"min\": [\\n                {\\n                    \"machine\": \"Medium Capacity Cutting Machine 1\",\\n                    \"month\": \"2024-03\",\\n                    \"value\": 0.0\\n                }\\n            ],\\n            \"max\": [\\n                {', mimetype='text/plain', start_char_idx=5383, end_char_idx=6072, text_template='[Excerpt from document]\\n{metadata_str}\\nExcerpt:\\n-----\\n{content}\\n-----\\n', metadata_template='{key}: {value}', metadata_seperator='\\n'), score=0.5249938845663621),\n",
       " NodeWithScore(node=TextNode(id_='879ca5d3-517b-4a57-9c36-768c72588184', embedding=None, metadata={'filename': 'restructured_monthly_smart_app_data_Medium%20Capacity%20Cutting%20Machine%201.json', 'extension': '.json', 'entities': ['Medium Capacity Cutting Machine']}, excluded_embed_metadata_keys=[], excluded_llm_metadata_keys=[], relationships={<NodeRelationship.SOURCE: '1'>: RelatedNodeInfo(node_id='337407bf-d246-49ba-bb05-aa7dfbf87cf5', node_type=<ObjectType.DOCUMENT: '4'>, metadata={'filename': 'restructured_monthly_smart_app_data_Medium%20Capacity%20Cutting%20Machine%201.json', 'extension': '.json'}, hash='11abb855bbc38a9460b39352c0c09ab6dd96746af9938e7f62bd58f1d1e37da4'), <NodeRelationship.PREVIOUS: '2'>: RelatedNodeInfo(node_id='77b85c82-c5c5-4fb7-87f2-919bd8888340', node_type=<ObjectType.TEXT: '1'>, metadata={'filename': 'restructured_monthly_smart_app_data_Medium%20Capacity%20Cutting%20Machine%201.json', 'extension': '.json'}, hash='ea0fb1bf31a5bbe46014e93cdefd27b1460266386b02e3380b1682e5c7c54af4'), <NodeRelationship.NEXT: '3'>: RelatedNodeInfo(node_id='1f9abdd0-100e-442f-95bc-26d4bab016a3', node_type=<ObjectType.TEXT: '1'>, metadata={}, hash='958332c0412b915766a528de2b822c8726448ad4745878ee5d34a4fc7ac5aebe')}, text='\"machine\": \"Medium Capacity Cutting Machine 1\",\\n                    \"month\": \"2024-03\",\\n                    \"value\": 0.0\\n                }\\n            ]\\n        },\\n        \"bad_cycles\": {\\n            \"average\": [\\n                {\\n                    \"machine\": \"Medium Capacity Cutting Machine 1\",\\n                    \"month\": \"2024-03\",\\n                    \"value\": 0.0\\n                }\\n            ],\\n            \"min\": [\\n                {\\n                    \"machine\": \"Medium Capacity Cutting Machine 1\",\\n                    \"month\": \"2024-03\",\\n                    \"value\": 0.0\\n                }\\n            ],\\n            \"max\": [\\n                {\\n                    \"machine\": \"Medium Capacity Cutting Machine 1\",', mimetype='text/plain', start_char_idx=536, end_char_idx=1260, text_template='[Excerpt from document]\\n{metadata_str}\\nExcerpt:\\n-----\\n{content}\\n-----\\n', metadata_template='{key}: {value}', metadata_seperator='\\n'), score=0.5232411255714007),\n",
       " NodeWithScore(node=TextNode(id_='12879108-96df-4777-8d19-0e64ce126c7f', embedding=None, metadata={'filename': 'restructured_monthly_smart_app_data_Medium%20Capacity%20Cutting%20Machine%201.json', 'extension': '.json'}, excluded_embed_metadata_keys=[], excluded_llm_metadata_keys=[], relationships={<NodeRelationship.SOURCE: '1'>: RelatedNodeInfo(node_id='337407bf-d246-49ba-bb05-aa7dfbf87cf5', node_type=<ObjectType.DOCUMENT: '4'>, metadata={'filename': 'restructured_monthly_smart_app_data_Medium%20Capacity%20Cutting%20Machine%201.json', 'extension': '.json'}, hash='11abb855bbc38a9460b39352c0c09ab6dd96746af9938e7f62bd58f1d1e37da4'), <NodeRelationship.PREVIOUS: '2'>: RelatedNodeInfo(node_id='0258b000-2433-42e4-9d91-ca93762ef233', node_type=<ObjectType.TEXT: '1'>, metadata={'filename': 'restructured_monthly_smart_app_data_Medium%20Capacity%20Cutting%20Machine%201.json', 'extension': '.json'}, hash='8acbbd42c62d414f16889d98b162142dbd11a0e09f0caebd69b474469e4841e0'), <NodeRelationship.NEXT: '3'>: RelatedNodeInfo(node_id='c82c3913-86c2-441e-87c6-adc36ac3d9fc', node_type=<ObjectType.TEXT: '1'>, metadata={}, hash='7b8f400574eccf37f014e15c93c3b66b81606cddb0b17f46dde7473a3fce2d6c')}, text='}\\n            ]\\n        },\\n        \"cost_working\": {\\n            \"average\": [\\n                {\\n                    \"machine\": \"Medium Capacity Cutting Machine 1\",\\n                    \"month\": \"2024-03\",\\n                    \"value\": 0.0\\n                }\\n            ],\\n            \"min\": [\\n                {\\n                    \"machine\": \"Medium Capacity Cutting Machine 1\",\\n                    \"month\": \"2024-03\",\\n                    \"value\": 0.0\\n                }\\n            ],\\n            \"max\": [\\n                {\\n                    \"machine\": \"Medium Capacity Cutting Machine 1\",\\n                    \"month\": \"2024-03\",\\n                    \"value\": 0.0\\n                }\\n            ]', mimetype='text/plain', start_char_idx=4863, end_char_idx=5557, text_template='[Excerpt from document]\\n{metadata_str}\\nExcerpt:\\n-----\\n{content}\\n-----\\n', metadata_template='{key}: {value}', metadata_seperator='\\n'), score=0.5201936805191059),\n",
       " NodeWithScore(node=TextNode(id_='293878cd-9ce5-40ad-a98f-d89d7aff907d', embedding=None, metadata={'filename': 'restructured_monthly_smart_app_data_Medium%20Capacity%20Cutting%20Machine%201.json', 'extension': '.json'}, excluded_embed_metadata_keys=[], excluded_llm_metadata_keys=[], relationships={<NodeRelationship.SOURCE: '1'>: RelatedNodeInfo(node_id='337407bf-d246-49ba-bb05-aa7dfbf87cf5', node_type=<ObjectType.DOCUMENT: '4'>, metadata={'filename': 'restructured_monthly_smart_app_data_Medium%20Capacity%20Cutting%20Machine%201.json', 'extension': '.json'}, hash='11abb855bbc38a9460b39352c0c09ab6dd96746af9938e7f62bd58f1d1e37da4'), <NodeRelationship.PREVIOUS: '2'>: RelatedNodeInfo(node_id='f78785f9-72f3-491b-97ca-d1cb00370d3f', node_type=<ObjectType.TEXT: '1'>, metadata={'filename': 'restructured_monthly_smart_app_data_Medium%20Capacity%20Cutting%20Machine%201.json', 'extension': '.json'}, hash='ef12b3951069fa2dc894c61825e2b21e58e72f652b88e8ad06d280503b820db7'), <NodeRelationship.NEXT: '3'>: RelatedNodeInfo(node_id='9c660470-d17a-420c-a4cd-8fbfa6b5162e', node_type=<ObjectType.TEXT: '1'>, metadata={}, hash='b3cd9ad5b48ea2b5693481543dc020c79fccab747e5eda073e8a999c5bbd849e')}, text='}\\n            ],\\n            \"max\": [\\n                {\\n                    \"machine\": \"Medium Capacity Cutting Machine 1\",\\n                    \"month\": \"2024-03\",\\n                    \"value\": 0.024018969243286975\\n                }\\n            ]\\n        },\\n        \"cost\": {\\n            \"average\": [\\n                {\\n                    \"machine\": \"Medium Capacity Cutting Machine 1\",\\n                    \"month\": \"2024-03\",\\n                    \"value\": 0.002026220934115488\\n                }\\n            ],\\n            \"min\": [\\n                {\\n                    \"machine\": \"Medium Capacity Cutting Machine 1\",\\n                    \"month\": \"2024-03\",\\n                    \"value\": 0.0\\n                }', mimetype='text/plain', start_char_idx=3269, end_char_idx=3975, text_template='[Excerpt from document]\\n{metadata_str}\\nExcerpt:\\n-----\\n{content}\\n-----\\n', metadata_template='{key}: {value}', metadata_seperator='\\n'), score=0.5146216049516789),\n",
       " NodeWithScore(node=TextNode(id_='77b85c82-c5c5-4fb7-87f2-919bd8888340', embedding=None, metadata={'filename': 'restructured_monthly_smart_app_data_Medium%20Capacity%20Cutting%20Machine%201.json', 'extension': '.json', 'entities': ['Medium Capacity Cutting Machine']}, excluded_embed_metadata_keys=[], excluded_llm_metadata_keys=[], relationships={<NodeRelationship.SOURCE: '1'>: RelatedNodeInfo(node_id='337407bf-d246-49ba-bb05-aa7dfbf87cf5', node_type=<ObjectType.DOCUMENT: '4'>, metadata={'filename': 'restructured_monthly_smart_app_data_Medium%20Capacity%20Cutting%20Machine%201.json', 'extension': '.json'}, hash='11abb855bbc38a9460b39352c0c09ab6dd96746af9938e7f62bd58f1d1e37da4'), <NodeRelationship.NEXT: '3'>: RelatedNodeInfo(node_id='879ca5d3-517b-4a57-9c36-768c72588184', node_type=<ObjectType.TEXT: '1'>, metadata={}, hash='c0b07ff78f7cb6bf0546032077b7bcce42f45907693c31adb3ea8fc9ce11b39a')}, text='{\\n    \"kpi\": {\\n        \"average_cycle_time\": {\\n            \"average\": [\\n                {\\n                    \"machine\": \"Medium Capacity Cutting Machine 1\",\\n                    \"month\": \"2024-03\",\\n                    \"value\": 0.0\\n                }\\n            ],\\n            \"min\": [\\n                {\\n                    \"machine\": \"Medium Capacity Cutting Machine 1\",\\n                    \"month\": \"2024-03\",\\n                    \"value\": 0.0\\n                }\\n            ],\\n            \"max\": [\\n                {\\n                    \"machine\": \"Medium Capacity Cutting Machine 1\",\\n                    \"month\": \"2024-03\",\\n                    \"value\": 0.0\\n                }\\n            ]\\n        },\\n        \"bad_cycles\": {', mimetype='text/plain', start_char_idx=0, end_char_idx=723, text_template='[Excerpt from document]\\n{metadata_str}\\nExcerpt:\\n-----\\n{content}\\n-----\\n', metadata_template='{key}: {value}', metadata_seperator='\\n'), score=0.5130546245889912),\n",
       " NodeWithScore(node=TextNode(id_='8b494d2b-cf9d-484e-bc2a-656fc5d9b74f', embedding=None, metadata={'filename': 'restructured_monthly_smart_app_data_Medium%20Capacity%20Cutting%20Machine%201.json', 'extension': '.json'}, excluded_embed_metadata_keys=[], excluded_llm_metadata_keys=[], relationships={<NodeRelationship.SOURCE: '1'>: RelatedNodeInfo(node_id='337407bf-d246-49ba-bb05-aa7dfbf87cf5', node_type=<ObjectType.DOCUMENT: '4'>, metadata={'filename': 'restructured_monthly_smart_app_data_Medium%20Capacity%20Cutting%20Machine%201.json', 'extension': '.json'}, hash='11abb855bbc38a9460b39352c0c09ab6dd96746af9938e7f62bd58f1d1e37da4'), <NodeRelationship.PREVIOUS: '2'>: RelatedNodeInfo(node_id='f09ff58e-ced2-4efb-914c-5b7c3a56ed0d', node_type=<ObjectType.TEXT: '1'>, metadata={'filename': 'restructured_monthly_smart_app_data_Medium%20Capacity%20Cutting%20Machine%201.json', 'extension': '.json'}, hash='71eae9229c6fdf3c871e62d1ea85a0ee071df9292cd61416c021990af9d945c8'), <NodeRelationship.NEXT: '3'>: RelatedNodeInfo(node_id='69957942-2c4e-497c-af22-d61906ef05b2', node_type=<ObjectType.TEXT: '1'>, metadata={}, hash='c30d3592d0dad5b8bffdadeab6ae5ecb2c9506b2473a32d0960af21a4ef9e345')}, text='0.0\\n                }\\n            ],\\n            \"max\": [\\n                {\\n                    \"machine\": \"Medium Capacity Cutting Machine 1\",\\n                    \"month\": \"2024-03\",\\n                    \"value\": 0.0\\n                }\\n            ]\\n        },\\n        \"power\": {\\n            \"average\": [\\n                {\\n                    \"machine\": \"Medium Capacity Cutting Machine 1\",\\n                    \"month\": \"2024-03\",\\n                    \"value\": 0.006006119308061655\\n                }\\n            ],\\n            \"min\": [\\n                {\\n                    \"machine\": \"Medium Capacity Cutting Machine 1\",\\n                    \"month\": \"2024-03\",\\n                    \"value\": 0.0\\n                }', mimetype='text/plain', start_char_idx=8053, end_char_idx=8763, text_template='[Excerpt from document]\\n{metadata_str}\\nExcerpt:\\n-----\\n{content}\\n-----\\n', metadata_template='{key}: {value}', metadata_seperator='\\n'), score=0.5113953588868252),\n",
       " NodeWithScore(node=TextNode(id_='452f6cf7-1d44-4118-a990-00a80350a4cc', embedding=None, metadata={'filename': 'restructured_monthly_smart_app_data_Medium%20Capacity%20Cutting%20Machine%201.json', 'extension': '.json', 'entities': ['Medium Capacity Cutting Machine']}, excluded_embed_metadata_keys=[], excluded_llm_metadata_keys=[], relationships={<NodeRelationship.SOURCE: '1'>: RelatedNodeInfo(node_id='337407bf-d246-49ba-bb05-aa7dfbf87cf5', node_type=<ObjectType.DOCUMENT: '4'>, metadata={'filename': 'restructured_monthly_smart_app_data_Medium%20Capacity%20Cutting%20Machine%201.json', 'extension': '.json'}, hash='11abb855bbc38a9460b39352c0c09ab6dd96746af9938e7f62bd58f1d1e37da4'), <NodeRelationship.PREVIOUS: '2'>: RelatedNodeInfo(node_id='2279b86e-94d7-4e61-8c93-a228cf863c35', node_type=<ObjectType.TEXT: '1'>, metadata={'filename': 'restructured_monthly_smart_app_data_Medium%20Capacity%20Cutting%20Machine%201.json', 'extension': '.json'}, hash='e801e69bc6ffcfed39d1a3c9e73ae1d1641ca3c0042fe94d6fa68bce22f9700a'), <NodeRelationship.NEXT: '3'>: RelatedNodeInfo(node_id='f09ff58e-ced2-4efb-914c-5b7c3a56ed0d', node_type=<ObjectType.TEXT: '1'>, metadata={}, hash='d1695b379c5d1cdb78dce19d41598b985fec5a6ba1ded6830322472a8b2be606')}, text='{\\n            \"average\": [\\n                {\\n                    \"machine\": \"Medium Capacity Cutting Machine 1\",\\n                    \"month\": \"2024-03\",\\n                    \"value\": 0.0\\n                }\\n            ],\\n            \"min\": [\\n                {\\n                    \"machine\": \"Medium Capacity Cutting Machine 1\",\\n                    \"month\": \"2024-03\",\\n                    \"value\": 0.0\\n                }\\n            ],\\n            \"max\": [\\n                {\\n                    \"machine\": \"Medium Capacity Cutting Machine 1\",\\n                    \"month\": \"2024-03\",\\n                    \"value\": 0.0\\n                }\\n            ]\\n        },\\n        \"offline_time\": {\\n            \"average\": [', mimetype='text/plain', start_char_idx=6979, end_char_idx=7684, text_template='[Excerpt from document]\\n{metadata_str}\\nExcerpt:\\n-----\\n{content}\\n-----\\n', metadata_template='{key}: {value}', metadata_seperator='\\n'), score=0.5113479759252225),\n",
       " NodeWithScore(node=TextNode(id_='9c660470-d17a-420c-a4cd-8fbfa6b5162e', embedding=None, metadata={'filename': 'restructured_monthly_smart_app_data_Medium%20Capacity%20Cutting%20Machine%201.json', 'extension': '.json'}, excluded_embed_metadata_keys=[], excluded_llm_metadata_keys=[], relationships={<NodeRelationship.SOURCE: '1'>: RelatedNodeInfo(node_id='337407bf-d246-49ba-bb05-aa7dfbf87cf5', node_type=<ObjectType.DOCUMENT: '4'>, metadata={'filename': 'restructured_monthly_smart_app_data_Medium%20Capacity%20Cutting%20Machine%201.json', 'extension': '.json'}, hash='11abb855bbc38a9460b39352c0c09ab6dd96746af9938e7f62bd58f1d1e37da4'), <NodeRelationship.PREVIOUS: '2'>: RelatedNodeInfo(node_id='293878cd-9ce5-40ad-a98f-d89d7aff907d', node_type=<ObjectType.TEXT: '1'>, metadata={'filename': 'restructured_monthly_smart_app_data_Medium%20Capacity%20Cutting%20Machine%201.json', 'extension': '.json'}, hash='c0ed3c55ad2f4cd6900bd489586e486b7132c945edb0c30dc90f9ce3c147c82f'), <NodeRelationship.NEXT: '3'>: RelatedNodeInfo(node_id='0258b000-2433-42e4-9d91-ca93762ef233', node_type=<ObjectType.TEXT: '1'>, metadata={}, hash='eb0b2f87bab818d0d22ef4056a952f950c74e79fa213b645c5f944505e4b5636')}, text='\"min\": [\\n                {\\n                    \"machine\": \"Medium Capacity Cutting Machine 1\",\\n                    \"month\": \"2024-03\",\\n                    \"value\": 0.0\\n                }\\n            ],\\n            \"max\": [\\n                {\\n                    \"machine\": \"Medium Capacity Cutting Machine 1\",\\n                    \"month\": \"2024-03\",\\n                    \"value\": 0.0\\n                }\\n            ]\\n        },\\n        \"cost_idle\": {\\n            \"average\": [\\n                {\\n                    \"machine\": \"Medium Capacity Cutting Machine 1\",\\n                    \"month\": \"2024-03\",\\n                    \"value\": 0.0\\n                }\\n            ],\\n            \"min\": [\\n                {', mimetype='text/plain', start_char_idx=3790, end_char_idx=4492, text_template='[Excerpt from document]\\n{metadata_str}\\nExcerpt:\\n-----\\n{content}\\n-----\\n', metadata_template='{key}: {value}', metadata_seperator='\\n'), score=0.5104142275329674),\n",
       " NodeWithScore(node=TextNode(id_='0258b000-2433-42e4-9d91-ca93762ef233', embedding=None, metadata={'filename': 'restructured_monthly_smart_app_data_Medium%20Capacity%20Cutting%20Machine%201.json', 'extension': '.json'}, excluded_embed_metadata_keys=[], excluded_llm_metadata_keys=[], relationships={<NodeRelationship.SOURCE: '1'>: RelatedNodeInfo(node_id='337407bf-d246-49ba-bb05-aa7dfbf87cf5', node_type=<ObjectType.DOCUMENT: '4'>, metadata={'filename': 'restructured_monthly_smart_app_data_Medium%20Capacity%20Cutting%20Machine%201.json', 'extension': '.json'}, hash='11abb855bbc38a9460b39352c0c09ab6dd96746af9938e7f62bd58f1d1e37da4'), <NodeRelationship.PREVIOUS: '2'>: RelatedNodeInfo(node_id='9c660470-d17a-420c-a4cd-8fbfa6b5162e', node_type=<ObjectType.TEXT: '1'>, metadata={'filename': 'restructured_monthly_smart_app_data_Medium%20Capacity%20Cutting%20Machine%201.json', 'extension': '.json'}, hash='ed94eb65cb457fe1d957bde6badfdc6535fab0eeffe7970954cfec9be9901f66'), <NodeRelationship.NEXT: '3'>: RelatedNodeInfo(node_id='12879108-96df-4777-8d19-0e64ce126c7f', node_type=<ObjectType.TEXT: '1'>, metadata={}, hash='420976245bf15bed33c530f6f099a9414991270de7a22f0ba0a52a49f99b44f6')}, text='Capacity Cutting Machine 1\",\\n                    \"month\": \"2024-03\",\\n                    \"value\": 0.0\\n                }\\n            ],\\n            \"min\": [\\n                {\\n                    \"machine\": \"Medium Capacity Cutting Machine 1\",\\n                    \"month\": \"2024-03\",\\n                    \"value\": 0.0\\n                }\\n            ],\\n            \"max\": [\\n                {\\n                    \"machine\": \"Medium Capacity Cutting Machine 1\",\\n                    \"month\": \"2024-03\",\\n                    \"value\": 0.0\\n                }\\n            ]\\n        },\\n        \"cost_working\": {\\n            \"average\": [\\n                {\\n                    \"machine\": \"Medium Capacity Cutting Machine 1\",\\n                    \"month\":', mimetype='text/plain', start_char_idx=4319, end_char_idx=5055, text_template='[Excerpt from document]\\n{metadata_str}\\nExcerpt:\\n-----\\n{content}\\n-----\\n', metadata_template='{key}: {value}', metadata_seperator='\\n'), score=0.5075228480899381),\n",
       " NodeWithScore(node=TextNode(id_='652081bb-cb33-45d4-a828-99901c6fb0b0', embedding=None, metadata={'filename': 'restructured_monthly_smart_app_data_Testing%20Machine%201_2024_03.json', 'extension': '.json'}, excluded_embed_metadata_keys=[], excluded_llm_metadata_keys=[], relationships={<NodeRelationship.SOURCE: '1'>: RelatedNodeInfo(node_id='ba1fe85e-aa4d-4acc-abe8-84802b8a688b', node_type=<ObjectType.DOCUMENT: '4'>, metadata={'filename': 'restructured_monthly_smart_app_data_Testing%20Machine%201_2024_03.json', 'extension': '.json'}, hash='610ce1c9cbe6bcaee4fabc6564599d6a68816c711070c6fede7b67051e3949b0'), <NodeRelationship.PREVIOUS: '2'>: RelatedNodeInfo(node_id='718b3a06-50f4-4dea-b4e8-34e9c8560e2f', node_type=<ObjectType.TEXT: '1'>, metadata={'filename': 'restructured_monthly_smart_app_data_Testing%20Machine%201_2024_03.json', 'extension': '.json'}, hash='ecc583128d60738b893317631c9212804559a270efe7e8342a9527a614ef0f84'), <NodeRelationship.NEXT: '3'>: RelatedNodeInfo(node_id='a3ad45f3-7857-4e47-b832-2e7ed980f1f4', node_type=<ObjectType.TEXT: '1'>, metadata={}, hash='fcd85bec4edbd115c304bee3b07f6f342faf79663bfaa92275cb15a01791c63e')}, text='{\\n            \"average\": [\\n                {\\n                    \"machine\": \"Testing Machine 1\",\\n                    \"month\": \"2024-03\",\\n                    \"value\": 0.0\\n                }\\n            ],\\n            \"min\": [\\n                {\\n                    \"machine\": \"Testing Machine 1\",\\n                    \"month\": \"2024-03\",\\n                    \"value\": 0.0\\n                }\\n            ],\\n            \"max\": [\\n                {\\n                    \"machine\": \"Testing Machine 1\",\\n                    \"month\": \"2024-03\",\\n                    \"value\": 0.0\\n                }\\n            ]\\n        },\\n        \"cycles\": {\\n            \"average\": [\\n                {', mimetype='text/plain', start_char_idx=4589, end_char_idx=5258, text_template='[Excerpt from document]\\n{metadata_str}\\nExcerpt:\\n-----\\n{content}\\n-----\\n', metadata_template='{key}: {value}', metadata_seperator='\\n'), score=0.5073993935646074),\n",
       " NodeWithScore(node=TextNode(id_='ec171f89-665c-4816-a79b-747dfdd8f0f6', embedding=None, metadata={'filename': 'restructured_monthly_smart_app_data_Medium%20Capacity%20Cutting%20Machine%201.json', 'extension': '.json', 'entities': ['Medium Capacity Cutting Machine']}, excluded_embed_metadata_keys=[], excluded_llm_metadata_keys=[], relationships={<NodeRelationship.SOURCE: '1'>: RelatedNodeInfo(node_id='337407bf-d246-49ba-bb05-aa7dfbf87cf5', node_type=<ObjectType.DOCUMENT: '4'>, metadata={'filename': 'restructured_monthly_smart_app_data_Medium%20Capacity%20Cutting%20Machine%201.json', 'extension': '.json'}, hash='11abb855bbc38a9460b39352c0c09ab6dd96746af9938e7f62bd58f1d1e37da4'), <NodeRelationship.PREVIOUS: '2'>: RelatedNodeInfo(node_id='a595b82e-871c-44d9-bf4c-df4391845e40', node_type=<ObjectType.TEXT: '1'>, metadata={'filename': 'restructured_monthly_smart_app_data_Medium%20Capacity%20Cutting%20Machine%201.json', 'extension': '.json'}, hash='b87dc00487fc5d7a37098346eea0caf1d9374384d1a03e47263da77334660add'), <NodeRelationship.NEXT: '3'>: RelatedNodeInfo(node_id='f78785f9-72f3-491b-97ca-d1cb00370d3f', node_type=<ObjectType.TEXT: '1'>, metadata={}, hash='aeb4fc02a9d2cbea54b44a28f72f0e3a89db3e98849d6b6c9dcfbf09ca81b12b')}, text='{\\n                    \"machine\": \"Medium Capacity Cutting Machine 1\",\\n                    \"month\": \"2024-03\",\\n                    \"value\": 0.0012660284954159283\\n                }\\n            ],\\n            \"min\": [\\n                {\\n                    \"machine\": \"Medium Capacity Cutting Machine 1\",\\n                    \"month\": \"2024-03\",\\n                    \"value\": 0.0\\n                }\\n            ],\\n            \"max\": [\\n                {\\n                    \"machine\": \"Medium Capacity Cutting Machine 1\",\\n                    \"month\": \"2024-03\",\\n                    \"value\": 0.01432597014259446\\n                }\\n            ]\\n        },\\n        \"consumption_working\": {\\n            \"average\": [\\n                {', mimetype='text/plain', start_char_idx=2160, end_char_idx=2881, text_template='[Excerpt from document]\\n{metadata_str}\\nExcerpt:\\n-----\\n{content}\\n-----\\n', metadata_template='{key}: {value}', metadata_seperator='\\n'), score=0.5065201973784959),\n",
       " NodeWithScore(node=TextNode(id_='d659208f-d6f6-4891-bea5-c7deb018d6c3', embedding=None, metadata={'filename': 'restructured_monthly_smart_app_data_Laser%20Cutter_2024-03.json', 'extension': '.json', 'entities': ['Laser Cutter']}, excluded_embed_metadata_keys=[], excluded_llm_metadata_keys=[], relationships={<NodeRelationship.SOURCE: '1'>: RelatedNodeInfo(node_id='4ee57300-a4b1-49fe-8a6a-67e3d69e57db', node_type=<ObjectType.DOCUMENT: '4'>, metadata={'filename': 'restructured_monthly_smart_app_data_Laser%20Cutter_2024-03.json', 'extension': '.json'}, hash='2fe6240028626bc0c20d43a4d7a8b44dac965cb562bb75c22c3c20c235a67d96'), <NodeRelationship.PREVIOUS: '2'>: RelatedNodeInfo(node_id='61a0799f-adea-43f8-a7a1-335afaef28de', node_type=<ObjectType.TEXT: '1'>, metadata={'filename': 'restructured_monthly_smart_app_data_Laser%20Cutter_2024-03.json', 'extension': '.json'}, hash='2e6d39bf827257cda473783aee479ca8a16e489c730954dbdb33a708e76bc91f'), <NodeRelationship.NEXT: '3'>: RelatedNodeInfo(node_id='01b64c3a-7fcd-4af5-a0d9-8cb0d0f8fa35', node_type=<ObjectType.TEXT: '1'>, metadata={}, hash='ed2b1b51e803d1253a901126fc22b00719bd381c786f50bc433152cc3e6b39b3')}, text=']\\n        },\\n        \"cycles\": {\\n            \"average\": [\\n                {\\n                    \"machine\": \"Laser Cutter\",\\n                    \"month\": \"2024-03\",\\n                    \"value\": 0.7419354838709677\\n                }\\n            ],\\n            \"min\": [\\n                {\\n                    \"machine\": \"Laser Cutter\",\\n                    \"month\": \"2024-03\",\\n                    \"value\": 0.0\\n                }\\n            ],\\n            \"max\": [\\n                {\\n                    \"machine\": \"Laser Cutter\",\\n                    \"month\": \"2024-03\",\\n                    \"value\": 4168.0\\n                }\\n            ]\\n        },\\n        \"good_cycles\": {\\n            \"average\": [', mimetype='text/plain', start_char_idx=4949, end_char_idx=5639, text_template='[Excerpt from document]\\n{metadata_str}\\nExcerpt:\\n-----\\n{content}\\n-----\\n', metadata_template='{key}: {value}', metadata_seperator='\\n'), score=0.5051914597876934),\n",
       " NodeWithScore(node=TextNode(id_='957f1720-7158-4bf7-ac10-a83b62f1a0b0', embedding=None, metadata={'filename': 'restructured_monthly_smart_app_data_Laser%20Cutter_2024-03.json', 'extension': '.json', 'entities': ['Laser Cutter']}, excluded_embed_metadata_keys=[], excluded_llm_metadata_keys=[], relationships={<NodeRelationship.SOURCE: '1'>: RelatedNodeInfo(node_id='4ee57300-a4b1-49fe-8a6a-67e3d69e57db', node_type=<ObjectType.DOCUMENT: '4'>, metadata={'filename': 'restructured_monthly_smart_app_data_Laser%20Cutter_2024-03.json', 'extension': '.json'}, hash='2fe6240028626bc0c20d43a4d7a8b44dac965cb562bb75c22c3c20c235a67d96'), <NodeRelationship.PREVIOUS: '2'>: RelatedNodeInfo(node_id='f3741a4a-9ad2-480d-8a2e-13020fd2eaf0', node_type=<ObjectType.TEXT: '1'>, metadata={'filename': 'restructured_monthly_smart_app_data_Laser%20Cutter_2024-03.json', 'extension': '.json'}, hash='887f892c32ce88aced24a52315cbf3aae6c870e25c5161767bcd6eb1090e6019'), <NodeRelationship.NEXT: '3'>: RelatedNodeInfo(node_id='b9078ecf-3765-4c21-b21c-f9bf44a004cc', node_type=<ObjectType.TEXT: '1'>, metadata={}, hash='9712779ff0190ace1c4d62ad252600681ea05e3f8073cd5fc2342492be4ab7c1')}, text=']\\n        },\\n        \"power\": {\\n            \"average\": [\\n                {\\n                    \"machine\": \"Laser Cutter\",\\n                    \"month\": \"2024-03\",\\n                    \"value\": 9.65957169325545e-05\\n                }\\n            ],\\n            \"min\": [\\n                {\\n                    \"machine\": \"Laser Cutter\",\\n                    \"month\": \"2024-03\",\\n                    \"value\": 0.0\\n                }\\n            ],\\n            \"max\": [\\n                {\\n                    \"machine\": \"Laser Cutter\",\\n                    \"month\": \"2024-03\",\\n                    \"value\": 0.00029897155398709083\\n                }\\n            ]\\n        },\\n        \"working_time\": {', mimetype='text/plain', start_char_idx=7439, end_char_idx=8122, text_template='[Excerpt from document]\\n{metadata_str}\\nExcerpt:\\n-----\\n{content}\\n-----\\n', metadata_template='{key}: {value}', metadata_seperator='\\n'), score=0.5051097713247553),\n",
       " NodeWithScore(node=TextNode(id_='01b64c3a-7fcd-4af5-a0d9-8cb0d0f8fa35', embedding=None, metadata={'filename': 'restructured_monthly_smart_app_data_Laser%20Cutter_2024-03.json', 'extension': '.json', 'entities': ['Laser Cutter']}, excluded_embed_metadata_keys=[], excluded_llm_metadata_keys=[], relationships={<NodeRelationship.SOURCE: '1'>: RelatedNodeInfo(node_id='4ee57300-a4b1-49fe-8a6a-67e3d69e57db', node_type=<ObjectType.DOCUMENT: '4'>, metadata={'filename': 'restructured_monthly_smart_app_data_Laser%20Cutter_2024-03.json', 'extension': '.json'}, hash='2fe6240028626bc0c20d43a4d7a8b44dac965cb562bb75c22c3c20c235a67d96'), <NodeRelationship.PREVIOUS: '2'>: RelatedNodeInfo(node_id='d659208f-d6f6-4891-bea5-c7deb018d6c3', node_type=<ObjectType.TEXT: '1'>, metadata={'filename': 'restructured_monthly_smart_app_data_Laser%20Cutter_2024-03.json', 'extension': '.json'}, hash='f08cc471facd9d5568645c43af834b086bcb509bd579cf160ba741689d8d4079'), <NodeRelationship.NEXT: '3'>: RelatedNodeInfo(node_id='c2042538-fba5-433c-9d38-3ff88b0f7aee', node_type=<ObjectType.TEXT: '1'>, metadata={}, hash='839755dfbe2df247705d9d3da2ae716708c7465dd26c83f2b7dd6a462d0a89bd')}, text='\"machine\": \"Laser Cutter\",\\n                    \"month\": \"2024-03\",\\n                    \"value\": 4168.0\\n                }\\n            ]\\n        },\\n        \"good_cycles\": {\\n            \"average\": [\\n                {\\n                    \"machine\": \"Laser Cutter\",\\n                    \"month\": \"2024-03\",\\n                    \"value\": 269.06451612903226\\n                }\\n            ],\\n            \"min\": [\\n                {\\n                    \"machine\": \"Laser Cutter\",\\n                    \"month\": \"2024-03\",\\n                    \"value\": 0.0\\n                }\\n            ],\\n            \"max\": [\\n                {\\n                    \"machine\": \"Laser Cutter\",\\n                    \"month\":', mimetype='text/plain', start_char_idx=5444, end_char_idx=6132, text_template='[Excerpt from document]\\n{metadata_str}\\nExcerpt:\\n-----\\n{content}\\n-----\\n', metadata_template='{key}: {value}', metadata_seperator='\\n'), score=0.5036876771299907)]"
      ]
     },
     "execution_count": 32,
     "metadata": {},
     "output_type": "execute_result"
    }
   ],
   "source": [
    "retriever.retrieve(\"General Summarized Overview Assembly Machine 1?\")\n"
   ]
  },
  {
   "cell_type": "code",
   "execution_count": 33,
   "id": "812da437-0f18-45cd-89c0-76dcfd86d7a0",
   "metadata": {},
   "outputs": [
    {
     "name": "stdout",
     "output_type": "stream",
     "text": [
      "Based on the provided data, it appears that both machines have similar performance metrics for most parameters. However, some key differences can be observed:\n",
      "\n",
      "*   For \"consumption_working\", Medium Capacity Machine 1 has a higher average value (0.005278610700021035) compared to Machine 2 (0.003713141006560274).\n",
      "*   For \"bad_cycles\", both machines have similar performance metrics with an average value of 0.\n",
      "*   For other parameters like \"cost_working\" and \"power\", the values for Medium Capacity Machine 1 are also higher than those of Medium Capacity Machine 2 in some cases, but not consistently.\n",
      "\n",
      "Given these observations, it's difficult to declare a clear winner without more comprehensive data. However, if we consider the \"consumption_working\" parameter as an indicator of productivity and effectiveness, Medium Capacity Machine 1 seems to be slightly more productive compared to Medium Capacity Machine 2.\n"
     ]
    }
   ],
   "source": [
    "result = query_engine.query(\"Which one was more effective and productive: Medium Capacity machine 1 vs Medium Capacity machine 2?\")\n",
    "print(result)"
   ]
  },
  {
   "cell_type": "markdown",
   "id": "fca4cb0f",
   "metadata": {},
   "source": [
    "### JSON Outputs\n",
    "The idea is to define 2 prompts, one for each type of query: `report generation` and `KPI suggestion`."
   ]
  },
  {
   "cell_type": "markdown",
   "id": "4c13db7a",
   "metadata": {},
   "source": [
    "#### Prompt Definition"
   ]
  },
  {
   "cell_type": "code",
   "execution_count": 47,
   "id": "73ee4207-6028-4bb6-b4d0-955408ca022e",
   "metadata": {},
   "outputs": [],
   "source": [
    "# 1. Prompt for Generating New KPIs:\n",
    "kpi_json_prompt = \"\"\"\n",
    "You are a specialized assistant that only outputs answers in JSON format. \n",
    "\n",
    "Analyze the documents and provide new KPI suggestions. Use the JSON format below:\n",
    "{\n",
    "  \"KPIs\": [\n",
    "    {\n",
    "      \"name\": \"<KPI Name>\",\n",
    "      \"description\": \"<Brief description of the new KPI>\",\n",
    "      \"formula\": \"<Mathematical formula to calculate the new KPI using already available KPIs>\"\n",
    "    },\n",
    "    ...\n",
    "  ]\n",
    "}\n",
    "\n",
    "Consider that the available KPIs are:\n",
    "- average_cycle_time\n",
    "- bad_cycles\n",
    "- consumption\n",
    "- consumption_idle\n",
    "- consumption_working\n",
    "- cost\n",
    "- cost_idle\n",
    "- cost_working\n",
    "- cycles\n",
    "- good_cycles\n",
    "- idle_time\n",
    "- offline_time\n",
    "- power\n",
    "- working_time\n",
    "\"\"\""
   ]
  },
  {
   "cell_type": "code",
   "execution_count": 35,
   "id": "ee02619d",
   "metadata": {},
   "outputs": [],
   "source": [
    "# 2. Prompt for Generating Machine Reports:\n",
    "report_json_prompt = \"\"\"\n",
    "You are a specialized assistant that only outputs answers in JSON format.\n",
    "\n",
    "Based on the monthly aggregated KPI data provided, generate a detailed report for the specified machine and month. Use the JSON format below:\n",
    "{\n",
    "    \"MachineBehaviorReport\": {\n",
    "        \"machine\": \"<Machine Name>\",\n",
    "        \"month\": \"<Month>\",\n",
    "        \"kpi_analysis\": [\n",
    "            {\n",
    "                \"kpi\": \"<KPI Name>\",\n",
    "                \"analysis\": \"<Analysis of the KPI based on min, max, and average values>\"\n",
    "            },\n",
    "            ...\n",
    "        ],\n",
    "        \"overall_summary\": \"<High-level summary of machine performance>\"\n",
    "    }\n",
    "}\n",
    "\"\"\""
   ]
  },
  {
   "cell_type": "code",
   "execution_count": 36,
   "id": "52a0ad0c",
   "metadata": {},
   "outputs": [],
   "source": [
    "report_prompt = \"\"\"\n",
    "Based on the monthly aggregated KPI data provided, generate a detailed report for the specified machine and month. \n",
    "Use a format that is easily convertible to a pdf or word document.\n",
    "\"\"\""
   ]
  },
  {
   "cell_type": "code",
   "execution_count": 37,
   "id": "3cb92fd4",
   "metadata": {},
   "outputs": [],
   "source": [
    "# More detailed version of the prompt for generating machine reports\n",
    "report_json_prompt2 = \"\"\"\n",
    "You are a specialized assistant that only outputs answers in JSON format.\n",
    "\n",
    "Based on the monthly aggregated KPI data provided, generate a detailed report for the specified machine and month. The report must include the following:\n",
    "\n",
    "1. The name of the machine and the month being analyzed.\n",
    "2. An analysis of each KPI (listed below), comparing its minimum, maximum, and average values. Identify:\n",
    "   - Notable patterns or trends (e.g., consistently high or low values).\n",
    "   - Significant deviations (e.g., high max values with low averages).\n",
    "   - Missing or zero values, and their implications.\n",
    "3. An overall summary of the machine's performance for the month, including conclusions about efficiency, potential issues, and general observations.\n",
    "\n",
    "KPIs to analyze:\n",
    "- average_cycle_time\n",
    "- bad_cycles\n",
    "- consumption\n",
    "- consumption_idle\n",
    "- consumption_working\n",
    "- cost\n",
    "- cost_idle\n",
    "- cost_working\n",
    "- cycles\n",
    "- good_cycles\n",
    "- idle_time\n",
    "- offline_time\n",
    "- power\n",
    "- working_time\n",
    "\n",
    "Respond in the following JSON format:\n",
    "\n",
    "{\n",
    "    \"MachineBehaviorReport\": {\n",
    "        \"machine\": \"<Machine Name>\",\n",
    "        \"month\": \"<Month>\",\n",
    "        \"kpi_analysis\": [\n",
    "            {\n",
    "                \"kpi\": \"<KPI Name>\",\n",
    "                \"analysis\": \"<Analysis of the KPI based on min, max, and average values>\"\n",
    "            },\n",
    "            ...\n",
    "        ],\n",
    "        \"overall_summary\": \"<High-level summary of machine performance>\"\n",
    "    }\n",
    "}\n",
    "\"\"\""
   ]
  },
  {
   "cell_type": "markdown",
   "id": "e4f2f25c",
   "metadata": {},
   "source": [
    "#### Query Classification\n",
    "Given a query we should find a way to choose the proper prompt."
   ]
  },
  {
   "cell_type": "code",
   "execution_count": 48,
   "id": "596239f0",
   "metadata": {},
   "outputs": [],
   "source": [
    "def classify_query(query):\n",
    "    kpi_keywords = [\"KPI\", \"KPIs\", \"metrics\", \"new\", \"suggest\"]\n",
    "    report_keywords = [\"report\", \"behavior\", \"trend\", \"machine\"]\n",
    "\n",
    "    if any(keyword in query.lower() for keyword in kpi_keywords):\n",
    "        return \"kpi\"\n",
    "    elif any(keyword in query.lower() for keyword in report_keywords):\n",
    "        return \"report\"\n",
    "    else:\n",
    "        return \"unknown\""
   ]
  },
  {
   "cell_type": "markdown",
   "id": "981943f7",
   "metadata": {},
   "source": [
    "#### Response Function"
   ]
  },
  {
   "cell_type": "code",
   "execution_count": 49,
   "id": "fc9400c9",
   "metadata": {},
   "outputs": [],
   "source": [
    "def get_response(query):\n",
    "    # Classify the query type\n",
    "    query_type = classify_query(query)\n",
    "    \n",
    "    # Select the appropriate prompt\n",
    "    if query_type == \"kpi\":\n",
    "        prompt = kpi_json_prompt\n",
    "    elif query_type == \"report\":\n",
    "        prompt = report_prompt\n",
    "    else:\n",
    "        prompt = \"\"\" \"\"\"  # no prompt if uncertain / a different type of query was made\n",
    "\n",
    "    # Pass the query and prompt to the model\n",
    "    response = query_engine.query(prompt + \"\\nQuery: \" + query)\n",
    "\n",
    "    # # Validate the response if it's a 'kpi' or 'report' query\n",
    "    # if query_type in [\"kpi\", \"report\"]:\n",
    "    #     try:\n",
    "    #         # Try parsing the response as JSON\n",
    "    #         response_json = json.loads(response)\n",
    "    #         return response_json\n",
    "    #     except json.JSONDecodeError:\n",
    "    #         # Return an error if the response is not valid JSON\n",
    "    #         return {\"error\": \"Invalid JSON response from model.\", \"raw_response\": response}\n",
    "    \n",
    "    # If the query is not of type 'kpi' or 'report', return the raw response\n",
    "    return response\n"
   ]
  },
  {
   "cell_type": "markdown",
   "id": "9ac19e9f",
   "metadata": {},
   "source": [
    "#### Examples of Usage"
   ]
  },
  {
   "cell_type": "code",
   "execution_count": 40,
   "id": "7e452ced",
   "metadata": {},
   "outputs": [
    {
     "name": "stdout",
     "output_type": "stream",
     "text": [
      "**Detailed Report for Large Capacity Cutting Machine 2 in March 2024**\n",
      "\n",
      "**Executive Summary**\n",
      "\n",
      "This report provides an overview of the key performance indicators (KPIs) for Large Capacity Cutting Machine 2 in March 2024. The data is based on monthly aggregated KPI values and offers insights into machine efficiency, productivity, and maintenance requirements.\n",
      "\n",
      "**Machine Performance**\n",
      "\n",
      "The average cycle time for Large Capacity Cutting Machine 2 in March 2024 was 0 hours, indicating optimal machine utilization. However, the minimum value (0) suggests that some machines may have been idle or underutilized during this period.\n",
      "\n",
      "**Productivity Metrics**\n",
      "\n",
      "* **Average Good Cycles**: The average number of good cycles per month was 651.0967741935484.\n",
      "* **Average Cycles**: The average number of cycles per month was 0.7419354838709677, indicating a high level of productivity.\n",
      "* **Good Cycles Percentage**: The percentage of good cycles out of total cycles was 100%, suggesting that all cycles were productive.\n",
      "\n",
      "**Energy Consumption and Costs**\n",
      "\n",
      "* **Consumption Working Average**: The average energy consumption during working hours was 0.00152712326133702 kWh, indicating a low energy consumption rate.\n",
      "* **Cost Working Average**: The average cost associated with working hours was $0.0025818193261147593, which is relatively low compared to other machines.\n",
      "\n",
      "**Maintenance and Downtime**\n",
      "\n",
      "* **Offline Time**: There were no reported offline times for Large Capacity Cutting Machine 2 in March 2024.\n",
      "* **Consumption Idle Average**: The average energy consumption during idle hours was 0.0006513621264504764 kWh, indicating a low energy consumption rate.\n",
      "\n",
      "**Comparison to Baseline Values**\n",
      "\n",
      "The KPI values for Large Capacity Cutting Machine 2 in March 2024 are compared to baseline values as follows:\n",
      "\n",
      "* **Average Cycle Time**: The average cycle time is below the baseline value of 0.1 hours.\n",
      "* **Good Cycles Percentage**: The good cycles percentage is above the baseline value of 90%.\n",
      "* **Consumption Working Average**: The consumption working average is lower than the baseline value of 0.01 kWh.\n",
      "\n",
      "**Conclusion**\n",
      "\n",
      "Based on the KPI data, Large Capacity Cutting Machine 2 performed exceptionally well in March 2024. The low energy consumption rates and high productivity metrics indicate optimal machine utilization and efficiency. However, it is essential to monitor these metrics closely to ensure that the machine continues to perform at this level.\n",
      "\n",
      "**Recommendations**\n",
      "\n",
      "1. Continuously monitor machine performance to identify areas for improvement.\n",
      "2. Conduct regular maintenance checks to prevent downtime and optimize machine efficiency.\n",
      "3. Analyze energy consumption patterns to reduce costs and minimize waste.\n",
      "\n",
      "Note: This report is in a detailed format and can be easily converted to a PDF or Word document format.\n"
     ]
    }
   ],
   "source": [
    "query = \"Generate a performance report for the machine 'Large Capacity Cutting Machine 2' for March 2024.\"\n",
    "response = get_response(query)\n",
    "\n",
    "print(response)  "
   ]
  },
  {
   "cell_type": "markdown",
   "id": "15f36f5f",
   "metadata": {},
   "source": [
    "**Detailed Report for Large Capacity Cutting Machine 2 in March 2024**\n",
    "\n",
    "**Executive Summary**\n",
    "\n",
    "This report provides an overview of the key performance indicators (KPIs) for Large Capacity Cutting Machine 2 in March 2024. The data is based on monthly aggregated KPI values and offers insights into machine efficiency, productivity, and maintenance requirements.\n",
    "\n",
    "**Machine Performance**\n",
    "\n",
    "The average cycle time for Large Capacity Cutting Machine 2 in March 2024 was 0 hours, indicating optimal machine utilization. However, the minimum value (0) suggests that some machines may have been idle or underutilized during this period.\n",
    "\n",
    "**Productivity Metrics**\n",
    "\n",
    "* **Average Good Cycles**: The average number of good cycles per month was 651.0967741935484.\n",
    "* **Average Cycles**: The average number of cycles per month was 0.7419354838709677, indicating a high level of productivity.\n",
    "* **Good Cycles Percentage**: The percentage of good cycles out of total cycles was 100%, suggesting that all cycles were productive.\n",
    "\n",
    "**Energy Consumption and Costs**\n",
    "\n",
    "* **Consumption Working Average**: The average energy consumption during working hours was 0.00152712326133702 kWh, indicating a low energy consumption rate.\n",
    "* **Cost Working Average**: The average cost associated with working hours was $0.0025818193261147593, which is relatively low compared to other machines.\n",
    "\n",
    "**Maintenance and Downtime**\n",
    "\n",
    "* **Offline Time**: There were no reported offline times for Large Capacity Cutting Machine 2 in March 2024.\n",
    "* **Consumption Idle Average**: The average energy consumption during idle hours was 0.0006513621264504764 kWh, indicating a low energy consumption rate.\n",
    "\n",
    "**Comparison to Baseline Values**\n",
    "\n",
    "The KPI values for Large Capacity Cutting Machine 2 in March 2024 are compared to baseline values as follows:\n",
    "\n",
    "* **Average Cycle Time**: The average cycle time is below the baseline value of 0.1 hours.\n",
    "* **Good Cycles Percentage**: The good cycles percentage is above the baseline value of 90%.\n",
    "* **Consumption Working Average**: The consumption working average is lower than the baseline value of 0.01 kWh.\n",
    "\n",
    "**Conclusion**\n",
    "\n",
    "Based on the KPI data, Large Capacity Cutting Machine 2 performed exceptionally well in March 2024. The low energy consumption rates and high productivity metrics indicate optimal machine utilization and efficiency. However, it is essential to monitor these metrics closely to ensure that the machine continues to perform at this level.\n",
    "\n",
    "**Recommendations**\n",
    "\n",
    "1. Continuously monitor machine performance to identify areas for improvement.\n",
    "2. Conduct regular maintenance checks to prevent downtime and optimize machine efficiency.\n",
    "3. Analyze energy consumption patterns to reduce costs and minimize waste.\n",
    "\n",
    "Note: This report is in a detailed format and can be easily converted to a PDF or Word document format."
   ]
  },
  {
   "cell_type": "code",
   "execution_count": 50,
   "id": "97ac46d0",
   "metadata": {},
   "outputs": [
    {
     "name": "stdout",
     "output_type": "stream",
     "text": [
      "{\n",
      "  \"KPIs\": [\n",
      "    {\n",
      "      \"name\": \"Average Cycle Efficiency\",\n",
      "      \"description\": \"Average efficiency of machine cycles, calculated as (good_cycles / cycles) * 100%\",\n",
      "      \"formula\": \"(sum([good_cycles]) / sum([cycles])) * 100\"\n",
      "    },\n",
      "    {\n",
      "      \"name\": \"Idle Time Percentage\",\n",
      "      \"description\": \"Percentage of idle time, calculated as (idle_time / working_time) * 100\",\n",
      "      \"formula\": \"((sum([idle_time]) / sum([working_time])) * 100)\"\n",
      "    },\n",
      "    {\n",
      "      \"name\": \"Power Consumption per Cycle\",\n",
      "      \"description\": \"Average power consumption per cycle, calculated as (consumption / cycles)\",\n",
      "      \"formula\": \"(sum([consumption]) / sum([cycles]))\"\n",
      "    },\n",
      "    {\n",
      "      \"name\": \"Cost per Working Hour\",\n",
      "      \"description\": \"Average cost per working hour, calculated as (cost_working / working_time)\",\n",
      "      \"formula\": \"(sum([cost_working]) / sum([working_time]))\"\n",
      "    }\n",
      "  ]\n",
      "}\n"
     ]
    }
   ],
   "source": [
    "query = \"Suggest new KPIs based on the provided data.\"\n",
    "response = get_response(query)\n",
    "\n",
    "print(response)"
   ]
  },
  {
   "cell_type": "code",
   "execution_count": 51,
   "id": "5d932433",
   "metadata": {},
   "outputs": [
    {
     "name": "stdout",
     "output_type": "stream",
     "text": [
      "{\n",
      "  \"KPIs\": [\n",
      "    {\n",
      "      \"name\": \"production_efficiency\",\n",
      "      \"description\": \"Monitor the ratio of good cycles to total cycles\",\n",
      "      \"formula\": \"(good_cycles / (good_cycles + bad_cycles)) * 100\"\n",
      "    }\n",
      "  ]\n",
      "}\n"
     ]
    }
   ],
   "source": [
    "query = \"Generate a new KPI to monitor the production efficiency.\"\n",
    "response = get_response(query)\n",
    "\n",
    "print(response)"
   ]
  },
  {
   "cell_type": "code",
   "execution_count": 43,
   "id": "9f1c2876",
   "metadata": {},
   "outputs": [
    {
     "name": "stdout",
     "output_type": "stream",
     "text": [
      "**Monthly Aggregated Report for Laser Cutter - March 2024**\n",
      "\n",
      "**Overview**\n",
      "\n",
      "The following report provides an overview of the Laser Cutter's performance in March 2024, based on the monthly aggregated KPI data.\n",
      "\n",
      "**Average Cycle Time**\n",
      "------------------------\n",
      "\n",
      "*   **Total Average Cycle Time:** N/A\n",
      "*   **Machine Performance:** N/A\n",
      "\n",
      "No cycle time data is available for the specified machine and month.\n",
      "\n",
      "**Bad Cycles**\n",
      "-----------------\n",
      "\n",
      "*   **Total Bad Cycles:** N/A\n",
      "*   **Percentage of Total Cycles:** N/A\n",
      "*   **Detailed Breakdown:**\n",
      "\n",
      "    *   Month: March 2024\n",
      "    *   Number of Bad Cycles: 1.2258064516129032\n",
      "    *   Percentage of Total Cycles: 15.28%\n",
      "\n",
      "**Power Consumption**\n",
      "--------------------\n",
      "\n",
      "*   **Total Average Power Consumption:** 9.65957169325545e-05\n",
      "*   **Machine Performance:** N/A\n",
      "\n",
      "No power consumption data is available for the specified machine and month.\n",
      "\n",
      "**Working Time**\n",
      "-----------------\n",
      "\n",
      "*   **Total Working Time:** 0 hours\n",
      "*   **Percentage of Total Time:** N/A\n",
      "*   **Detailed Breakdown:**\n",
      "\n",
      "    *   Month: March 2024\n",
      "    *   Working Time: 0 hours\n",
      "\n",
      "No working time data is available for the specified machine and month.\n",
      "\n",
      "**Consumption (Idle + Working)**\n",
      "---------------------------------\n",
      "\n",
      "*   **Total Average Consumption:** 0.0 units\n",
      "*   **Machine Performance:** N/A\n",
      "\n",
      "No consumption data is available for the specified machine and month.\n",
      "\n",
      "**Good Cycles**\n",
      "-----------------\n",
      "\n",
      "*   **Total Good Cycles:** N/A\n",
      "*   **Percentage of Total Cycles:** N/A\n",
      "*   **Detailed Breakdown:**\n",
      "\n",
      "    *   Month: March 2024\n",
      "    *   Number of Good Cycles: 0.0\n",
      "    *   Percentage of Total Cycles: 0.00%\n",
      "\n",
      "**Cycles**\n",
      "------------\n",
      "\n",
      "*   **Total Average Cycles:** 0.7419354838709677 cycles\n",
      "*   **Machine Performance:** N/A\n",
      "\n",
      "No cycle data is available for the specified machine and month.\n",
      "\n",
      "**Cost**\n",
      "----------\n",
      "\n",
      "*   **Total Cost:** $0.0\n",
      "*   **Machine Performance:** N/A\n",
      "\n",
      "No cost data is available for the specified machine and month.\n",
      "\n",
      "**Consumption Idle**\n",
      "---------------------\n",
      "\n",
      "*   **Total Average Consumption Idle:** 0.0 units\n",
      "*   **Machine Performance:** N/A\n",
      "\n",
      "No consumption idle data is available for the specified machine and month.\n",
      "\n",
      "This report provides an overview of the Laser Cutter's performance in March 2024, based on the monthly aggregated KPI data. The reports indicate that no detailed breakdowns are available for some of the metrics due to a lack of data.\n",
      "\n",
      "**Query: What was the behavior of the Laser Cutter in March 2024?**\n",
      "\n",
      "The report shows that there were some issues with bad cycles and power consumption, but overall, the machine had minimal usage. There is limited data on good cycles, working time, cost, and consumption idle.\n"
     ]
    }
   ],
   "source": [
    "query = \"What was the behavior of the Laser Cutter in March 2024?\"\n",
    "response = get_response(query)\n",
    "\n",
    "print(response)"
   ]
  },
  {
   "cell_type": "code",
   "execution_count": 44,
   "id": "79e76e93",
   "metadata": {},
   "outputs": [
    {
     "name": "stdout",
     "output_type": "stream",
     "text": [
      "The data provided offers a comprehensive view of the performance and operational metrics of the Laser Cutter for the month of March 2024. \n",
      "\n",
      "Some key insights from the data include:\n",
      "\n",
      "- Average power usage during this period was minimal, indicating efficient operation.\n",
      "- The average number of cycles performed was lower than expected but within a reasonable range.\n",
      "- Consumption-related metrics (working and idle) show zero values, suggesting no energy consumption during this month's operations.\n",
      "- Cost calculations reveal an average cost of $0 for both working and idle periods, implying negligible expenses during the evaluated period.\n",
      "\n",
      "However, some metrics are not provided or show maximum values at 0.00, indicating either a lack of data or ideal conditions, respectively. \n",
      "\n",
      "Overall, these statistics point to the Laser Cutter's minimal energy usage, absence of operational costs, and normal operation without any notable issues.\n"
     ]
    }
   ],
   "source": [
    "query = \"General Summarized Overview of the Laser Cutter?\" # this won't be classified as 'report'\n",
    "response = get_response(query)\n",
    "\n",
    "print(response)"
   ]
  },
  {
   "cell_type": "code",
   "execution_count": 45,
   "id": "560f3507",
   "metadata": {},
   "outputs": [
    {
     "name": "stdout",
     "output_type": "stream",
     "text": [
      "**Detailed Report for Laser Cutter, March 2024**\n",
      "\n",
      "**Overview**\n",
      "\n",
      "This report provides an in-depth analysis of the Laser Cutter's performance in March 2024. The data is based on monthly aggregated KPIs.\n",
      "\n",
      "**KPI Summary**\n",
      "\n",
      "* **Average Cycle Time**: 0.00 seconds\n",
      "\t+ Minimum: 0.00 seconds\n",
      "\t+ Maximum: 0.00 seconds\n",
      "* **Bad Cycles**: 0 (no bad cycles reported)\n",
      "* **Working Time**: 0 hours\n",
      "* **Consumption Working**: 0 units\n",
      "* **Cost**: 0 units\n",
      "* **Power**: 9.65957169325545e-05 kW\n",
      "* **Cycles**: 4168.00 cycles\n",
      "* **Good Cycles**: 269.06451612903226 good cycles\n",
      "\n",
      "**Analysis**\n",
      "\n",
      "The Laser Cutter's average cycle time is significantly low, indicating efficient operation. There were no bad cycles reported in March 2024.\n",
      "\n",
      "However, the working time and consumption working values are both zero, suggesting that the machine was idle for the entire month. This may be due to various factors such as maintenance or shutdowns.\n",
      "\n",
      "The cost value is also zero, which could indicate low energy consumption during operation.\n",
      "\n",
      "**Power Consumption**\n",
      "\n",
      "The average power consumption is 9.65957169325545e-05 kW, with a maximum of 0.00029897155398709083 kW and a minimum of 0.00 kW.\n",
      "\n",
      "**Conclusion**\n",
      "\n",
      "The Laser Cutter performed well in March 2024, with efficient operation and low energy consumption. However, the machine was idle for most of the month, which may have implications for production and maintenance planning.\n",
      "\n",
      "---\n",
      "\n",
      "**General Behavior Report: Riveting Machine and Laser Cutter, March 2024**\n",
      "\n",
      "This report provides an overview of the general behavior of the Riveting Machine and Laser Cutter in March 2024 based on monthly aggregated KPIs.\n",
      "\n",
      "**Riveting Machine Summary**\n",
      "\n",
      "* **Average Cycle Time**: 0.00 seconds\n",
      "\t+ Minimum: 0.00 seconds\n",
      "\t+ Maximum: 0.00 seconds\n",
      "* **Bad Cycles**: 0 (no bad cycles reported)\n",
      "* **Working Time**: 0 hours\n",
      "* **Consumption Working**: 0 units\n",
      "* **Cost**: 0 units\n",
      "* **Power**: 1.6772730097130625e-05 kW\n",
      "* **Cycles**: 0.00 cycles\n",
      "* **Good Cycles**: Not available\n",
      "\n",
      "**Analysis**\n",
      "\n",
      "The Riveting Machine had zero bad cycles reported, indicating efficient operation.\n",
      "\n",
      "However, the working time and consumption working values are both zero, suggesting that the machine was idle for most of the month.\n",
      "\n",
      "The cost value is also zero, which could indicate low energy consumption during operation.\n",
      "\n",
      "**Power Consumption**\n",
      "\n",
      "The average power consumption is 1.6772730097130625e-05 kW, with a maximum of 7.174105581709327e-05 kW and a minimum of 0.00 kW.\n",
      "\n",
      "**Comparison**\n",
      "\n",
      "Both the Riveting Machine and Laser Cutter had zero bad cycles reported and zero cost values in March 2024, indicating efficient operation. However, the Riveting Machine had significantly lower power consumption than the Laser Cutter.\n",
      "\n",
      "**Conclusion**\n",
      "\n",
      "The Riveting Machine and Laser Cutter both performed well in March 2024, with efficient operation and low energy consumption. The Riveting Machine had slightly better power efficiency compared to the Laser Cutter.\n",
      "\n",
      "Note: This report is generated based on the provided context information and may not be comprehensive or entirely accurate without additional data.\n"
     ]
    }
   ],
   "source": [
    "query = \"Generate a report on the general behavior of the Riveting Machine and Laser Cutter in March 2024.\"\n",
    "response = get_response(query)\n",
    "\n",
    "print(response)"
   ]
  },
  {
   "cell_type": "code",
   "execution_count": 46,
   "id": "a6d4eb76",
   "metadata": {},
   "outputs": [
    {
     "name": "stdout",
     "output_type": "stream",
     "text": [
      "**Detailed Report for Large Capacity Cutting Machine 2 - March 2024**\n",
      "\n",
      "**Introduction**\n",
      "----------------\n",
      "\n",
      "This report provides an overview of the key performance indicators (KPIs) for Large Capacity Cutting Machine 2 in March 2024. The data is aggregated from various sources and is subject to quality control measures.\n",
      "\n",
      "**Average Cycle Time**\n",
      "----------------------\n",
      "\n",
      "The average cycle time for Large Capacity Cutting Machine 2 in March 2024 is:\n",
      "\n",
      "*   Average: **0.0006513621264504764** minutes\n",
      "*   Minimum: **0.0** minutes\n",
      "*   Maximum: **0.03249318468435469** minutes\n",
      "\n",
      "**Bad Cycles**\n",
      "----------------\n",
      "\n",
      "The average number of bad cycles for Large Capacity Cutting Machine 2 in March 2024 is:\n",
      "\n",
      "*   Average: **0.0006513621264504764**\n",
      "\n",
      "**Consumption Working**\n",
      "----------------------\n",
      "\n",
      "The average consumption working time for Large Capacity Cutting Machine 2 in March 2024 is:\n",
      "\n",
      "*   Average:\n",
      "    *   Value: **0.0** minutes\n",
      "    *   Total consumption working hours: **0.0** hours\n",
      "*   Maximum:\n",
      "    *   Value: **18860.0** minutes\n",
      "\n",
      "**Good Cycles**\n",
      "----------------\n",
      "\n",
      "The average number of good cycles for Large Capacity Cutting Machine 2 in March 2024 is:\n",
      "\n",
      "*   Average: **651.0967741935484**\n",
      "\n",
      "**Comparison with Other Machines**\n",
      "-----------------------------------\n",
      "\n",
      "For comparison, here are the KPIs for other machines:\n",
      "\n",
      "| Machine | Average Cycle Time | Bad Cycles | Consumption Working | Good Cycles |\n",
      "| --- | --- | --- | --- | --- |\n",
      "| Medium Capacity Cutting Machine 1 | 0.0012660284954159283 minutes | 0.0000540879474548954 | 15.48076923076923 hours | 0.0010540869556586408 |\n",
      "| Riveting Machine | 0.0 minutes | 0.0 | 0.0 hours | 0.0 |\n",
      "\n",
      "Note that this report only includes data for Large Capacity Cutting Machine 2 and does not provide a comprehensive overview of all machines.\n",
      "\n",
      "**Conclusion**\n",
      "----------\n",
      "\n",
      "This report provides an overview of the KPIs for Large Capacity Cutting Machine 2 in March 2024. The data indicates that the machine has an average cycle time of **0.0006513621264504764** minutes, with no bad cycles and a total consumption working time of **0.0** hours.\n",
      "\n",
      "There are five machines in total.\n",
      "\n",
      "---\n",
      "\n",
      "I've generated a detailed report for Large Capacity Cutting Machine 2, including its KPIs, and compared it to other machines. I also answered the question about the number of machines present.\n"
     ]
    }
   ],
   "source": [
    "query = \"How many machines are there?\"\n",
    "response = get_response(query)\n",
    "\n",
    "print(response)"
   ]
  }
 ],
 "metadata": {
  "kernelspec": {
   "display_name": "rag",
   "language": "python",
   "name": "python3"
  },
  "language_info": {
   "codemirror_mode": {
    "name": "ipython",
    "version": 3
   },
   "file_extension": ".py",
   "mimetype": "text/x-python",
   "name": "python",
   "nbconvert_exporter": "python",
   "pygments_lexer": "ipython3",
   "version": "3.9.20"
  }
 },
 "nbformat": 4,
 "nbformat_minor": 5
}
