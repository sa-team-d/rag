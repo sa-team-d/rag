{
 "cells": [
  {
   "cell_type": "code",
   "execution_count": 1,
   "metadata": {},
   "outputs": [],
   "source": [
    "import os\n",
    "import json\n",
    "from pathlib import Path\n",
    "from llama_index.llms.ollama import Ollama\n",
    "from llama_index.core import VectorStoreIndex\n",
    "from llama_index.core.embeddings import resolve_embed_model\n",
    "from llama_index.readers.json import JSONReader\n",
    "from llama_index.core.node_parser import JSONNodeParser\n",
    "from llama_index.readers.file import FlatReader"
   ]
  },
  {
   "cell_type": "code",
   "execution_count": 2,
   "metadata": {},
   "outputs": [],
   "source": [
    "embed_model = resolve_embed_model(\"local:BAAI/bge-m3\")"
   ]
  },
  {
   "cell_type": "code",
   "execution_count": 3,
   "metadata": {},
   "outputs": [],
   "source": [
    "# set a path to folder containing all the json files\n",
    "DATA_PATH = \"./data/\"\n",
    "\n",
    "# setting up reader, parser, and llm\n",
    "reader = JSONReader()\n",
    "\n",
    "# parser = JSONNodeParser()     # if we want to split the documents into nodes\n",
    "llm = Ollama(model=\"llama3.2\", request_timeout=180.0) "
   ]
  },
  {
   "cell_type": "code",
   "execution_count": 4,
   "metadata": {},
   "outputs": [],
   "source": [
    "\n",
    "# creating the documents out of the json files\n",
    "documents = []\n",
    "for filename in os.listdir(DATA_PATH):\n",
    "    if filename.endswith(\".json\"):\n",
    "        file_path = os.path.join(DATA_PATH, filename)\n",
    "        documents.extend(FlatReader().load_data(Path(file_path)))     # if we want to load the data to then split it into nodes\n",
    "        # documents.extend(reader.load_data(input_file=file_path))\n",
    "parser = JSONNodeParser(include_metadata=True,\n",
    "                        include_prev_next_rel=True)\n",
    "\n",
    "# nodes = parser.get_nodes_from_documents(documents)            # if we want to split documents into nodes\n"
   ]
  },
  {
   "cell_type": "code",
   "execution_count": 5,
   "metadata": {},
   "outputs": [
    {
     "data": {
      "text/plain": [
       "6"
      ]
     },
     "execution_count": 5,
     "metadata": {},
     "output_type": "execute_result"
    }
   ],
   "source": [
    "len(documents)"
   ]
  },
  {
   "cell_type": "markdown",
   "metadata": {},
   "source": [
    "### Document splitting"
   ]
  },
  {
   "cell_type": "code",
   "execution_count": null,
   "metadata": {},
   "outputs": [
    {
     "name": "stderr",
     "output_type": "stream",
     "text": [
      "[nltk_data] Error loading punkt_tab: <urlopen error [SSL:\n",
      "[nltk_data]     CERTIFICATE_VERIFY_FAILED] certificate verify failed:\n",
      "[nltk_data]     unable to get local issuer certificate (_ssl.c:1000)>\n"
     ]
    }
   ],
   "source": [
    "#import nest_asyncio\n",
    "#import nltk\n",
    "#nltk.download('punkt_tab')\n",
    "#nest_asyncio.apply()"
   ]
  },
  {
   "cell_type": "code",
   "execution_count": 6,
   "metadata": {},
   "outputs": [
    {
     "name": "stderr",
     "output_type": "stream",
     "text": [
      "/Users/lavo/Desktop/Projects/rag/.venv/lib/python3.12/site-packages/pydantic/_internal/_fields.py:132: UserWarning: Field \"model_name\" in EntityExtractor has conflict with protected namespace \"model_\".\n",
      "\n",
      "You may be able to resolve this warning by setting `model_config['protected_namespaces'] = ()`.\n",
      "  warnings.warn(\n"
     ]
    },
    {
     "data": {
      "application/vnd.jupyter.widget-view+json": {
       "model_id": "86c806fb79f84068b4ba68a0c69e9592",
       "version_major": 2,
       "version_minor": 0
      },
      "text/plain": [
       "Parsing nodes:   0%|          | 0/6 [00:00<?, ?it/s]"
      ]
     },
     "metadata": {},
     "output_type": "display_data"
    }
   ],
   "source": [
    "from llama_index.core.node_parser import SentenceSplitter\n",
    "from llama_index.core.extractors import (\n",
    "    SummaryExtractor,\n",
    "    QuestionsAnsweredExtractor,\n",
    "    TitleExtractor,\n",
    "    KeywordExtractor,\n",
    ")\n",
    "from llama_index.extractors.entity import EntityExtractor\n",
    "\n",
    "from llama_index.core.node_parser import TokenTextSplitter\n",
    "\n",
    "from llama_index.core.ingestion import IngestionPipeline\n",
    "\n",
    "\n",
    "text_splitter = TokenTextSplitter(\n",
    "    # separator=\" \", \n",
    "    chunk_size=512, \n",
    "    chunk_overlap=128\n",
    ")\n",
    "\n",
    "#if you wanna create some custom extractor\n",
    "\n",
    "# class CustomExtractor(BaseExtractor):\n",
    "#     def extract(self, nodes):\n",
    "#         metadata_list = [\n",
    "#             {\n",
    "#                 \"custom\": (\n",
    "#                     node.metadata[\"document_title\"]\n",
    "#                     + \"\\n\"\n",
    "#                     + node.metadata[\"excerpt_keywords\"]\n",
    "#                 )\n",
    "#             }\n",
    "#             for node in nodes\n",
    "#         ]\n",
    "#         return metadata_list\n",
    "\n",
    "transformations = [\n",
    "    text_splitter,\n",
    "    # TitleExtractor(nodes=3,llm=llm),\n",
    "    # QuestionsAnsweredExtractor(questions=2,llm=llm),\n",
    "    # SummaryExtractor(summaries=[\"prev\", \"self\"],llm=llm),\n",
    "    # KeywordExtractor(keywords=4,llm=llm),\n",
    "    #EntityExtractor(prediction_threshold=0.5,llm=llm),\n",
    "]\n",
    "\n",
    "\n",
    "pipeline = IngestionPipeline(\n",
    "    transformations=transformations\n",
    ")\n",
    "\n",
    "nodes = pipeline.run(\n",
    "    documents=documents,\n",
    "    in_place=True,\n",
    "    show_progress=True,\n",
    ")"
   ]
  },
  {
   "cell_type": "code",
   "execution_count": 7,
   "metadata": {},
   "outputs": [
    {
     "data": {
      "text/plain": [
       "108"
      ]
     },
     "execution_count": 7,
     "metadata": {},
     "output_type": "execute_result"
    }
   ],
   "source": [
    "len(nodes)"
   ]
  },
  {
   "cell_type": "code",
   "execution_count": 8,
   "metadata": {},
   "outputs": [],
   "source": [
    "for node in nodes:\n",
    "    node_embedding = embed_model.get_text_embedding(\n",
    "        node.get_content(metadata_mode=\"all\")\n",
    "    )\n",
    "    node.embedding = node_embedding"
   ]
  },
  {
   "cell_type": "code",
   "execution_count": null,
   "metadata": {},
   "outputs": [],
   "source": []
  }
 ],
 "metadata": {
  "kernelspec": {
   "display_name": ".venv",
   "language": "python",
   "name": "python3"
  },
  "language_info": {
   "codemirror_mode": {
    "name": "ipython",
    "version": 3
   },
   "file_extension": ".py",
   "mimetype": "text/x-python",
   "name": "python",
   "nbconvert_exporter": "python",
   "pygments_lexer": "ipython3",
   "version": "3.12.0"
  }
 },
 "nbformat": 4,
 "nbformat_minor": 2
}
